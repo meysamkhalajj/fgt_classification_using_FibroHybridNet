{
 "cells": [
  {
   "cell_type": "markdown",
   "source": [
    "# Import Necessary Libraries"
   ],
   "metadata": {
    "collapsed": false
   },
   "id": "698c93128e55a832"
  },
  {
   "cell_type": "code",
   "source": [
    "import os\n",
    "import shutil\n",
    "import pandas as pd\n",
    "import pyreadstat\n",
    "import numpy as np\n",
    "from PIL import Image\n",
    "import pydicom\n",
    "import matplotlib.pyplot as plt\n",
    "import cv2\n",
    "from skimage import exposure\n",
    "from skimage import filters\n",
    "from sklearn.model_selection import train_test_split\n",
    "import SimpleITK as sitk"
   ],
   "metadata": {
    "collapsed": false,
    "ExecuteTime": {
     "end_time": "2025-03-13T08:04:56.606847Z",
     "start_time": "2025-03-13T08:04:52.245175Z"
    }
   },
   "id": "c2ccaa4575fc1a7e",
   "outputs": [],
   "execution_count": 1
  },
  {
   "cell_type": "markdown",
   "source": [
    "# Define Necessary Functions"
   ],
   "metadata": {
    "collapsed": false
   },
   "id": "283f598d158f44df"
  },
  {
   "cell_type": "code",
   "source": [
    "def count_files_in_folder(folder_path):\n",
    "\n",
    "  file_count = 0\n",
    "  for root, dirs, files in os.walk(folder_path):\n",
    "    file_count += len(files)\n",
    "    break  \n",
    "\n",
    "  return file_count"
   ],
   "metadata": {
    "collapsed": false,
    "ExecuteTime": {
     "end_time": "2025-02-24T14:15:51.398946Z",
     "start_time": "2025-02-24T14:15:51.382837Z"
    }
   },
   "id": "448ee11ca6e14390",
   "outputs": [],
   "execution_count": 5
  },
  {
   "cell_type": "code",
   "source": [
    "def dicom_to_nifti(origin_path, destination_path):\n",
    "    folder_names = []\n",
    "    folder_names = get_folder_names(origin_path, folder_names)\n",
    "    for idx, name in enumerate(folder_names):\n",
    "        print(f\"Patient {idx}'s data was processed.\")\n",
    "        scan_origin_path = origin_path + name + '/FGT'\n",
    "        scan_destination_path = destination_path + name + '.nii.gz'\n",
    "        reader = sitk.ImageSeriesReader()\n",
    "        dicom_names = reader.GetGDCMSeriesFileNames(scan_origin_path)\n",
    "        reader.SetFileNames(dicom_names)\n",
    "        image = reader.Execute()\n",
    "        sitk.WriteImage(image, scan_destination_path)"
   ],
   "metadata": {
    "collapsed": false,
    "ExecuteTime": {
     "end_time": "2025-02-24T14:15:51.798444Z",
     "start_time": "2025-02-24T14:15:51.782324Z"
    }
   },
   "id": "434644703a74f630",
   "outputs": [],
   "execution_count": 6
  },
  {
   "cell_type": "code",
   "source": [
    "def move_folders(folder_list, source_directory, destination_directory):\n",
    "    for folder_name in folder_list:\n",
    "        folder_name = str(folder_name)\n",
    "        source_path = os.path.join(source_directory, folder_name)\n",
    "        destination_path = os.path.join(destination_directory, folder_name)\n",
    "        shutil.move(source_path, destination_path)\n",
    "        print(f\"Moved folder '{folder_name}' from '{source_directory}' to '{destination_directory}'\")"
   ],
   "metadata": {
    "collapsed": false,
    "ExecuteTime": {
     "end_time": "2025-02-24T14:15:52.117437Z",
     "start_time": "2025-02-24T14:15:52.103702Z"
    }
   },
   "id": "4b049b74b4631be0",
   "outputs": [],
   "execution_count": 7
  },
  {
   "cell_type": "code",
   "source": [
    "def create_pid_folder(parent_directory, pid, data_info):\n",
    "    for folder_name in pid:\n",
    "        side = np.array(data_info[data_info.code==int(folder_name)].Side)[0]\n",
    "        \n",
    "        if (int(folder_name) in wrong_data) or (side=='N'):\n",
    "            continue\n",
    "        else:\n",
    "            if type(folder_name) == str:\n",
    "                folder_path = os.path.join(parent_directory, folder_name)\n",
    "            else:\n",
    "                folder_path = os.path.join(parent_directory, str(folder_name))\n",
    "                \n",
    "            os.makedirs(folder_path, exist_ok=True)"
   ],
   "metadata": {
    "collapsed": false,
    "ExecuteTime": {
     "end_time": "2025-02-24T14:15:52.400633Z",
     "start_time": "2025-02-24T14:15:52.384907Z"
    }
   },
   "id": "547bf502aed55faa",
   "outputs": [],
   "execution_count": 8
  },
  {
   "cell_type": "code",
   "source": [
    "def create_pid_folder_without_info(parent_directory, pid):\n",
    "    for folder_name in pid:\n",
    "        \n",
    "        if int(folder_name) in wrong_data:\n",
    "            continue\n",
    "        else:\n",
    "            if type(folder_name) == str:\n",
    "                folder_path = os.path.join(parent_directory, folder_name)\n",
    "            else:\n",
    "                folder_path = os.path.join(parent_directory, str(folder_name))\n",
    "                \n",
    "            os.makedirs(folder_path, exist_ok=True)\n",
    "\n",
    "            fgt_folder_path = os.path.join(folder_path, 'FGT')\n",
    "            bpe_folder_path = os.path.join(folder_path, 'BPE')\n",
    "            os.makedirs(fgt_folder_path, exist_ok=True)\n",
    "            os.makedirs(bpe_folder_path, exist_ok=True)"
   ],
   "metadata": {
    "collapsed": false,
    "ExecuteTime": {
     "end_time": "2025-02-24T14:15:52.710103Z",
     "start_time": "2025-02-24T14:15:52.696320Z"
    }
   },
   "id": "8d301d3d0a6713d0",
   "outputs": [],
   "execution_count": 9
  },
  {
   "cell_type": "code",
   "source": [
    "def automated_copy(origin_directory, destination_directory, pid, fgt_idx, bpe_idx):\n",
    "    present_data = []\n",
    "    present_data = get_folder_names(destination_directory, present_data)\n",
    "    create_pid_folder_without_info(destination_directory, pid)\n",
    "    unique_idx = []\n",
    "    img_folder_names = []\n",
    "    for idx3, patient_id in enumerate(pid):\n",
    "        if (str(patient_id) in present_data) or (int(patient_id) in wrong_data):\n",
    "            continue\n",
    "        else:\n",
    "            unique_idx.append(idx3)\n",
    "            dcm_directory = origin_directory + str(patient_id) + '/IMAGE/DCM/'\n",
    "            for k, (root, dirs, files) in enumerate(os.walk(dcm_directory)):\n",
    "                if k == 0:\n",
    "                    img_folder_names.append(dcm_directory + str(dirs[k]))\n",
    "\n",
    "    c = 0           \n",
    "    for idx1, patient_id in enumerate(pid):\n",
    "        if int(patient_id) in wrong_data:\n",
    "            continue\n",
    "        else:\n",
    "            print(f\"i={idx1} | pid={patient_id}\")\n",
    "            if idx1 not in unique_idx:\n",
    "                print(f\"{idx1} is not in the unique idx\")\n",
    "                continue\n",
    "            else:\n",
    "                start_fgt, end_fgt = fgt_idx[idx1]\n",
    "                start_bpe, end_bpe = bpe_idx[idx1]\n",
    "                \n",
    "                difference_fgt = end_fgt - start_fgt\n",
    "                difference_bpe = end_bpe - start_bpe\n",
    "                if difference_fgt != difference_bpe:\n",
    "                    print(\"Slice Number is Different for FGT and BPE\")\n",
    "                    break\n",
    "                destination_fgt_folder = destination_directory + str(patient_id) + '/FGT'\n",
    "                destination_bpe_folder = destination_directory + str(patient_id) + '/BPE'\n",
    "                for j1 in range(start_fgt, end_fgt+1):\n",
    "                    if len(str(j1)) == 4:\n",
    "                        fgt_img_directory = img_folder_names[c] + '/I000' + str(j1)\n",
    "                    else:\n",
    "                        fgt_img_directory = img_folder_names[c] + '/I0000' + str(j1)\n",
    "                    shutil.copy(fgt_img_directory, destination_fgt_folder)\n",
    "                    \n",
    "                for j2 in range(start_bpe, end_bpe+1):\n",
    "                    if len(str(j2)) == 4:\n",
    "                        bpe_img_directory = img_folder_names[c] + '/I000' + str(j2)\n",
    "                    else:\n",
    "                        bpe_img_directory = img_folder_names[c] + '/I0000' + str(j2)\n",
    "                    shutil.copy(bpe_img_directory, destination_bpe_folder)\n",
    "                c += 1"
   ],
   "metadata": {
    "collapsed": false,
    "ExecuteTime": {
     "end_time": "2025-02-24T14:15:53.036619Z",
     "start_time": "2025-02-24T14:15:53.024202Z"
    }
   },
   "id": "1060d2719217762",
   "outputs": [],
   "execution_count": 10
  },
  {
   "cell_type": "code",
   "source": [
    "# Each folder name is a string.\n",
    "def get_folder_names(path, folders):\n",
    "    for entry in os.scandir(path):\n",
    "        if entry.is_dir():\n",
    "            folders.append(entry.name)\n",
    "    return folders"
   ],
   "metadata": {
    "collapsed": false,
    "ExecuteTime": {
     "end_time": "2025-02-24T14:15:53.455470Z",
     "start_time": "2025-02-24T14:15:53.439727Z"
    }
   },
   "id": "f8c0282a1ae90a0b",
   "outputs": [],
   "execution_count": 11
  },
  {
   "cell_type": "code",
   "source": [
    "# Each file name is a string.\n",
    "def get_file_names(files_path):\n",
    "    files_names = os.listdir(files_path)\n",
    "    return files_names"
   ],
   "metadata": {
    "collapsed": false,
    "ExecuteTime": {
     "end_time": "2025-02-24T14:15:53.768741Z",
     "start_time": "2025-02-24T14:15:53.754154Z"
    }
   },
   "id": "f32d663f551f40cb",
   "outputs": [],
   "execution_count": 12
  },
  {
   "cell_type": "code",
   "source": [
    "def slice_checker(fgt_list, bpe_list, pid_list):\n",
    "    for i in range(len(fgt_list)):\n",
    "        start_fgt, end_fgt = fgt_list[i]\n",
    "        start_bpe, end_bpe = bpe_list[i]\n",
    "        \n",
    "        difference_fgt = end_fgt - start_fgt\n",
    "        difference_bpe = end_bpe - start_bpe\n",
    "        if difference_fgt != difference_bpe:\n",
    "            print(f\"Slice Number is Different for FGT and BPE of {pid_list[i]}\")"
   ],
   "metadata": {
    "collapsed": false,
    "ExecuteTime": {
     "end_time": "2025-02-24T14:15:54.134586Z",
     "start_time": "2025-02-24T14:15:54.118741Z"
    }
   },
   "id": "fe52b62d0ccf3bba",
   "outputs": [],
   "execution_count": 13
  },
  {
   "cell_type": "code",
   "source": [
    "def normalize_threshold_rotate(dicom_img_path):\n",
    "    ds = pydicom.dcmread(dicom_img_path)\n",
    "    pixel_array = ds.pixel_array\n",
    "\n",
    "    pixel_array = exposure.rescale_intensity(pixel_array, out_range=np.uint8)\n",
    "    \n",
    "    t = filters.threshold_li(pixel_array)\n",
    "    pixel_array[pixel_array<t] = 0\n",
    "    \n",
    "    pixel_array = np.flipud(pixel_array)\n",
    "    # pixel_array = np.rot90(pixel_array, k=2)\n",
    "    \n",
    "    return pixel_array"
   ],
   "metadata": {
    "collapsed": false,
    "ExecuteTime": {
     "end_time": "2025-02-24T14:15:54.455719Z",
     "start_time": "2025-02-24T14:15:54.439716Z"
    }
   },
   "id": "7d698d2576611e7",
   "outputs": [],
   "execution_count": 14
  },
  {
   "cell_type": "code",
   "source": [
    "def basic_preprocess(dicom_img_path, output_shape=None):\n",
    "    final_image = normalize_threshold_rotate(dicom_img_path)  \n",
    "    if output_shape != None:\n",
    "        final_image = cv2.resize(src=final_image, dsize=output_shape, interpolation=cv2.INTER_CUBIC)\n",
    "    \n",
    "    return final_image"
   ],
   "metadata": {
    "collapsed": false,
    "ExecuteTime": {
     "end_time": "2025-02-24T14:15:54.795760Z",
     "start_time": "2025-02-24T14:15:54.790287Z"
    }
   },
   "id": "5a82d3545cbb15fb",
   "outputs": [],
   "execution_count": 15
  },
  {
   "cell_type": "code",
   "source": [
    "def dicom_to_png_no_preprocessed(files_path, destination_path, data_info, data_selection_index=0, percentiles=(40, 50, 60), out_shape=None):\n",
    "    final_folder_names = []\n",
    "    final_folder_names = get_folder_names(files_path, final_folder_names)  # Folder names have str data type\n",
    "    final_folder_names.sort()\n",
    "    \n",
    "    for p_idx, pid in enumerate(final_folder_names):\n",
    "        \n",
    "        side = np.array(data_info[data_info.code==int(pid)].Side)[0]\n",
    "        \n",
    "        if (int(pid) in wrong_data) or side=='N':\n",
    "            continue\n",
    "            \n",
    "        else:\n",
    "            print(f\"index: {p_idx}  |  pid: {pid}\")\n",
    "            fgt_path = files_path + pid + '/FGT/'\n",
    "            bpe_path = files_path + pid + '/BPE/'\n",
    "            \n",
    "            fgt_dicom_names = get_file_names(fgt_path)  \n",
    "            bpe_dicom_names = get_file_names(bpe_path)  \n",
    "            fgt_dicom_names.sort()\n",
    "            bpe_dicom_names.sort()\n",
    "            \n",
    "            index_range = np.arange(len(fgt_dicom_names))\n",
    "            first_percentile_index = int(np.round(np.percentile(index_range, percentiles[0])))\n",
    "            second_percentile_index = int(np.round(np.percentile(index_range, percentiles[1])))\n",
    "            third_percentile_index = int(np.round(np.percentile(index_range, percentiles[2])))\n",
    "            middle_index = len(fgt_dicom_names)//2\n",
    "            \n",
    "            create_pid_folder(destination_path, final_folder_names, data_info)\n",
    "            \n",
    "            if data_selection_index==0:\n",
    "                for idx, data_index in enumerate(index_range):\n",
    "                    fgt_file_path = fgt_path + fgt_dicom_names[data_index]\n",
    "                    fgt_destination_path = destination_path + pid + '/' + str(idx) + '.png'\n",
    "                    img = basic_preprocess(dicom_img_path=fgt_file_path, output_shape=out_shape)\n",
    "                    save_array_as_image(img, fgt_destination_path, file_format='PNG')\n",
    "                    \n",
    "            elif data_selection_index==1:\n",
    "                fgt_file_path_middle = fgt_path + fgt_dicom_names[middle_index]\n",
    "                img_middle = basic_preprocess(dicom_img_path=fgt_file_path_middle, output_shape=out_shape)\n",
    "                save_array_as_image(img_middle, destination_path + pid + '/' + '0.png', file_format='PNG')\n",
    "                \n",
    "            elif data_selection_index==2:\n",
    "               \n",
    "                fgt_file_path_first_percentile = fgt_path + fgt_dicom_names[first_percentile_index]\n",
    "                fgt_file_path_second_percentile = fgt_path + fgt_dicom_names[second_percentile_index]\n",
    "                fgt_file_path_third_percentile = fgt_path + fgt_dicom_names[third_percentile_index]\n",
    "                \n",
    "                img_first_percentile = basic_preprocess(dicom_img_path=fgt_file_path_first_percentile, output_shape=out_shape)\n",
    "                img_second_percentile = basic_preprocess(dicom_img_path=fgt_file_path_second_percentile, output_shape=out_shape)\n",
    "                img_third_percentile = basic_preprocess(dicom_img_path=fgt_file_path_third_percentile, output_shape=out_shape)\n",
    "                \n",
    "                save_array_as_image(img_first_percentile, destination_path + pid + '/' + '0.png', file_format='PNG')\n",
    "                save_array_as_image(img_second_percentile, destination_path + pid + '/' + '1.png', file_format='PNG')\n",
    "                save_array_as_image(img_third_percentile, destination_path + pid + '/' + '2.png', file_format='PNG')\n",
    "                \n",
    "            else:\n",
    "                first_percentile_index = int(np.round(np.percentile(index_range, 40)))\n",
    "                second_percentile_index = int(np.round(np.percentile(index_range, 45)))\n",
    "                third_percentile_index = int(np.round(np.percentile(index_range, 50)))\n",
    "                fourth_percentile_index = int(np.round(np.percentile(index_range, 55)))\n",
    "                fifth_percentile_index = int(np.round(np.percentile(index_range, 60)))\n",
    "                \n",
    "                fgt_file_path_first_percentile = fgt_path + fgt_dicom_names[first_percentile_index]\n",
    "                fgt_file_path_second_percentile = fgt_path + fgt_dicom_names[second_percentile_index]\n",
    "                fgt_file_path_third_percentile = fgt_path + fgt_dicom_names[third_percentile_index]\n",
    "                fgt_file_path_fourth_percentile = fgt_path + fgt_dicom_names[fourth_percentile_index]\n",
    "                fgt_file_path_fifth_percentile = fgt_path + fgt_dicom_names[fifth_percentile_index]\n",
    "                \n",
    "                img_first_percentile = basic_preprocess(dicom_img_path=fgt_file_path_first_percentile, output_shape=out_shape)\n",
    "                img_second_percentile = basic_preprocess(dicom_img_path=fgt_file_path_second_percentile, output_shape=out_shape)\n",
    "                img_third_percentile = basic_preprocess(dicom_img_path=fgt_file_path_third_percentile, output_shape=out_shape)\n",
    "                img_fourth_percentile = basic_preprocess(dicom_img_path=fgt_file_path_fourth_percentile, output_shape=out_shape)\n",
    "                img_fifth_percentile = basic_preprocess(dicom_img_path=fgt_file_path_fifth_percentile, output_shape=out_shape)\n",
    "                \n",
    "                save_array_as_image(img_first_percentile, destination_path + pid + '/' + '0.png', file_format='PNG')\n",
    "                save_array_as_image(img_second_percentile, destination_path + pid + '/' + '1.png', file_format='PNG')\n",
    "                save_array_as_image(img_third_percentile, destination_path + pid + '/' + '2.png', file_format='PNG')\n",
    "                save_array_as_image(img_fourth_percentile, destination_path + pid + '/' + '3.png', file_format='PNG')\n",
    "                save_array_as_image(img_fifth_percentile, destination_path + pid + '/' + '4.png', file_format='PNG')"
   ],
   "metadata": {
    "collapsed": false,
    "ExecuteTime": {
     "end_time": "2025-02-24T14:15:55.201990Z",
     "start_time": "2025-02-24T14:15:55.188725Z"
    }
   },
   "id": "391ba4051314d156",
   "outputs": [],
   "execution_count": 16
  },
  {
   "cell_type": "code",
   "source": [
    "def save_array_as_image(array, file_path, file_format='PNG'):\n",
    "    image = Image.fromarray(array)  # Convert the NumPy array to PIL image\n",
    "    image.save(file_path, format=file_format)  # Save the image file"
   ],
   "metadata": {
    "collapsed": false,
    "ExecuteTime": {
     "end_time": "2025-02-24T14:15:55.593168Z",
     "start_time": "2025-02-24T14:15:55.586948Z"
    }
   },
   "id": "f6889bcbb26ac55a",
   "outputs": [],
   "execution_count": 17
  },
  {
   "cell_type": "code",
   "source": [
    "def sobel_edge_detection(img):\n",
    "\n",
    "  # Apply Gaussian blur (optional)\n",
    "  blurred = cv2.GaussianBlur(img, (3, 3), 0)\n",
    "\n",
    "  # Sobel edge detection\n",
    "  sobelx = cv2.Sobel(blurred, cv2.CV_64F, 1, 0, ksize=3)\n",
    "  sobely = cv2.Sobel(blurred, cv2.CV_64F, 0, 1, ksize=3)\n",
    "\n",
    "  # Calculate the gradient magnitude\n",
    "  edges = cv2.magnitude(sobelx, sobely)\n",
    "\n",
    "  # Normalize the image for display\n",
    "  edges = cv2.normalize(edges, edges, 0, 255, cv2.NORM_MINMAX, cv2.CV_8U)\n",
    "\n",
    "  return edges"
   ],
   "metadata": {
    "collapsed": false,
    "ExecuteTime": {
     "end_time": "2025-02-24T14:15:56.172771Z",
     "start_time": "2025-02-24T14:15:56.158985Z"
    }
   },
   "id": "74d8bea071f4c28e",
   "outputs": [],
   "execution_count": 18
  },
  {
   "cell_type": "code",
   "source": [
    "def p_finder(img, p3_row_range=165):\n",
    "    img_row, img_column = img.shape\n",
    "    \n",
    "    # Find P1\n",
    "    p1 = [0, 0]\n",
    "    flag = False\n",
    "    for row in range(img_row):\n",
    "        if flag:\n",
    "            break\n",
    "            \n",
    "        for column in range(img_column//2):\n",
    "            if img[row, column] != 0:\n",
    "                p1 = [row, column]\n",
    "                flag = True\n",
    "                break\n",
    "            \n",
    "    # Find P2\n",
    "    p2 = [0, 0]\n",
    "    flag = False\n",
    "    for row in range(img_row):\n",
    "        if flag:\n",
    "            break\n",
    "    \n",
    "        for column in range(img_column-1, img_column//2, -1):\n",
    "            if img[row, column] != 0:\n",
    "                p2 = [row, column]\n",
    "                flag = True\n",
    "                break\n",
    "            \n",
    "    # Find P3\n",
    "    p3_column = (p1[1] + p2[1])//2\n",
    "    p3 = [0, 0]\n",
    "    for row in range(p3_row_range, img_row):\n",
    "        if img[row, p3_column] != 0:\n",
    "            p3 = [row, p3_column]\n",
    "            break\n",
    "            \n",
    "    return p1, p2, p3"
   ],
   "metadata": {
    "collapsed": false,
    "ExecuteTime": {
     "end_time": "2025-02-24T14:15:56.641373Z",
     "start_time": "2025-02-24T14:15:56.625383Z"
    }
   },
   "id": "e91a02841dd24001",
   "outputs": [],
   "execution_count": 19
  },
  {
   "cell_type": "code",
   "source": [
    "def circle_mask(central_point, img_shape=(512, 512), radius=500):\n",
    "\n",
    "  x, y = np.ogrid[:img_shape[0], :img_shape[1]]\n",
    "  dist_from_center = (x - central_point[0])**2 + (y - central_point[1])**2\n",
    "  mask = dist_from_center <= radius**2\n",
    "  return mask"
   ],
   "metadata": {
    "collapsed": false,
    "ExecuteTime": {
     "end_time": "2025-02-24T14:15:57.046301Z",
     "start_time": "2025-02-24T14:15:57.030224Z"
    }
   },
   "id": "67e5d6135e54bae6",
   "outputs": [],
   "execution_count": 20
  },
  {
   "cell_type": "code",
   "source": [
    "def img_fit(img):\n",
    "    img_row, img_column = img.shape\n",
    "    p1, p2, p3 = p_finder(img)\n",
    "\n",
    "    min_x, min_y = np.nonzero(img)[0].min(), np.nonzero(img)[1].min()\n",
    "    max_x, max_y = np.nonzero(img)[0].max(), np.nonzero(img)[1].max()\n",
    "\n",
    "    left_bound = np.nonzero(img)[1].min()\n",
    "    right_bound = np.nonzero(img)[1].max()\n",
    "\n",
    "    if p1[0] > p2[0]:\n",
    "        upper_bound = p2[0]\n",
    "    else:\n",
    "        upper_bound = p1[0]\n",
    "\n",
    "    return min_x, max_x, min_y, max_y"
   ],
   "metadata": {
    "collapsed": false,
    "ExecuteTime": {
     "end_time": "2025-02-24T14:15:57.491054Z",
     "start_time": "2025-02-24T14:15:57.475908Z"
    }
   },
   "id": "868112c17d0766fb",
   "outputs": [],
   "execution_count": 21
  },
  {
   "cell_type": "code",
   "source": [
    "def side_data_seperator(files_path, slice_number, data_labels):\n",
    "    folder_names = []\n",
    "    folder_names = get_folder_names(files_path, folder_names)\n",
    "    both_side_ok_data = []\n",
    "    both_side_ok_labels = []\n",
    "    \n",
    "    one_side_ok_data = []\n",
    "    one_side_ok_labels = []\n",
    "\n",
    "    for i in range(len(folder_names)):\n",
    "        if slice_number == 1:\n",
    "            img_path = files_path + folder_names[i] + '/' + '0.png'\n",
    "            img = cv2.imread(img_path)[:, :, 0]\n",
    "            side = np.array(data_labels[data_labels.code == int(folder_names[i])].Side)[0]\n",
    "            fgt = np.array(data_labels[data_labels.code == int(folder_names[i])].FGT)[0]\n",
    "            if side == 'B':\n",
    "                both_side_ok_data.append(img)\n",
    "                both_side_ok_labels.append([int(folder_names[i]), side, int(fgt)])\n",
    "            else:\n",
    "                one_side_ok_data.append(img)\n",
    "                one_side_ok_labels.append([int(folder_names[i]), side, int(fgt)])\n",
    "        else:\n",
    "            images = []\n",
    "            side = np.array(data_labels[data_labels.code == int(folder_names[i])].Side)[0]\n",
    "            fgt = np.array(data_labels[data_labels.code == int(folder_names[i])].FGT)[0]\n",
    "            \n",
    "            for j in range(slice_number):\n",
    "                img_path = files_path + folder_names[i] + '/' + str(j) + '.png'\n",
    "                img = cv2.imread(img_path)[:, :, 0]\n",
    "                images.append(img)\n",
    "    \n",
    "            if side == 'B':\n",
    "                both_side_ok_data.append(images)\n",
    "                both_side_ok_labels.append([int(folder_names[i]), side, int(fgt)])\n",
    "            else:\n",
    "                one_side_ok_data.append(images)\n",
    "                one_side_ok_labels.append([int(folder_names[i]), side, int(fgt)])\n",
    "\n",
    "    both_side_ok_data = np.array(both_side_ok_data)\n",
    "    both_side_ok_labels = np.array(both_side_ok_labels)\n",
    "    \n",
    "    one_side_ok_data = np.array(one_side_ok_data)\n",
    "    one_side_ok_labels = np.array(one_side_ok_labels)\n",
    "    \n",
    "    return both_side_ok_data, one_side_ok_data, both_side_ok_labels, one_side_ok_labels"
   ],
   "metadata": {
    "collapsed": false,
    "ExecuteTime": {
     "end_time": "2025-02-24T14:15:57.915663Z",
     "start_time": "2025-02-24T14:15:57.901661Z"
    }
   },
   "id": "90feb20e1919e9e9",
   "outputs": [],
   "execution_count": 22
  },
  {
   "cell_type": "code",
   "source": [
    "def breast_segmentor(X, y, slice_number, set_name='Train', test_set_side='Left'):\n",
    "    dataset = []\n",
    "    labels = []\n",
    "    for i in range(len(X)):\n",
    "        print(f\"{i+1}/{len(X)}\")\n",
    "        side = y[i, 1]\n",
    "        fgt = int(y[i, 2])-1\n",
    "        \n",
    "        if slice_number == 1:\n",
    "            img = X[i, :, :]\n",
    "            img_edge = sobel_edge_detection(img)\n",
    "            p1, p2, p3 = p_finder(img_edge)\n",
    "            \n",
    "            if side == 'L':\n",
    "                img_L = img[:p3[0], :p3[1]]\n",
    "                min_x, max_x, min_y, max_y = img_fit(img_L)\n",
    "                img_L = img_L[min_x:max_x, min_y:max_y]\n",
    "                img_L = cv2.resize(img_L, (224, 224))\n",
    "                dataset.append(img_L)\n",
    "                labels.append(fgt)\n",
    "                \n",
    "            elif side == 'R':\n",
    "                img_R = img[:p3[0], p3[1]:]\n",
    "                min_x, max_x, min_y, max_y = img_fit(img_R)\n",
    "                img_R = img_R[min_x:max_x, min_y:max_y]\n",
    "                img_R = cv2.resize(img_R, (224, 224))\n",
    "                dataset.append(img_R)\n",
    "                labels.append(fgt)\n",
    "            else:\n",
    "                img_L = img[:p3[0], :p3[1]]\n",
    "                min_x, max_x, min_y, max_y = img_fit(img_L)\n",
    "                img_L = img_L[min_x:max_x, min_y:max_y]\n",
    "                img_L = cv2.resize(img_L, (224, 224))\n",
    "                \n",
    "                img_R = img[:p3[0], p3[1]:]\n",
    "                min_x, max_x, min_y, max_y = img_fit(img_R)\n",
    "                img_R = img_R[min_x:max_x, min_y:max_y]\n",
    "                img_R = cv2.resize(img_R, (224, 224))\n",
    "                \n",
    "                dataset.append(img_R)\n",
    "                labels.append(fgt)\n",
    "                dataset.append(img_L)\n",
    "                labels.append(fgt)\n",
    "        else:\n",
    "            images_L = []\n",
    "            images_R = []\n",
    "            middle_slice_index = slice_number//2\n",
    "            img_edge = sobel_edge_detection(X[i, middle_slice_index, :, :])\n",
    "            p1, p2, p3 = p_finder(img_edge)\n",
    "            \n",
    "            if side == 'L':\n",
    "                img = X[i, middle_slice_index, :, :]\n",
    "                img_L = img[:p3[0], :p3[1]]\n",
    "                min_x, max_x, min_y, max_y = img_fit(img_L)\n",
    "                \n",
    "                for j in range(slice_number):\n",
    "                    img = X[i, j, :, :]\n",
    "                    img_L = img[:p3[0], :p3[1]]\n",
    "                    img_L = img_L[min_x:max_x, min_y:max_y]\n",
    "                    img_L = cv2.resize(img_L, (224, 224))\n",
    "                    images_L.append(img_L)\n",
    "                    \n",
    "                dataset.append(images_L)\n",
    "                labels.append(fgt)\n",
    "                \n",
    "            elif side == 'R':\n",
    "                img = X[i, middle_slice_index, :, :]\n",
    "                img_R = img[:p3[0], p3[1]:]\n",
    "                min_x, max_x, min_y, max_y = img_fit(img_R)\n",
    "                \n",
    "                for j in range(slice_number):\n",
    "                    img = X[i, j, :, :]\n",
    "                    img_R = img[:p3[0], p3[1]:]\n",
    "                    img_R = img_R[min_x:max_x, min_y:max_y]\n",
    "                    img_R = cv2.resize(img_R, (224, 224))\n",
    "                    images_R.append(img_R)\n",
    "                    \n",
    "                dataset.append(images_R)\n",
    "                labels.append(fgt)\n",
    "                \n",
    "            else:\n",
    "                img = X[i, middle_slice_index, :, :]\n",
    "                img_L = img[:p3[0], :p3[1]]\n",
    "                min_x_l, max_x_l, min_y_l, max_y_l = img_fit(img_L)\n",
    "                \n",
    "                img = X[i, middle_slice_index, :, :]\n",
    "                img_R = img[:p3[0], p3[1]:]\n",
    "                min_x_r, max_x_r, min_y_r, max_y_r = img_fit(img_R)\n",
    "                \n",
    "                for j in range(slice_number):\n",
    "                    img = X[i, j, :, :]\n",
    "                    img_L = img[:p3[0], :p3[1]]\n",
    "                    img_L = img_L[min_x_l:max_x_l, min_y_l:max_y_l]\n",
    "                    img_L = cv2.resize(img_L, (224, 224))\n",
    "\n",
    "                    img_R = img[:p3[0], p3[1]:]\n",
    "                    img_R = img_R[min_x_r:max_x_r, min_y_r:max_y_r]\n",
    "                    img_R = cv2.resize(img_R, (224, 224))\n",
    "\n",
    "                    images_L.append(img_L)\n",
    "                    images_R.append(img_R)\n",
    "                \n",
    "                if set_name == 'Train':\n",
    "                    dataset.append(images_L)\n",
    "                    labels.append(fgt)\n",
    "                    dataset.append(images_R)\n",
    "                    labels.append(fgt)\n",
    "                        \n",
    "                else:\n",
    "                    if test_set_side == 'Left':\n",
    "                        dataset.append(images_L)\n",
    "                        labels.append(fgt)\n",
    "                    else:\n",
    "                        dataset.append(images_R)\n",
    "                        labels.append(fgt)\n",
    "                        \n",
    "    dataset = np.array(dataset)\n",
    "    labels = np.array(labels)\n",
    "    \n",
    "    return dataset, labels"
   ],
   "metadata": {
    "collapsed": false,
    "ExecuteTime": {
     "end_time": "2025-02-24T14:15:58.343518Z",
     "start_time": "2025-02-24T14:15:58.330198Z"
    }
   },
   "id": "74f1be5fd34414a0",
   "outputs": [],
   "execution_count": 23
  },
  {
   "cell_type": "code",
   "source": [
    "def dataset_creator(both_side_ok_data, one_side_ok_data, both_side_ok_labels, one_side_ok_labels, test_ratio, validation_ratio, slice_number, random_state, test_set_side='Left', just_sets_info=False):\n",
    "    X_train_validation_both, X_test_both, y_train_validation_both, y_test_both = train_test_split(both_side_ok_data, both_side_ok_labels, test_size=test_ratio, random_state=random_state, stratify=both_side_ok_labels[:, 2])\n",
    "    \n",
    "    X_train_validation_one, X_test_one, y_train_validation_one, y_test_one = train_test_split(one_side_ok_data, one_side_ok_labels, test_size=test_ratio, random_state=random_state, stratify=one_side_ok_labels[:, 2])\n",
    "    \n",
    "    X_train_both, X_validation_both, y_train_both, y_validation_both = train_test_split(X_train_validation_both, y_train_validation_both, test_size=validation_ratio, random_state=random_state, stratify=y_train_validation_both[:, 2])\n",
    "    \n",
    "    X_train_one, X_validation_one, y_train_one, y_validation_one = train_test_split(X_train_validation_one, y_train_validation_one, test_size=validation_ratio, random_state=random_state, stratify=y_train_validation_one[:, 2])\n",
    "    \n",
    "    X_train = np.concatenate((X_train_both, X_train_one), axis=0)\n",
    "    y_train = np.concatenate((y_train_both, y_train_one), axis=0)\n",
    "    \n",
    "    X_validation = np.concatenate((X_validation_both, X_validation_one), axis=0)\n",
    "    y_validation = np.concatenate((y_validation_both, y_validation_one), axis=0)\n",
    "    \n",
    "    X_test = np.concatenate((X_test_both, X_test_one), axis=0)\n",
    "    y_test = np.concatenate((y_test_both, y_test_one), axis=0)\n",
    "    \n",
    "    if just_sets_info == False:\n",
    "        train_data, train_labels = breast_segmentor(X_train, y_train, slice_number, set_name='Train')\n",
    "        validation_data, validation_labels = breast_segmentor(X_validation, y_validation, slice_number, set_name='Validation', test_set_side=test_set_side)\n",
    "        test_data, test_labels = breast_segmentor(X_test, y_test, slice_number, set_name='Test', test_set_side=test_set_side)\n",
    "    \n",
    "        return train_data, validation_data, test_data, train_labels, validation_labels, test_labels\n",
    "    \n",
    "    else:\n",
    "        return y_train, y_validation, y_test"
   ],
   "metadata": {
    "collapsed": false,
    "ExecuteTime": {
     "end_time": "2025-02-24T14:15:58.887740Z",
     "start_time": "2025-02-24T14:15:58.873514Z"
    }
   },
   "id": "a8ca4e1d558262e",
   "outputs": [],
   "execution_count": 24
  },
  {
   "cell_type": "code",
   "source": [
    "def resample_img(itk_image, out_spacing=(2.0, 2.0, 2.0), is_label=False):\n",
    "    \n",
    "    original_spacing = itk_image.GetSpacing()\n",
    "    original_size = itk_image.GetSize()\n",
    "\n",
    "    out_size = [\n",
    "        int(np.round(original_size[0] * (original_spacing[0] / out_spacing[0]))),\n",
    "        int(np.round(original_size[1] * (original_spacing[1] / out_spacing[1]))),\n",
    "        int(np.round(original_size[2] * (original_spacing[2] / out_spacing[2])))]\n",
    "\n",
    "    resample = sitk.ResampleImageFilter()\n",
    "    resample.SetOutputSpacing(out_spacing)\n",
    "    resample.SetSize(out_size)\n",
    "    resample.SetOutputDirection(itk_image.GetDirection())\n",
    "    resample.SetOutputOrigin(itk_image.GetOrigin())\n",
    "    resample.SetTransform(sitk.Transform())\n",
    "    resample.SetDefaultPixelValue(itk_image.GetPixelIDValue())\n",
    "\n",
    "    if is_label:\n",
    "        resample.SetInterpolator(sitk.sitkNearestNeighbor)\n",
    "    else:\n",
    "        resample.SetInterpolator(sitk.sitkBSpline)\n",
    "\n",
    "    return resample.Execute(itk_image)"
   ],
   "metadata": {
    "collapsed": false,
    "ExecuteTime": {
     "end_time": "2025-02-24T14:15:59.449827Z",
     "start_time": "2025-02-24T14:15:59.434694Z"
    }
   },
   "id": "5b6325d6e48ed4a",
   "outputs": [],
   "execution_count": 25
  },
  {
   "cell_type": "code",
   "source": [
    "def p_finder_3D(patient_data_array, side):\n",
    "    start_zero_idx = 0\n",
    "    end_zero_idx = 96\n",
    "    \n",
    "    for i in range(96):\n",
    "        if np.sum(patient_data_array[i, :, :])==0:\n",
    "            continue\n",
    "        else:\n",
    "            start_zero_idx = i\n",
    "            break\n",
    "    \n",
    "    for i in range(95, -1, -1):\n",
    "        if np.sum(patient_data_array[i, :, :])==0:\n",
    "            continue\n",
    "        else:\n",
    "            end_zero_idx = i\n",
    "            break\n",
    "    \n",
    "    middle_slice = (end_zero_idx-start_zero_idx)//2 + start_zero_idx\n",
    "    img = patient_data_array[middle_slice, :, :]\n",
    "    p1, p2, p3 = p_finder(img, p3_row_range=0)\n",
    "    \n",
    "    if side == 'L':\n",
    "        return p1, p3\n",
    "    elif side == 'R':\n",
    "        return p2, p3\n",
    "    else:\n",
    "        return p1, p2, p3"
   ],
   "metadata": {
    "collapsed": false,
    "ExecuteTime": {
     "end_time": "2025-02-24T14:16:00.058498Z",
     "start_time": "2025-02-24T14:16:00.045181Z"
    }
   },
   "id": "69404a94985b9853",
   "outputs": [],
   "execution_count": 26
  },
  {
   "cell_type": "code",
   "source": [
    "def get_middle_slice_index(patient_data_array):\n",
    "    start_zero_idx = 0\n",
    "    end_zero_idx = 96\n",
    "    \n",
    "    for i in range(96):\n",
    "        if np.sum(patient_data_array[i, :, :])==0:\n",
    "            continue\n",
    "        else:\n",
    "            start_zero_idx = i\n",
    "            break\n",
    "    \n",
    "    for i in range(95, -1, -1):\n",
    "        if np.sum(patient_data_array[i, :, :])==0:\n",
    "            continue\n",
    "        else:\n",
    "            end_zero_idx = i\n",
    "            break\n",
    "    \n",
    "    middle_slice = (end_zero_idx-start_zero_idx)//2 + start_zero_idx\n",
    "    \n",
    "    return middle_slice"
   ],
   "metadata": {
    "collapsed": false,
    "ExecuteTime": {
     "end_time": "2025-02-24T14:16:00.505484Z",
     "start_time": "2025-02-24T14:16:00.491619Z"
    }
   },
   "id": "9a001d05fc3a280c",
   "outputs": [],
   "execution_count": 27
  },
  {
   "cell_type": "code",
   "source": [
    "def normalize_threshold_rotate_3d(patient_data_array):\n",
    "    t = filters.threshold_li(patient_data_array)\n",
    "    patient_data_array[patient_data_array<t] = 0\n",
    "    patient_data_array = exposure.rescale_intensity(patient_data_array, out_range=np.uint8)\n",
    "    patient_data_array = np.flip(patient_data_array, axis=1)\n",
    "    \n",
    "    return patient_data_array"
   ],
   "metadata": {
    "collapsed": false,
    "ExecuteTime": {
     "end_time": "2025-02-24T14:16:01.028245Z",
     "start_time": "2025-02-24T14:16:01.012192Z"
    }
   },
   "id": "f6c224138d09eebf",
   "outputs": [],
   "execution_count": 28
  },
  {
   "cell_type": "code",
   "source": [
    "def center_image_3d(image):\n",
    "    zeros_array = np.zeros((96, 140, 140), dtype=np.uint8)\n",
    "    \n",
    "    _, zeros_height, zeros_width = zeros_array.shape\n",
    "    _, image_height, image_width = image.shape\n",
    "    \n",
    "    # Calculate top-left corner coordinates for centering the image\n",
    "    top_left_y = (zeros_height - image_height) // 2\n",
    "    top_left_x = (zeros_width - image_width) // 2\n",
    "    \n",
    "    # Center the image for each channel\n",
    "    for channel in range(image.shape[0]):\n",
    "        zeros_array[channel, top_left_y:top_left_y+image_height, top_left_x:top_left_x+image_width] = image[channel, :, :]\n",
    "    \n",
    "    return zeros_array"
   ],
   "metadata": {
    "collapsed": false,
    "ExecuteTime": {
     "end_time": "2025-02-24T14:16:01.522766Z",
     "start_time": "2025-02-24T14:16:01.516438Z"
    }
   },
   "id": "bf902772cffb9952",
   "outputs": [],
   "execution_count": 29
  },
  {
   "cell_type": "code",
   "source": [
    "def create_3d_train_set(data_path, set_info):\n",
    "    data_3d = []\n",
    "    labels = []\n",
    "    \n",
    "    for i in range(len(set_info)):\n",
    "        print(f\"{i+1}/{len(set_info)}\")\n",
    "        data_sample_path = data_path + set_info[i, 0] + \".nrrd\"\n",
    "        patient_data = sitk.ReadImage(data_sample_path)\n",
    "        patient_data_array = sitk.GetArrayFromImage(patient_data) # shape: (S, W, H)\n",
    "        patient_data_array = normalize_threshold_rotate_3d(patient_data_array)\n",
    "        \n",
    "        side = set_info[i, 1]\n",
    "    \n",
    "        if side == 'L':\n",
    "            p1, p3 = p_finder_3D(patient_data_array, side)\n",
    "            patient_data_array_l = patient_data_array[:, p1[0]:p3[0], 0:p3[1]]\n",
    "            patient_data_array_l = center_image_3d(patient_data_array_l)\n",
    "            data_3d.append(patient_data_array_l)\n",
    "            labels.append(int(set_info[i, 2])-1)\n",
    "                    \n",
    "        elif side == 'R':\n",
    "            p2, p3 = p_finder_3D(patient_data_array, side)\n",
    "            patient_data_array_r = patient_data_array[:, p2[0]:p3[0], p3[1]:]\n",
    "            patient_data_array_r = center_image_3d(patient_data_array_r)\n",
    "            data_3d.append(patient_data_array_r)\n",
    "            labels.append(int(set_info[i, 2])-1)\n",
    "        \n",
    "        else:\n",
    "            p1, p2, p3 = p_finder_3D(patient_data_array, side)\n",
    "            patient_data_array_l = patient_data_array[:, p1[0]:p3[0], 0:p3[1]]\n",
    "            patient_data_array_l = center_image_3d(patient_data_array_l)\n",
    "            data_3d.append(patient_data_array_l)\n",
    "            labels.append(int(set_info[i, 2])-1)\n",
    "            \n",
    "            patient_data_array_r = patient_data_array[:, p2[0]:p3[0], p3[1]:]\n",
    "            patient_data_array_r = center_image_3d(patient_data_array_r)\n",
    "            data_3d.append(patient_data_array_r)\n",
    "            labels.append(int(set_info[i, 2])-1)\n",
    "            \n",
    "    data_3d = np.array(data_3d)\n",
    "    labels = np.array(labels)\n",
    "         \n",
    "    return data_3d, labels"
   ],
   "metadata": {
    "collapsed": false,
    "ExecuteTime": {
     "end_time": "2025-02-24T14:16:01.993766Z",
     "start_time": "2025-02-24T14:16:01.977878Z"
    }
   },
   "id": "7b0a00bdeb96a281",
   "outputs": [],
   "execution_count": 30
  },
  {
   "cell_type": "code",
   "source": [
    "def create_3d_test_validation(data_path, set_info):\n",
    "    data_3d_left = []\n",
    "    data_3d_right = []\n",
    "    labels = []\n",
    "    \n",
    "    data_path = \"E:/Resampled ALL Dimensions 3D NRRD Dataset/\"\n",
    "    \n",
    "    for i in range(len(set_info)):\n",
    "        print(f\"{i+1}/{len(set_info)}\")\n",
    "        data_sample_path = data_path + set_info[i, 0] + \".nrrd\"\n",
    "        patient_data = sitk.ReadImage(data_sample_path)\n",
    "        patient_data_array = sitk.GetArrayFromImage(patient_data) # shape: (S, W, H)\n",
    "        patient_data_array = normalize_threshold_rotate_3d(patient_data_array)\n",
    "        \n",
    "        side = set_info[i, 1]\n",
    "        \n",
    "        if side == 'L':\n",
    "            p1, p3 = p_finder_3D(patient_data_array, side)\n",
    "            patient_data_array_l = patient_data_array[:, p1[0]:p3[0], 0:p3[1]]\n",
    "            patient_data_array_l = center_image_3d(patient_data_array_l)\n",
    "            data_3d_left.append(patient_data_array_l)\n",
    "            data_3d_right.append(patient_data_array_l)\n",
    "            labels.append(int(set_info[i, 2])-1)\n",
    "                    \n",
    "        elif side == 'R':\n",
    "            p2, p3 = p_finder_3D(patient_data_array, side)\n",
    "            patient_data_array_r = patient_data_array[:, p2[0]:p3[0], p3[1]:]\n",
    "            patient_data_array_r = center_image_3d(patient_data_array_r)\n",
    "            data_3d_left.append(patient_data_array_r)\n",
    "            data_3d_right.append(patient_data_array_r)\n",
    "            labels.append(int(set_info[i, 2])-1)\n",
    "        \n",
    "        else:\n",
    "            p1, p2, p3 = p_finder_3D(patient_data_array, side)\n",
    "        \n",
    "            patient_data_array_l = patient_data_array[:, p1[0]:p3[0], 0:p3[1]]\n",
    "            patient_data_array_l = center_image_3d(patient_data_array_l)\n",
    "            data_3d_left.append(patient_data_array_l)\n",
    "\n",
    "            patient_data_array_r = patient_data_array[:, p2[0]:p3[0], p3[1]:]\n",
    "            patient_data_array_r = center_image_3d(patient_data_array_r)\n",
    "            data_3d_right.append(patient_data_array_r)\n",
    "            \n",
    "            labels.append(int(set_info[i, 2])-1)\n",
    "            \n",
    "    data_3d_left = np.array(data_3d_left)\n",
    "    data_3d_right = np.array(data_3d_right)\n",
    "    labels = np.array(labels)\n",
    "\n",
    "    return data_3d_right, data_3d_left, labels"
   ],
   "metadata": {
    "collapsed": false,
    "ExecuteTime": {
     "end_time": "2025-02-24T14:16:02.505716Z",
     "start_time": "2025-02-24T14:16:02.482219Z"
    }
   },
   "id": "d85a768da6e8fb7c",
   "outputs": [],
   "execution_count": 31
  },
  {
   "cell_type": "markdown",
   "source": [
    "# Read The SPSS File That Contains Patients' Full Information"
   ],
   "metadata": {
    "collapsed": false
   },
   "id": "ac8719f9eeb07e0c"
  },
  {
   "cell_type": "code",
   "source": [
    "data, meta = pyreadstat.read_sav('Full_Patients_Information.sav')"
   ],
   "metadata": {
    "collapsed": false,
    "ExecuteTime": {
     "end_time": "2025-02-24T14:16:05.567794Z",
     "start_time": "2025-02-24T14:16:05.531191Z"
    }
   },
   "id": "81a82c0a5d7bfb0a",
   "outputs": [],
   "execution_count": 32
  },
  {
   "cell_type": "markdown",
   "source": [
    "# Read The CSV File That Contains Patients' Necessary Information\n",
    "## This file must have:\n",
    "* Patients' IDs\n",
    "* FGT and BPE Diagnosis\n",
    "* Contralateral Breast Side"
   ],
   "metadata": {
    "collapsed": false
   },
   "id": "85df0a59139666db"
  },
  {
   "cell_type": "code",
   "source": [
    "data_labels = pd.read_csv('data_labels.csv')"
   ],
   "metadata": {
    "collapsed": false,
    "ExecuteTime": {
     "end_time": "2025-02-24T14:16:09.607137Z",
     "start_time": "2025-02-24T14:16:09.584670Z"
    }
   },
   "id": "3ddf248947a5f603",
   "outputs": [],
   "execution_count": 33
  },
  {
   "cell_type": "markdown",
   "source": [
    "# Create The List of Poor-Quality MRI Scans To Be Excluded"
   ],
   "metadata": {
    "collapsed": false
   },
   "id": "2d3fd45ebfbee189"
  },
  {
   "cell_type": "code",
   "execution_count": 31,
   "outputs": [],
   "source": [
    "# The quality of these patients’ images is low.\n",
    "wrong_data = [\"Patients' ID's\"]"
   ],
   "metadata": {
    "collapsed": false,
    "ExecuteTime": {
     "end_time": "2025-01-27T06:27:58.571641200Z",
     "start_time": "2025-01-27T06:27:58.497753600Z"
    }
   },
   "id": "63dea7b577b3ab9b"
  },
  {
   "cell_type": "markdown",
   "source": [
    "# Data Preprocessing\n",
    "## Step 1\n",
    "### At this step, we get the unique patient IDs and remove data with multiple diagnosis.\n",
    "#### Whenever you want to add new data, add the path here and just run next two code cells.\n",
    "#### Then create a new part and enter the codes just like the other parts."
   ],
   "metadata": {
    "collapsed": false
   },
   "id": "bec405a5da641e0d"
  },
  {
   "cell_type": "code",
   "execution_count": null,
   "outputs": [],
   "source": [
    "folder_names = []\n",
    "\n",
    "mpath1 = 'H:/Old Breast MRI Data/E/Breast Data/Breast'\n",
    "folder_names = get_folder_names(mpath1, folder_names)\n",
    "\n",
    "mpath2 = 'H:/Old Breast MRI Data/E/Breast Data/breast newNAC'\n",
    "folder_names = get_folder_names(mpath2, folder_names)\n",
    "\n",
    "mpath3 = 'H:/Old Breast MRI Data/G/01/sps'\n",
    "folder_names = get_folder_names(mpath3, folder_names)\n",
    "\n",
    "mpath10 = 'H:/Old Breast MRI Data/H/02'\n",
    "folder_names = get_folder_names(mpath10, folder_names)\n",
    "\n",
    "mpath4 = 'H:/Old Breast MRI Data/H/Breast MRI/03/breast new'\n",
    "folder_names = get_folder_names(mpath4, folder_names)\n",
    "\n",
    "mpath5 = 'H:/Old Breast MRI Data/H/Breast MRI/03/breast new 2'\n",
    "folder_names = get_folder_names(mpath5, folder_names)\n",
    "\n",
    "mpath6 = 'H:/Old Breast MRI Data/H/Breast MRI/03/nac'\n",
    "folder_names = get_folder_names(mpath6, folder_names)\n",
    "\n",
    "mpath7 = 'H:/Old Breast MRI Data/H/Breast MRI/03/sps'\n",
    "folder_names = get_folder_names(mpath7, folder_names)\n",
    "\n",
    "mpath8 = 'H:/Old Breast MRI Data/G/Breast Data/nac'\n",
    "folder_names = get_folder_names(mpath8, folder_names)\n",
    "\n",
    "mpath9 = 'H:/Old Breast MRI Data/G/Breast Data/sps'\n",
    "folder_names = get_folder_names(mpath9, folder_names)\n",
    "\n",
    "mpath11 = 'I:/New Breast MRI'\n",
    "folder_names = get_folder_names(mpath11, folder_names)\n",
    "\n",
    "mpath12 = 'H:/New MRI'\n",
    "folder_names = get_folder_names(mpath12, folder_names)"
   ],
   "metadata": {
    "collapsed": false
   },
   "id": "a2bd7b3aa7b7f533"
  },
  {
   "cell_type": "markdown",
   "source": [
    "### Early Analysis For Data Cleaning"
   ],
   "metadata": {
    "collapsed": false
   },
   "id": "7b80dfa090bea8e6"
  },
  {
   "cell_type": "code",
   "execution_count": null,
   "outputs": [],
   "source": [
    "folder_names = np.array(folder_names)\n",
    "folder_names_unique = np.unique(folder_names)\n",
    "data_codes = np.array(data.code)\n",
    "data_codes_unique = np.unique(data_codes)\n",
    "\n",
    "same_codes_unique = []\n",
    "for i in folder_names_unique:\n",
    "    if i in data_codes_unique:\n",
    "        same_codes_unique.append(i)\n",
    "same_codes_unique = np.array(same_codes_unique)\n",
    "\n",
    "not_in_dataset = []\n",
    "for i in data_codes_unique:\n",
    "    if i not in same_codes_unique:\n",
    "        not_in_dataset.append(i)\n",
    "not_in_dataset_unique = np.unique(np.array(not_in_dataset))\n",
    "\n",
    "same_codes_unique_mdd_removed = []\n",
    "for i in same_codes_unique:\n",
    "    if np.array(data[data.code == i].FG).shape[0] > 1:\n",
    "        fg_i = np.array(data[data.code == i].FG)\n",
    "        bpe_i = np.array(data[data.code == i].BPE)\n",
    "        if np.all(fg_i==fg_i[0]) and np.all(bpe_i==bpe_i[0]):\n",
    "            same_codes_unique_mdd_removed.append(i)\n",
    "    else:\n",
    "        same_codes_unique_mdd_removed.append(i)\n",
    "\n",
    "not_in_dataset_unique_mdd_removed = []\n",
    "for i in not_in_dataset_unique:\n",
    "    if np.array(data[data.code == i].FG).shape[0] > 1:\n",
    "        fg_i = np.array(data[data.code == i].FG)\n",
    "        bpe_i = np.array(data[data.code == i].BPE)\n",
    "        if np.all(fg_i==fg_i[0]) and np.all(bpe_i==bpe_i[0]):\n",
    "            not_in_dataset_unique_mdd_removed.append(i)\n",
    "    else:\n",
    "        not_in_dataset_unique_mdd_removed.append(i)\n",
    "\n",
    "all_ok_data = same_codes_unique_mdd_removed + not_in_dataset_unique_mdd_removed\n",
    "\n",
    "len(all_ok_data)"
   ],
   "metadata": {
    "collapsed": false
   },
   "id": "657c92de5f37174"
  },
  {
   "cell_type": "markdown",
   "source": [
    "# Part 1"
   ],
   "metadata": {
    "collapsed": false
   },
   "id": "905b64073df0943d"
  },
  {
   "cell_type": "code",
   "execution_count": null,
   "outputs": [],
   "source": [
    "folder_names_part1 = []\n",
    "folder_names_part1 = get_folder_names(mpath3, folder_names_part1)"
   ],
   "metadata": {
    "collapsed": false
   },
   "id": "4fb8a431cc68c4a1"
  },
  {
   "cell_type": "code",
   "execution_count": null,
   "outputs": [],
   "source": [
    "for name in folder_names_part1:\n",
    "    if name not in all_ok_data:\n",
    "        print(name)"
   ],
   "metadata": {
    "collapsed": false
   },
   "id": "4fdc2837b03bf201"
  },
  {
   "cell_type": "code",
   "execution_count": null,
   "outputs": [],
   "source": "no_data_cases = [\"Patients' ID's\"]",
   "metadata": {
    "collapsed": false
   },
   "id": "5da90887b38a1c7"
  },
  {
   "cell_type": "code",
   "execution_count": null,
   "outputs": [],
   "source": [
    "len(all_ok_data)"
   ],
   "metadata": {
    "collapsed": false
   },
   "id": "a814f78e85789e4f"
  },
  {
   "cell_type": "code",
   "execution_count": null,
   "outputs": [],
   "source": [
    "for pid in no_data_cases:\n",
    "    if pid in all_ok_data:\n",
    "        all_ok_data.remove(pid)"
   ],
   "metadata": {
    "collapsed": false
   },
   "id": "251b549d430d09f6"
  },
  {
   "cell_type": "code",
   "execution_count": null,
   "outputs": [],
   "source": [
    "len(all_ok_data)"
   ],
   "metadata": {
    "collapsed": false
   },
   "id": "8353b875528a5e60"
  },
  {
   "cell_type": "code",
   "execution_count": null,
   "outputs": [],
   "source": [
    "# Origin and destination directory\n",
    "d_directory = 'E:/Selected Data/'\n",
    "o_directory = mpath3 + '/'"
   ],
   "metadata": {
    "collapsed": false
   },
   "id": "2be5b8c04f7e55d"
  },
  {
   "cell_type": "code",
   "execution_count": null,
   "outputs": [],
   "source": "patients_ids_1 = [\"Patients' ID's\"]",
   "metadata": {
    "collapsed": false
   },
   "id": "7992eb96137a4a90"
  },
  {
   "cell_type": "code",
   "execution_count": null,
   "outputs": [],
   "source": [
    "fgt_1 = [(300, 451), (373, 458), (558, 685), (396, 481), (536, 621), (379, 550), (434, 517), (335, 478), (582, 661), (587, 662),\n",
    "         (303, 454), (348, 523), (533, 618), (365, 440), (514, 599), (335, 510), (405, 548), (589, 674), (505, 590), (348, 499),\n",
    "         (521, 606), (387, 542), (407, 492), (554, 639), (365, 450), (365, 450), (432, 513), (490, 567), (371, 442), (464, 549),\n",
    "         (365, 524), (365, 528), (422, 573), (338, 485), (591, 676), (493, 668), (393, 560), (432, 587), (595, 758), (325, 448),\n",
    "         (365, 528), (365, 438), (302, 367), (365, 430), (365, 438), (501, 586), (569, 654), (529, 614), (277, 356), (277, 352),\n",
    "         (281, 366), (249, 314), (490, 575), (420, 505), (277, 352), (536, 679), (277, 352), (421, 506), (474, 559), (439, 524), \n",
    "         (441, 526), (471, 560), (315, 406), (449, 536), (421, 510), (466, 551), (332, 499), (269, 354), (433, 518), (479, 650), \n",
    "         (461, 546), (435, 520), (552, 735), (431, 518), (443, 530), (423, 586), (402, 545), (485, 628), (380, 523), (430, 515), \n",
    "         (496, 671), (597, 800), (385, 464), (451, 540), (299, 384), (313, 404), (315, 402), (317, 404), (435, 520), (448, 639), \n",
    "         (612, 771), (439, 526), (517, 602), (500, 585), (405, 490), (555, 640), (426, 513), (297, 382), (277, 350), (506, 649), \n",
    "         (464, 549), (454, 539), (455, 598), (471, 556), (435, 598), (407, 554), (426, 577), (299, 384), (467, 662), (421, 612), \n",
    "         (376, 551), (258, 343), (275, 450), (429, 620), (337, 512), (500, 675), (350, 525), (396, 575), (406, 581), (405, 490), \n",
    "         (380, 555), (413, 604), (393, 568), (417, 592), (383, 558), (423, 508), (404, 579), (417, 640), (461, 604), (402, 577), \n",
    "         (286, 461), (359, 534), (587, 762), (399, 574), (385, 560), (420, 607), (370, 545), (417, 502), (405, 490), (395, 570), \n",
    "         (552, 727), (363, 538), (567, 718), (369, 544), (407, 582), (415, 602), (393, 568), (426, 601), (385, 560), (389, 564), \n",
    "         (344, 519), (355, 530), (428, 619), (561, 756), (397, 572), (670, 857), (402, 577), (356, 519), (412, 591), (366, 541),\n",
    "         (366, 541), (343, 518), (383, 554), (394, 585), (414, 593), (412, 587), (423, 618), (453, 628), (359, 534), (451, 626),\n",
    "         (390, 565), (439, 614), (385, 576), (312, 475), (497, 672), (434, 625), (410, 585), (946, 1145), (904, 1095), (868, 1059),\n",
    "         (347, 522), (314, 489), (387, 562), (395, 570), (348, 523), (396, 587), (380, 559), (588, 803), (301, 460), (593, 772),\n",
    "         (384, 559)]"
   ],
   "metadata": {
    "collapsed": false
   },
   "id": "438f0eb238a3205f"
  },
  {
   "cell_type": "code",
   "execution_count": null,
   "outputs": [],
   "source": [
    "bpe_1 = [(1060, 1211), (920, 1005), (2589, 2716), (914, 999), (1162, 1247), (1615, 1786), (1042, 1125), (1235, 1378), (1054, 1133),\n",
    "         (1035, 1110), (1243, 1394), (1408, 1583), (1071, 1156), (813, 888), (1022, 1107), (1395, 1570), (1349, 1492), (1157, 1242),\n",
    "         (1061, 1146), (1288, 1439), (1047, 1132), (1323, 1478), (925, 1010), (1080, 1165), (886, 971), (915, 1000), (928, 1009),\n",
    "         (978, 1055), (820, 891), (980, 1065), (1233, 1392), (1253, 1416), (1252, 1403), (1146, 1293), (1141, 1226), (1441, 1616),\n",
    "         (1301, 1468), (1280, 1435), (1699, 1862), (1225, 1348), (1253, 1416), (803, 876), (700, 765), (763, 828), (803, 876),\n",
    "         (1007, 1092), (1107, 1192), (1063, 1148), (769, 848), (749, 824), (803, 888), (671, 736), (1032, 1117), (954, 1039),\n",
    "         (749, 824), (2267, 2410), (749, 824), (959, 1044), (1012, 1097), (977, 1062), (979, 1064), (1025, 1114), (889, 980), \n",
    "         (1002, 1089), (978, 1067), (1015, 1100), (1238, 1405), (783, 868), (1203, 1288), (2382, 2553), (1126, 1211), (969, 1054), \n",
    "         (1872, 2055), (984, 1071), (990, 1077), (1423, 1586), (1278, 1421), (1373, 1516), (1256, 1399), (1228, 1313), (1768, 1943), \n",
    "         (2001, 2204), (869, 948), (1011, 1100), (849, 934), (880, 971), (868, 955), (871, 958), (957, 1042), (1816, 2007), \n",
    "         (2760, 2919), (971, 1058), (1150, 1235), (1155, 1240), (927, 1012), (1227, 1312), (1065, 1152), (834, 919), (754, 827), \n",
    "         (1226, 1369), (1161, 1246), (1107, 1192), (1487, 1630), (1108, 1193), (1411, 1574), (1303, 1450), (1342, 1493), (845, 930), \n",
    "         (1859, 2054), (1813, 2004), (1648, 1823), (792, 877), (1511, 1686), (1833, 2024), (1579, 1754), (1736, 1911), (1610, 1785), \n",
    "         (1716, 1895), (1646, 1821), (936, 1021), (1616, 1791), (1793, 1984), (1635, 1810), (1725, 1900), (1643, 1818), (957, 1042), \n",
    "         (1820, 1995), (2723, 2946), (1337, 1480), (1746, 1921), (1522, 1697), (1667, 1842), (1859, 2034), (1671, 1846), (1657, 1832), \n",
    "         (1788, 1975), (1610, 1785), (948, 1033), (939, 1024), (1631, 1806), (1788, 1963), (1683, 1858), (1327, 1478), (1605, 1780), \n",
    "         (1651, 1826), (1731, 1918), (1635, 1810), (1914, 2089), (1657, 1832), (1673, 1848), (1580, 1755), (1651, 1826), (1820, 2011),\n",
    "         (1977, 2172), (1653, 1828), (2640, 2827), (1638, 1813), (1520, 1683), (1708, 1887), (1602, 1777), (1602, 1777), (1603, 1778),\n",
    "         (1595, 1766), (1762, 1953), (1746, 1925), (1684, 1859), (1803, 1998), (1689, 1864), (1667, 1842), (1687, 1862), (1630, 1805),\n",
    "         (1681, 1856), (1753, 1944), (1464, 1627), (1733, 1908), (1814, 2005), (1652, 1827), (2580, 2779), (2464, 2655), (2408, 2599),\n",
    "         (1583, 1758), (1370, 1545), (1631, 1806), (1639, 1814), (1590, 1765), (1752, 1943), (2290, 2469), (2842, 3057), (1441, 1600),\n",
    "         (1861, 2040), (1626, 1801)]"
   ],
   "metadata": {
    "collapsed": false
   },
   "id": "410c08141963bf9a"
  },
  {
   "cell_type": "code",
   "execution_count": null,
   "outputs": [],
   "source": [
    "slice_checker(fgt_1, bpe_1, patients_ids_1)"
   ],
   "metadata": {
    "collapsed": false
   },
   "id": "253208422d570c33"
  },
  {
   "cell_type": "code",
   "execution_count": null,
   "outputs": [],
   "source": [
    "automated_copy(o_directory, d_directory, patients_ids_1, fgt_1, bpe_1)"
   ],
   "metadata": {
    "collapsed": false
   },
   "id": "3b2d41434d5d6b1c"
  },
  {
   "cell_type": "markdown",
   "source": [
    "# Part 2"
   ],
   "metadata": {
    "collapsed": false
   },
   "id": "a59f899f36f1a42c"
  },
  {
   "cell_type": "code",
   "execution_count": null,
   "outputs": [],
   "source": [
    "mpath = 'H:/Breast MRI/02/sps'\n",
    "folder_names_part2 = []\n",
    "folder_names_part2 = get_folder_names(mpath, folder_names_part2)"
   ],
   "metadata": {
    "collapsed": false
   },
   "id": "fc6ee1c6aea660e9"
  },
  {
   "cell_type": "code",
   "execution_count": null,
   "outputs": [],
   "source": [
    "for name in folder_names_part2:\n",
    "    if name not in all_ok_data:\n",
    "        print(name)"
   ],
   "metadata": {
    "collapsed": false
   },
   "id": "530079b08755575"
  },
  {
   "cell_type": "code",
   "execution_count": null,
   "outputs": [],
   "source": "no_data_cases = [\"Patients' ID's\"]",
   "metadata": {
    "collapsed": false
   },
   "id": "b221377d332609cf"
  },
  {
   "cell_type": "code",
   "execution_count": null,
   "outputs": [],
   "source": [
    "len(all_ok_data)"
   ],
   "metadata": {
    "collapsed": false
   },
   "id": "a7b279812a62e763"
  },
  {
   "cell_type": "code",
   "execution_count": null,
   "outputs": [],
   "source": [
    "for pid in no_data_cases:\n",
    "    if pid in all_ok_data:\n",
    "        all_ok_data.remove(pid)"
   ],
   "metadata": {
    "collapsed": false
   },
   "id": "eb8ea3f9925d1a9f"
  },
  {
   "cell_type": "code",
   "execution_count": null,
   "outputs": [],
   "source": [
    "len(all_ok_data)"
   ],
   "metadata": {
    "collapsed": false
   },
   "id": "580b5d3df0435f0a"
  },
  {
   "cell_type": "code",
   "execution_count": null,
   "outputs": [],
   "source": [
    "# Origin and destination directory\n",
    "d_directory = 'E:/Selected Data/'\n",
    "o_directory = 'H:/Breast MRI/02/sps/'"
   ],
   "metadata": {
    "collapsed": false
   },
   "id": "3bc74445e4743cde"
  },
  {
   "cell_type": "code",
   "execution_count": null,
   "outputs": [],
   "source": "patients_ids_2 = [\"Patients' ID's\"]",
   "metadata": {
    "collapsed": false
   },
   "id": "d3de6b666ebb84cd"
  },
  {
   "cell_type": "code",
   "execution_count": null,
   "outputs": [],
   "source": [
    "fgt_2 = [(413, 498), (405, 490), (315, 478), (374, 549), (348, 523), (382, 533), (385, 560), (303, 466), (481, 566)]"
   ],
   "metadata": {
    "collapsed": false
   },
   "id": "dcca052a79cd64e4"
  },
  {
   "cell_type": "code",
   "execution_count": null,
   "outputs": [],
   "source": [
    "bpe_2 = [(953, 1038), (957, 1042), (1135, 1298), (1434, 1609), (1408, 1583), (1322, 1473), (1445, 1620), (1303, 1466), (1123, 1208)]"
   ],
   "metadata": {
    "collapsed": false
   },
   "id": "9a4a66056f686717"
  },
  {
   "cell_type": "code",
   "execution_count": null,
   "outputs": [],
   "source": [
    "slice_checker(fgt_2, bpe_2, patients_ids_2)"
   ],
   "metadata": {
    "collapsed": false
   },
   "id": "b98f5d5621e23b21"
  },
  {
   "cell_type": "code",
   "execution_count": null,
   "outputs": [],
   "source": [
    "automated_copy(o_directory, d_directory, patients_ids_2, fgt_2, bpe_2)"
   ],
   "metadata": {
    "collapsed": false
   },
   "id": "3827b11d96af4cf9"
  },
  {
   "cell_type": "markdown",
   "source": [
    "# Part 3"
   ],
   "metadata": {
    "collapsed": false
   },
   "id": "c9899c9d18bc8eba"
  },
  {
   "cell_type": "code",
   "execution_count": null,
   "outputs": [],
   "source": [
    "folder_names_part3 = []\n",
    "folder_names_part3 = get_folder_names(mpath4, folder_names_part3)"
   ],
   "metadata": {
    "collapsed": false
   },
   "id": "b935210b20429ecd"
  },
  {
   "cell_type": "code",
   "execution_count": null,
   "outputs": [],
   "source": [
    "for name in folder_names_part3:\n",
    "    if name not in all_ok_data:\n",
    "        print(name)"
   ],
   "metadata": {
    "collapsed": false
   },
   "id": "5523be3b9a34f0e5"
  },
  {
   "cell_type": "code",
   "execution_count": null,
   "outputs": [],
   "source": [
    "no_data_cases = []"
   ],
   "metadata": {
    "collapsed": false
   },
   "id": "492ab73de4c93fd3"
  },
  {
   "cell_type": "code",
   "execution_count": null,
   "outputs": [],
   "source": [
    "len(all_ok_data)"
   ],
   "metadata": {
    "collapsed": false
   },
   "id": "32c67eead5c53698"
  },
  {
   "cell_type": "code",
   "execution_count": null,
   "outputs": [],
   "source": [
    "for pid in no_data_cases:\n",
    "    if pid in all_ok_data:\n",
    "        all_ok_data.remove(pid)"
   ],
   "metadata": {
    "collapsed": false
   },
   "id": "c57df039747f047"
  },
  {
   "cell_type": "code",
   "execution_count": null,
   "outputs": [],
   "source": [
    "len(all_ok_data)"
   ],
   "metadata": {
    "collapsed": false
   },
   "id": "7d82ee2c23359931"
  },
  {
   "cell_type": "code",
   "execution_count": null,
   "outputs": [],
   "source": [
    "# Origin and destination directory\n",
    "d_directory = 'E:/Selected Data/'\n",
    "o_directory = mpath4 + '/'"
   ],
   "metadata": {
    "collapsed": false
   },
   "id": "d7888f235b484f49"
  },
  {
   "cell_type": "code",
   "execution_count": null,
   "outputs": [],
   "source": "patients_ids_3 = [\"Patients' ID's\"]",
   "metadata": {
    "collapsed": false
   },
   "id": "81d6c290da940c0d"
  },
  {
   "cell_type": "code",
   "execution_count": null,
   "outputs": [],
   "source": [
    "fgt_3 = [(333, 500), (612, 771), (506, 649), (881, 1072), (982, 1173), (1287, 1478), (1017, 1208), (1190, 1389), (1033, 1224), (991, 1182), \n",
    "         (1052, 1243), (1160, 1351), (978, 1169), (879, 1038), (1027, 1218), (1224, 1415), (974, 1153), (1694, 1885), (498, 641), (1134, 1325), \n",
    "         (1155, 1346), (1174, 1365), (1174, 1365), (1250, 1441), (1181, 1372)]"
   ],
   "metadata": {
    "collapsed": false
   },
   "id": "313403339b7b95c8"
  },
  {
   "cell_type": "code",
   "execution_count": null,
   "outputs": [],
   "source": [
    "bpe_3 = [(1999, 2166), (2760, 2919), (1226, 1369), (2225, 2416), (2356, 2547), (3133, 3324), (2391, 2582), (3269, 3468), (2577, 2768), \n",
    "         (2941, 3132), (2558, 2749), (2688, 2879), (2928, 3119), (2687, 2846), (2571, 2762), (2776, 2967), (2430, 2609), (3250, 3441), \n",
    "         (2396, 2539), (2688, 2879), (2567, 2758), (2718, 2909), (2729, 2920), (2824, 3015), (2785, 2976)]"
   ],
   "metadata": {
    "collapsed": false
   },
   "id": "c57b0df818283ea9"
  },
  {
   "cell_type": "code",
   "execution_count": null,
   "outputs": [],
   "source": [
    "slice_checker(fgt_3, bpe_3, patients_ids_3)"
   ],
   "metadata": {
    "collapsed": false
   },
   "id": "4551d7db5a1ae745"
  },
  {
   "cell_type": "code",
   "execution_count": null,
   "outputs": [],
   "source": [
    "automated_copy(o_directory, d_directory, patients_ids_3, fgt_3, bpe_3)"
   ],
   "metadata": {
    "collapsed": false
   },
   "id": "917acbb17b833066"
  },
  {
   "cell_type": "markdown",
   "source": [
    "# Part 4"
   ],
   "metadata": {
    "collapsed": false
   },
   "id": "f267fccf43b1377a"
  },
  {
   "cell_type": "code",
   "execution_count": null,
   "outputs": [],
   "source": [
    "folder_names_part4 = []\n",
    "folder_names_part4 = get_folder_names(mpath5, folder_names_part4)"
   ],
   "metadata": {
    "collapsed": false
   },
   "id": "584f4d8950c41df8"
  },
  {
   "cell_type": "code",
   "execution_count": null,
   "outputs": [],
   "source": [
    "folder_list = []\n",
    "for name in folder_names_part4:\n",
    "    if name not in all_ok_data:\n",
    "        print(name)\n",
    "        folder_list.append(name)"
   ],
   "metadata": {
    "collapsed": false
   },
   "id": "de4d5ba727bf30c"
  },
  {
   "cell_type": "code",
   "execution_count": null,
   "outputs": [],
   "source": [
    "len(folder_list)"
   ],
   "metadata": {
    "collapsed": false
   },
   "id": "52c2f7b244f42966"
  },
  {
   "cell_type": "code",
   "execution_count": null,
   "outputs": [],
   "source": [
    "no_data_cases = []"
   ],
   "metadata": {
    "collapsed": false
   },
   "id": "fde00bec8c36368e"
  },
  {
   "cell_type": "code",
   "execution_count": null,
   "outputs": [],
   "source": [
    "len(all_ok_data)"
   ],
   "metadata": {
    "collapsed": false
   },
   "id": "8ffd544f5373a696"
  },
  {
   "cell_type": "code",
   "execution_count": null,
   "outputs": [],
   "source": [
    "for pid in no_data_cases:\n",
    "    if pid in all_ok_data:\n",
    "        all_ok_data.remove(pid)"
   ],
   "metadata": {
    "collapsed": false
   },
   "id": "55b97091586d9539"
  },
  {
   "cell_type": "code",
   "execution_count": null,
   "outputs": [],
   "source": [
    "len(all_ok_data)"
   ],
   "metadata": {
    "collapsed": false
   },
   "id": "e23c8ec9a987fe9b"
  },
  {
   "cell_type": "code",
   "execution_count": null,
   "outputs": [],
   "source": [
    "# Origin and destination directory\n",
    "d_directory = 'E:/Selected Data/'\n",
    "o_directory = mpath5 + '/'"
   ],
   "metadata": {
    "collapsed": false
   },
   "id": "609fa387ae7589fc"
  },
  {
   "cell_type": "code",
   "execution_count": null,
   "outputs": [],
   "source": "patients_ids_4 = [\"Patients' ID's\"]",
   "metadata": {
    "collapsed": false
   },
   "id": "7beec318e597fca0"
  },
  {
   "cell_type": "code",
   "execution_count": null,
   "outputs": [],
   "source": [
    "fgt_4 = [(1263, 1454), (1141, 1332), (2281, 2484), (1865, 2068), (867, 1006), (1204, 1395), (1246, 1437), (1177, 1380), (998, 1189),\n",
    "         (1178, 1389), (916, 1107), (1397, 1576), (1320, 1503), (861, 1012), (790, 965), (1229, 1444), (896, 1087), (769, 940),\n",
    "         (755, 906), (841, 1004), (979, 1170), (1226, 1417), (1362, 1553), (1054, 1245), (514, 669), (700, 867), (1050, 1241),\n",
    "         (946, 1145), (904, 1095), (868, 1059), (400, 547), (1124, 1303), (592, 787)]"
   ],
   "metadata": {
    "collapsed": false
   },
   "id": "faf1e0277f571d25"
  },
  {
   "cell_type": "code",
   "execution_count": null,
   "outputs": [],
   "source": [
    "bpe_4 = [(2813, 3004), (3200, 3391), (4025, 4228), (3648, 3851), (2033, 2172), (2768, 2959), (2796, 2987), (2810, 3013), (2542, 2733),\n",
    "         (2881, 3092), (2460, 2651), (2849, 3028), (2810, 2993), (2133, 2284), (3467, 3642), (2967, 3182), (2440, 2631), (2173, 2344),\n",
    "         (2021, 2172), (2219, 2382), (2556, 2747), (2770, 2961), (2900, 3091), (2628, 2819), (2168, 2323), (2490, 2657),\n",
    "         (3962, 4153), (2580, 2779), (2464, 2655), (2408, 2599), (1946, 2093), (2598, 2777), (2638, 2833)]"
   ],
   "metadata": {
    "collapsed": false
   },
   "id": "e42816f59953630a"
  },
  {
   "cell_type": "code",
   "execution_count": null,
   "outputs": [],
   "source": [
    "slice_checker(fgt_4, bpe_4, patients_ids_4)"
   ],
   "metadata": {
    "collapsed": false
   },
   "id": "7571e64b0b9c7f80"
  },
  {
   "cell_type": "code",
   "execution_count": null,
   "outputs": [],
   "source": [
    "automated_copy(o_directory, d_directory, patients_ids_4, fgt_4, bpe_4)"
   ],
   "metadata": {
    "collapsed": false
   },
   "id": "a23f67f61d8917dd"
  },
  {
   "cell_type": "markdown",
   "source": [
    "# Part 5"
   ],
   "metadata": {
    "collapsed": false
   },
   "id": "2a31b961cec82ebf"
  },
  {
   "cell_type": "code",
   "execution_count": null,
   "outputs": [],
   "source": [
    "folder_names_part5 = []\n",
    "folder_names_part5 = get_folder_names(mpath6, folder_names_part5)"
   ],
   "metadata": {
    "collapsed": false
   },
   "id": "876474e5d71de5c1"
  },
  {
   "cell_type": "code",
   "execution_count": null,
   "outputs": [],
   "source": [
    "folder_list = []\n",
    "for name in folder_names_part5:\n",
    "    if name not in all_ok_data:\n",
    "        print(name)\n",
    "        folder_list.append(name)"
   ],
   "metadata": {
    "collapsed": false
   },
   "id": "a3e096189d89efa"
  },
  {
   "cell_type": "code",
   "execution_count": null,
   "outputs": [],
   "source": [
    "len(folder_list)"
   ],
   "metadata": {
    "collapsed": false
   },
   "id": "121813f7c73c10e6"
  },
  {
   "cell_type": "code",
   "execution_count": null,
   "outputs": [],
   "source": [
    "no_data_cases = []"
   ],
   "metadata": {
    "collapsed": false
   },
   "id": "29b534e75e6f934f"
  },
  {
   "cell_type": "code",
   "execution_count": null,
   "outputs": [],
   "source": [
    "len(all_ok_data)"
   ],
   "metadata": {
    "collapsed": false
   },
   "id": "aa31a633635ddd5a"
  },
  {
   "cell_type": "code",
   "execution_count": null,
   "outputs": [],
   "source": [
    "for pid in no_data_cases:\n",
    "    if pid in all_ok_data:\n",
    "        all_ok_data.remove(pid)"
   ],
   "metadata": {
    "collapsed": false
   },
   "id": "9d81a72f1d094a6"
  },
  {
   "cell_type": "code",
   "execution_count": null,
   "outputs": [],
   "source": [
    "len(all_ok_data)"
   ],
   "metadata": {
    "collapsed": false
   },
   "id": "19f49a3621494ff7"
  },
  {
   "cell_type": "code",
   "execution_count": null,
   "outputs": [],
   "source": [
    "# Origin and destination directory\n",
    "d_directory = 'E:/Selected Data/'\n",
    "o_directory = mpath6 + '/'"
   ],
   "metadata": {
    "collapsed": false
   },
   "id": "6a74b2ee115e6258"
  },
  {
   "cell_type": "code",
   "execution_count": null,
   "outputs": [],
   "source": "patients_ids_5 = [\"Patients' ID's\"]",
   "metadata": {
    "collapsed": false
   },
   "id": "2095720be93558c9"
  },
  {
   "cell_type": "code",
   "execution_count": null,
   "outputs": [],
   "source": [
    "fgt_5 = [(941,1132), (982,1173), (1287,1478), (1017,1208), (1190,1389), (1033,1224),\n",
    " (991,1182), (1052,1243), (1160,1351), (978,1169),(879,1038), (1027,1218), (1224,1415), (974,1153), (1694,1885),\n",
    " (1134,1325), (1155,1346), (1174,1365), (1174,1365), (1250,1441), (405,490), (1181,1372), (1038,1229), (1007,1194),\n",
    " (631,806), (963,1154), (536,679), (1141,1332), (2281,2484), (1865,2068), (867,1006), (1204,1395), (1246,1437),\n",
    " (1177,1380), (998,1189), (1178,1389), (916,1107), (1397,1576), (896,1087)\n",
    " ]"
   ],
   "metadata": {
    "collapsed": false
   },
   "id": "aab347673d05086e"
  },
  {
   "cell_type": "code",
   "execution_count": null,
   "outputs": [],
   "source": [
    "bpe_5 = [(2285,2476), (2416,2607), (3199,3390), (2451,2642), (3269,3468), (2577,2768), (2941,3132), (2558,2749), (2688,2879), (2928,3119), (2687,2846), \n",
    "(2571,2762), (2776,2967), (2430,2609), (3250,3441), (2688,2879),(2567,2758), (2718,2909), (2729,2920), (2824,3015), (957,1042), (2785,2976), (2582,2773),\n",
    "(2523,2710), (1915,2090), (2507,2698), (2116,2259), (3200,3391), (4025,4228), (3648,3851), (2033,2172), (2768,2959), (2796,2987), (2810,3013), (2542,2733),\n",
    "(2881,3092), (2460,2651), (2849,3028), (2440,2631)\n",
    "]"
   ],
   "metadata": {
    "collapsed": false
   },
   "id": "68e52fec4a3cc4d5"
  },
  {
   "cell_type": "code",
   "execution_count": null,
   "outputs": [],
   "source": [
    "slice_checker(fgt_5, bpe_5, patients_ids_5)"
   ],
   "metadata": {
    "collapsed": false
   },
   "id": "3cad8da61457e0fc"
  },
  {
   "cell_type": "code",
   "execution_count": null,
   "outputs": [],
   "source": [
    "automated_copy(o_directory, d_directory, patients_ids_5, fgt_5, bpe_5)"
   ],
   "metadata": {
    "collapsed": false
   },
   "id": "991c0c7f42ffb696"
  },
  {
   "cell_type": "markdown",
   "source": [
    "# Part 6"
   ],
   "metadata": {
    "collapsed": false
   },
   "id": "eaef76535c476bdf"
  },
  {
   "cell_type": "code",
   "execution_count": null,
   "outputs": [],
   "source": [
    "folder_names_part6 = []\n",
    "folder_names_part6 = get_folder_names(mpath7, folder_names_part6)"
   ],
   "metadata": {
    "collapsed": false
   },
   "id": "eee940ee23a09e1f"
  },
  {
   "cell_type": "code",
   "execution_count": null,
   "outputs": [],
   "source": [
    "folder_list = []\n",
    "for name in folder_names_part6:\n",
    "    if name not in all_ok_data:\n",
    "        print(name)\n",
    "        folder_list.append(name)"
   ],
   "metadata": {
    "collapsed": false
   },
   "id": "c1984eeae2f7c24f"
  },
  {
   "cell_type": "code",
   "execution_count": null,
   "outputs": [],
   "source": [
    "len(folder_list)"
   ],
   "metadata": {
    "collapsed": false
   },
   "id": "2f208c6a54a80c4f"
  },
  {
   "cell_type": "code",
   "execution_count": null,
   "outputs": [],
   "source": "no_data_cases = [\"Patients' ID's\"]",
   "metadata": {
    "collapsed": false
   },
   "id": "cf699b752f1174c6"
  },
  {
   "cell_type": "code",
   "execution_count": null,
   "outputs": [],
   "source": [
    "len(all_ok_data)"
   ],
   "metadata": {
    "collapsed": false
   },
   "id": "7a96eee7843a7144"
  },
  {
   "cell_type": "code",
   "execution_count": null,
   "outputs": [],
   "source": [
    "for pid in no_data_cases:\n",
    "    if pid in all_ok_data:\n",
    "        all_ok_data.remove(pid)"
   ],
   "metadata": {
    "collapsed": false
   },
   "id": "7273d33c0f52ec65"
  },
  {
   "cell_type": "code",
   "execution_count": null,
   "outputs": [],
   "source": [
    "len(all_ok_data)"
   ],
   "metadata": {
    "collapsed": false
   },
   "id": "68d451e50a2ed953"
  },
  {
   "cell_type": "code",
   "execution_count": null,
   "outputs": [],
   "source": [
    "# Origin and destination directory\n",
    "d_directory = 'E:/Selected Data/'\n",
    "o_directory = mpath7 + '/'"
   ],
   "metadata": {
    "collapsed": false
   },
   "id": "88e97ec6e72b64e9"
  },
  {
   "cell_type": "code",
   "execution_count": null,
   "outputs": [],
   "source": "patients_ids_6 = [\"Patients' ID's\"]",
   "metadata": {
    "collapsed": false
   },
   "id": "b6682367aa848185"
  },
  {
   "cell_type": "code",
   "execution_count": null,
   "outputs": [],
   "source": [
    "fgt_6 = [(364,515), (658,833), (356,413), (321,472), (536,679), (536,623), (348,523), (345,512), (356,531), (518,615), (348,523),\n",
    "         (387,472), (396,481), (338,501), (605,690), (622,707), (340,423), (431,516), (365,450), (387,472), (269,354), (365,450),\n",
    "         (509,594), (365,450), (505,590), (454,625), (335,502), (348,523), (549,634), (525,610), (545,688), (509,594), (378,463),\n",
    "         (482,653), (625,710), (521,606), (580,665), (529,614), (320,471), (430,561), (344,479), (427,512), (365,442), (378,453),\n",
    "         (350,517), (509,594), (421,506), (394,479), (397,482), (403,488), (661,746), (409,494), (332,475), (397,540), (371,522),\n",
    "         (411,562), (568,653), (335,498), (421,506), (393,536), (368,511), (809,894), (393,478), (467,556), (551,694), (365,430),\n",
    "         (439,524), (450,535), (365,450), (451,536), (537,622), (427,512), (365,450), (330,481), (549,634), (529,614), (375,550),\n",
    "         (365,430), (387,474), (399,542), (413,572), (391,460), (541,626), (597,682), (521,606), (373,458), (365,432), (401,486),\n",
    "         (517,602), (521,606), (633,718), (377,528), (348,503), (554,639), (574,659), (417,502), (411,496), (509,594), (489,574),\n",
    "         (396,481), (403,472), (275,350), (301,394), (405,470), (277,352), (273,348), (415,504), (459,544), (505,590), (519,604),\n",
    "         (273,344)]"
   ],
   "metadata": {
    "collapsed": false
   },
   "id": "e3972b871fc2315a"
  },
  {
   "cell_type": "code",
   "execution_count": null,
   "outputs": [],
   "source": [
    "bpe_6 = [(1124,1275), (1606,1781), (782,839), (1081,1232), (2092,2235), (1056,1143), (1408,1583), (1245,1412), (1416,1591),\n",
    "         (1206,1303), (1408,1583), (885,970), (894,979), (1338,1501), (1103,1188), (1124,1209), (848,931), (1317,1402), (1262,1347),\n",
    "         (971,1056), (699,784), (1247,1332), (1458,1543), (1126,1211), (1015,1100), (1554,1725), (1523,1690), (1408,1583), (1150,1235),\n",
    "         (1081,1166), (1601,1744), (1151,1236), (876,961), (1410,1581), (1205,1290), (1083,1168), (1198,1283), (1105,1190), (1236,1387),\n",
    "         (1402,1533), (1340,1475), (1102,1187), (823,900), (826,901), (1370,1537), (1023,1108), (939,1024), (1123,1208), (1202,1287),\n",
    "         (1244,1329), (1211,1296), (951,1036), (1208,1351), (1273,1416), (1287,1438), (1375,1526), (1106,1191), (1335,1498), (1101,1186),\n",
    "         (1269,1412), (1244,1387), (1515,1600), (904,989), (1228,1317), (1427,1570), (763,828), (981,1066), (948,1033), (1101,1186),\n",
    "         (1209,1294), (1079,1164), (925,1010), (863,948), (1270,1421), (1111,1196), (1063,1148), (1435,1610), (1089,1154), (908,995),\n",
    "         (1275,1418), (1369,1528), (809,878), (1087,1172), (1135,1220), (1047,1132), (907,992), (1126,1193), (914,999), (1039,1124),\n",
    "         (1047,1132), (1179,1264), (1293,1444), (1308,1463), (1080,1165), (1120,1205), (943,1028), (933,1018), (1242,1327), (1256,1341),\n",
    "         (937,1022), (845,914), (747,822), (863,956), (842,907), (749,824), (745,820), (969,1058), (1136,1221), (1170,1255), (1073,1158),\n",
    "         (725,796)]"
   ],
   "metadata": {
    "collapsed": false
   },
   "id": "d5bd67005bda5324"
  },
  {
   "cell_type": "code",
   "execution_count": null,
   "outputs": [],
   "source": [
    "slice_checker(fgt_6, bpe_6, patients_ids_6)"
   ],
   "metadata": {
    "collapsed": false
   },
   "id": "b211cfe399bbda2"
  },
  {
   "cell_type": "code",
   "execution_count": null,
   "outputs": [],
   "source": [
    "automated_copy(o_directory, d_directory, patients_ids_6, fgt_6, bpe_6)"
   ],
   "metadata": {
    "collapsed": false
   },
   "id": "4444162b71cc57c5"
  },
  {
   "cell_type": "markdown",
   "source": [
    "# Part 7"
   ],
   "metadata": {
    "collapsed": false
   },
   "id": "fd0b8d3eb6f8889f"
  },
  {
   "cell_type": "code",
   "execution_count": null,
   "outputs": [],
   "source": [
    "folder_names_part7 = []\n",
    "folder_names_part7 = get_folder_names(mpath1, folder_names_part7)"
   ],
   "metadata": {
    "collapsed": false
   },
   "id": "2556e7fb7f35f07d"
  },
  {
   "cell_type": "code",
   "execution_count": null,
   "outputs": [],
   "source": [
    "folder_list = []\n",
    "for name in folder_names_part7:\n",
    "    if name not in all_ok_data:\n",
    "        print(name)\n",
    "        folder_list.append(name)"
   ],
   "metadata": {
    "collapsed": false
   },
   "id": "6a1baa57bf75c3c0"
  },
  {
   "cell_type": "code",
   "execution_count": null,
   "outputs": [],
   "source": [
    "len(folder_list)"
   ],
   "metadata": {
    "collapsed": false
   },
   "id": "10597b12bc469c24"
  },
  {
   "cell_type": "code",
   "execution_count": null,
   "outputs": [],
   "source": [
    "no_data_cases = []"
   ],
   "metadata": {
    "collapsed": false
   },
   "id": "d854140b4c3caa71"
  },
  {
   "cell_type": "code",
   "execution_count": null,
   "outputs": [],
   "source": [
    "len(all_ok_data)"
   ],
   "metadata": {
    "collapsed": false
   },
   "id": "c23073f55e7c7c1"
  },
  {
   "cell_type": "code",
   "execution_count": null,
   "outputs": [],
   "source": [
    "for pid in no_data_cases:\n",
    "    if pid in all_ok_data:\n",
    "        all_ok_data.remove(pid)"
   ],
   "metadata": {
    "collapsed": false
   },
   "id": "284401055707a565"
  },
  {
   "cell_type": "code",
   "execution_count": null,
   "outputs": [],
   "source": [
    "len(all_ok_data)"
   ],
   "metadata": {
    "collapsed": false
   },
   "id": "255087af0e84a6f"
  },
  {
   "cell_type": "code",
   "execution_count": null,
   "outputs": [],
   "source": [
    "# Origin and destination directory\n",
    "d_directory = 'E:/Selected Data/'\n",
    "o_directory = mpath1 + '/'"
   ],
   "metadata": {
    "collapsed": false
   },
   "id": "7e491169c068dbcc"
  },
  {
   "cell_type": "code",
   "execution_count": null,
   "outputs": [],
   "source": "patients_ids_7 = [\"Patients' ID's\"]",
   "metadata": {
    "collapsed": false
   },
   "id": "d636c884c2f0d6ec"
  },
  {
   "cell_type": "code",
   "execution_count": null,
   "outputs": [],
   "source": [
    "fgt_7 = [(1038,1229), (1007,1194), (963,1154), (1141,1332), (2281,2484), (1865,2068), (867,1006), (1204,1395), (1246,1437), (1177,1380), (998,1189), \n",
    "(1178,1389), (916,1107), (1397,1576), (1258,1441), (805,956), (736,911), (1155,1370), (832,1023), (812,1003), (721,892), (707,858), (783,946), (907,1098), (1146,1337), (1292,1483), (514,669), (700,867), (970,1161)]"
   ],
   "metadata": {
    "collapsed": false
   },
   "id": "7ab0f472850245e3"
  },
  {
   "cell_type": "code",
   "execution_count": null,
   "outputs": [],
   "source": [
    "bpe_7 = [(2582,2773), (2523,2710), (2507,2698), (3200,3391), (4025,4228), (3648,3851), (2033,2172), (2768,2959), (2796,2987), (2810,3013), (2542,2733),\n",
    "(2881,3092), (2460,2651), (2849,3028), (2748,2931), (2077,2228), (3413,3588), (2893,3108), (2376,2567), (2360,2551), (2125,2296), (1973,2124), (2161,2324), (2484,2675), (2690,2881), (2830,3021), (2168,2323), (2490,2657), (3882,4073) ]"
   ],
   "metadata": {
    "collapsed": false
   },
   "id": "581d56fc374159fa"
  },
  {
   "cell_type": "code",
   "execution_count": null,
   "outputs": [],
   "source": [
    "slice_checker(fgt_7, bpe_7, patients_ids_7)"
   ],
   "metadata": {
    "collapsed": false
   },
   "id": "6af74cbe97cca78d"
  },
  {
   "cell_type": "code",
   "execution_count": null,
   "outputs": [],
   "source": [
    "automated_copy(o_directory, d_directory, patients_ids_7, fgt_7, bpe_7)"
   ],
   "metadata": {
    "collapsed": false
   },
   "id": "a59aea113bf3bdc1"
  },
  {
   "cell_type": "markdown",
   "source": [
    "# Part 8"
   ],
   "metadata": {
    "collapsed": false
   },
   "id": "50eabbd72536335c"
  },
  {
   "cell_type": "code",
   "execution_count": null,
   "outputs": [],
   "source": [
    "folder_names_part8 = []\n",
    "folder_names_part8 = get_folder_names(mpath2, folder_names_part8)"
   ],
   "metadata": {
    "collapsed": false
   },
   "id": "e15b9015e49e50c6"
  },
  {
   "cell_type": "code",
   "execution_count": null,
   "outputs": [],
   "source": [
    "folder_list = []\n",
    "for name in folder_names_part8:\n",
    "    if name not in all_ok_data:\n",
    "        print(name)\n",
    "        folder_list.append(name)"
   ],
   "metadata": {
    "collapsed": false
   },
   "id": "1c1f90a7dc2b6a99"
  },
  {
   "cell_type": "code",
   "execution_count": null,
   "outputs": [],
   "source": [
    "len(folder_list)"
   ],
   "metadata": {
    "collapsed": false
   },
   "id": "fa5dd5900c5f2994"
  },
  {
   "cell_type": "code",
   "execution_count": null,
   "outputs": [],
   "source": [
    "no_data_cases = []"
   ],
   "metadata": {
    "collapsed": false
   },
   "id": "a197b50ef104149f"
  },
  {
   "cell_type": "code",
   "execution_count": null,
   "outputs": [],
   "source": [
    "len(all_ok_data)"
   ],
   "metadata": {
    "collapsed": false
   },
   "id": "c389aa2245d6a4d9"
  },
  {
   "cell_type": "code",
   "execution_count": null,
   "outputs": [],
   "source": [
    "for pid in no_data_cases:\n",
    "    if pid in all_ok_data:\n",
    "        all_ok_data.remove(pid)"
   ],
   "metadata": {
    "collapsed": false
   },
   "id": "d50691da8bdfffba"
  },
  {
   "cell_type": "code",
   "execution_count": null,
   "outputs": [],
   "source": [
    "len(all_ok_data)"
   ],
   "metadata": {
    "collapsed": false
   },
   "id": "2adb448a15eccf97"
  },
  {
   "cell_type": "code",
   "execution_count": null,
   "outputs": [],
   "source": [
    "# Origin and destination directory\n",
    "d_directory = 'E:/Selected Data/'\n",
    "o_directory = mpath2 + '/'"
   ],
   "metadata": {
    "collapsed": false
   },
   "id": "62c01aa9bea4a7b2"
  },
  {
   "cell_type": "code",
   "execution_count": null,
   "outputs": [],
   "source": "patients_ids_8 = [\"Patients' ID's\"]",
   "metadata": {
    "collapsed": false
   },
   "id": "fc59402738b39ba5"
  },
  {
   "cell_type": "code",
   "execution_count": null,
   "outputs": [],
   "source": [
    "fgt_8 = [(364,515), (280,411), (300,451), (288,439), (304,467), (284,435), (290,421), (316,479), (300,451), (258,377), (329,500), (315,478), (348,531), (300,451), (300,451), (321,488), (1181,1372), (1038,1229), (876,1067), (380,559), (588,803)]"
   ],
   "metadata": {
    "collapsed": false
   },
   "id": "451fbbe2ec5240d6"
  },
  {
   "cell_type": "code",
   "execution_count": null,
   "outputs": [],
   "source": [
    "bpe_8 = [(1124,1275), (940,1071), (1880,2031), (1081,1232), (1176,1339), (1088,1239), (950,1081), (1136,1299), (1060,1211), (858,977), (1189,1360), (1135,1298), (1268,1451), (1060,1211), (1060,1211), (1413,1580), (2785,2976), (2582,2773), (2424,2615), (2290,2469), (2842,3057) ]"
   ],
   "metadata": {
    "collapsed": false
   },
   "id": "35cdfc3795390364"
  },
  {
   "cell_type": "code",
   "execution_count": null,
   "outputs": [],
   "source": [
    "slice_checker(fgt_8, bpe_8, patients_ids_8)"
   ],
   "metadata": {
    "collapsed": false
   },
   "id": "3b9c04d80eb4544b"
  },
  {
   "cell_type": "code",
   "execution_count": null,
   "outputs": [],
   "source": [
    "automated_copy(o_directory, d_directory, patients_ids_8, fgt_8, bpe_8)"
   ],
   "metadata": {
    "collapsed": false
   },
   "id": "35788571eacba94"
  },
  {
   "cell_type": "markdown",
   "source": [
    "# Part 9"
   ],
   "metadata": {
    "collapsed": false
   },
   "id": "3dba98c7477dd260"
  },
  {
   "cell_type": "code",
   "execution_count": null,
   "outputs": [],
   "source": [
    "folder_names_part9 = []\n",
    "folder_names_part9 = get_folder_names(mpath8, folder_names_part9)"
   ],
   "metadata": {
    "collapsed": false
   },
   "id": "d81632e886141ca7"
  },
  {
   "cell_type": "code",
   "execution_count": null,
   "outputs": [],
   "source": [
    "folder_list = []\n",
    "for name in folder_names_part9:\n",
    "    if name not in all_ok_data:\n",
    "        print(name)\n",
    "        folder_list.append(name)"
   ],
   "metadata": {
    "collapsed": false
   },
   "id": "505e9f9de1c460ac"
  },
  {
   "cell_type": "code",
   "execution_count": null,
   "outputs": [],
   "source": [
    "len(folder_list)"
   ],
   "metadata": {
    "collapsed": false
   },
   "id": "8f5085f71ca7364f"
  },
  {
   "cell_type": "code",
   "execution_count": null,
   "outputs": [],
   "source": [
    "no_data_cases = []"
   ],
   "metadata": {
    "collapsed": false
   },
   "id": "4ab014abe6e38f40"
  },
  {
   "cell_type": "code",
   "execution_count": null,
   "outputs": [],
   "source": [
    "len(all_ok_data)"
   ],
   "metadata": {
    "collapsed": false
   },
   "id": "9f95fe134f3a8689"
  },
  {
   "cell_type": "code",
   "execution_count": null,
   "outputs": [],
   "source": [
    "for pid in no_data_cases:\n",
    "    if pid in all_ok_data:\n",
    "        all_ok_data.remove(pid)"
   ],
   "metadata": {
    "collapsed": false
   },
   "id": "95ba2d282bfd46b8"
  },
  {
   "cell_type": "code",
   "execution_count": null,
   "outputs": [],
   "source": [
    "len(all_ok_data)"
   ],
   "metadata": {
    "collapsed": false
   },
   "id": "a0cba876e57cca46"
  },
  {
   "cell_type": "code",
   "execution_count": null,
   "outputs": [],
   "source": [
    "# Origin and destination directory\n",
    "d_directory = 'E:/Selected Data/'\n",
    "o_directory = mpath8 + '/'"
   ],
   "metadata": {
    "collapsed": false
   },
   "id": "ef97efd2780012a8"
  },
  {
   "cell_type": "code",
   "execution_count": null,
   "outputs": [],
   "source": "patients_ids_9 = [\"Patients' ID's\"]",
   "metadata": {
    "collapsed": false
   },
   "id": "62a350f60bd26df1"
  },
  {
   "cell_type": "code",
   "execution_count": null,
   "outputs": [],
   "source": [
    "fgt_9 = [(1019,1210), (861,1012), (790,965), (1229,1444), (876,1067), (769,940), (755,906), (841,1004), (979,1170), (1226,1417), (1362,1553), (1050,1241), (946,1145), (868,1059)]"
   ],
   "metadata": {
    "collapsed": false
   },
   "id": "71fc01a71ab0afef"
  },
  {
   "cell_type": "code",
   "execution_count": null,
   "outputs": [],
   "source": [
    "bpe_9 = [(2567,2758), (2133,2284), (3467,3642), (2967,3182), (2424,2615), (2173,2344), (2021,2172), (2219,2382), (2556,2747), (2770,2961), (2900,3091), (3962,4153), (2580,2779), (2408,2599)]"
   ],
   "metadata": {
    "collapsed": false
   },
   "id": "21d4aa80c0b341f0"
  },
  {
   "cell_type": "code",
   "execution_count": null,
   "outputs": [],
   "source": [
    "slice_checker(fgt_9, bpe_9, patients_ids_9)"
   ],
   "metadata": {
    "collapsed": false
   },
   "id": "2137847d6c0e1a60"
  },
  {
   "cell_type": "code",
   "execution_count": null,
   "outputs": [],
   "source": [
    "automated_copy(o_directory, d_directory, patients_ids_9, fgt_9, bpe_9)"
   ],
   "metadata": {
    "collapsed": false
   },
   "id": "31f6d209eab9cf5f"
  },
  {
   "cell_type": "markdown",
   "source": [
    "# Part 10"
   ],
   "metadata": {
    "collapsed": false
   },
   "id": "9d8d3a300794893a"
  },
  {
   "cell_type": "code",
   "execution_count": null,
   "outputs": [],
   "source": [
    "folder_names_part10 = []\n",
    "folder_names_part10 = get_folder_names(mpath9, folder_names_part10)"
   ],
   "metadata": {
    "collapsed": false
   },
   "id": "20993da662df4865"
  },
  {
   "cell_type": "code",
   "execution_count": null,
   "outputs": [],
   "source": [
    "folder_list = []\n",
    "for name in folder_names_part10:\n",
    "    if name not in all_ok_data:\n",
    "        print(name)\n",
    "        folder_list.append(name)"
   ],
   "metadata": {
    "collapsed": false
   },
   "id": "c7c5fbc5175114ef"
  },
  {
   "cell_type": "code",
   "execution_count": null,
   "outputs": [],
   "source": [
    "len(folder_list)"
   ],
   "metadata": {
    "collapsed": false
   },
   "id": "e2a7a55130b8684"
  },
  {
   "cell_type": "code",
   "execution_count": null,
   "outputs": [],
   "source": [
    "no_data_cases = ['8867592']"
   ],
   "metadata": {
    "collapsed": false
   },
   "id": "2ce09b8173210fd0"
  },
  {
   "cell_type": "code",
   "execution_count": null,
   "outputs": [],
   "source": [
    "len(all_ok_data)"
   ],
   "metadata": {
    "collapsed": false
   },
   "id": "9e539290775357a3"
  },
  {
   "cell_type": "code",
   "execution_count": null,
   "outputs": [],
   "source": [
    "for pid in no_data_cases:\n",
    "    if pid in all_ok_data:\n",
    "        all_ok_data.remove(pid)"
   ],
   "metadata": {
    "collapsed": false
   },
   "id": "e9e1d196252c5c50"
  },
  {
   "cell_type": "code",
   "execution_count": null,
   "outputs": [],
   "source": [
    "len(all_ok_data)"
   ],
   "metadata": {
    "collapsed": false
   },
   "id": "ff3f921539d857d8"
  },
  {
   "cell_type": "code",
   "execution_count": null,
   "outputs": [],
   "source": [
    "# Origin and destination directory\n",
    "d_directory = 'E:/Selected Data/'\n",
    "o_directory = mpath9 + '/'"
   ],
   "metadata": {
    "collapsed": false
   },
   "id": "b9f840e50cc220b3"
  },
  {
   "cell_type": "code",
   "execution_count": null,
   "outputs": [],
   "source": "patients_ids_10 = [\"Patients' ID's\"]",
   "metadata": {
    "collapsed": false
   },
   "id": "903b6b4c5b648015"
  },
  {
   "cell_type": "code",
   "execution_count": null,
   "outputs": [],
   "source": [
    "fgt_10 = [(368,511), (400,567), (753,920), (424,567), (442,585), (321,488), (486,561), (485,570), (425,604), (372,455), (417,494), (641,720), (396,483), (654,739), (525,610), (538,623), (552,637), (453,652), (365,532), (408,473), (521,606), (558,643), (550,635), (434,519), (499,560),  (493,564),\n",
    "(529,614), (277,362), (471,572), (405,490), (381,444), (405,490), (293,378), (310,387), (275,352), (396,481), (277,362), (277,362), (405,490), (419,504), (405,482), (465,554), (311,396), (405,490), (361,504), (430,593), (344,475), (639,782), (991,1182), (1052,1243), (978,1169), (304,415),\n",
    "(406,593), (395,574), (347,522), (347,522), (275,450), (427,618), (316,491), (395,578), (282,457), (532,699), (428,615), (414,605), (503,654), (325,500), (336,511), (377,552), (402,585), (396,595), (677,872), (323,462), (333,508), (393,568), (355,530), (360,535), (325,476), \n",
    "(336,503), (461,636), (333,508), (404,579), (384,559), (383,558), (405,490), (386,561), (407,582), (516,703)\n",
    "]"
   ],
   "metadata": {
    "collapsed": false
   },
   "id": "63777c6f1ab67a1c"
  },
  {
   "cell_type": "code",
   "execution_count": null,
   "outputs": [],
   "source": [
    "bpe_10 = [(1930,2073), (1300,1467), (1653,1820), (2130,2273), (2301,2444), (1413,1580), (950,1025), (1090,1175), (1786,1965), (916,999), (1322,1399), (1144,1223), (938,1025), (1355,1440), (1055,1140), (1068,1153), (1078,1163), (1893,2092), (1273,1440), (806,871), (1069,1154), (1088,1173), (1092,1177), (946,1031), (901,962), (945,1016),\n",
    "(1448,1533), (799,884), (1101,1202), (951,1036), (813,876), (1082,1167), (1111,1196), (792,869), (757,834), (1078,1163), (799,884), (799,884), (927,1012), (977,1062), (887,964), (1035,1124), (854,939), (939,1024), (1237,1380), (1406,1569), (1160,1291), (2510,2653), (2941,3132), (2558,2749), (2928,3119), (864,975),\n",
    "(2392,2579), (1679,1858), (1619,1794), (1619,1794), (1511,1686), (1831,2022), (1552,1727), (1739,1922), (1518,1693), (1804,1971), (2434,2621), (1818,2009), (1419,1570), (1561,1736), (1608,1783), (1637,1812), (1734,1917), (2473,2672), (2105,2300), (1307,1446), (1569,1744), (1737,1912), (1651,1826), (1596,1771), (1417,1568), \n",
    "(2082,2249), (1706,1881), (1569,1744), (1640,1815), (2093,2268), (1635,1810), (939,1024), (1802,1977), (1739,1914), (1860,2047) \n",
    "]"
   ],
   "metadata": {
    "collapsed": false
   },
   "id": "3f445f12d238d8dc"
  },
  {
   "cell_type": "code",
   "execution_count": null,
   "outputs": [],
   "source": [
    "slice_checker(fgt_10, bpe_10, patients_ids_10)"
   ],
   "metadata": {
    "collapsed": false
   },
   "id": "fcce6092e8fc7d3e"
  },
  {
   "cell_type": "code",
   "execution_count": null,
   "outputs": [],
   "source": [
    "automated_copy(o_directory, d_directory, patients_ids_10, fgt_10, bpe_10)"
   ],
   "metadata": {
    "collapsed": false
   },
   "id": "37ba20fc65095d6a"
  },
  {
   "cell_type": "markdown",
   "source": [
    "# Part 11"
   ],
   "metadata": {
    "collapsed": false
   },
   "id": "3735a269d21ed9c3"
  },
  {
   "cell_type": "code",
   "execution_count": null,
   "outputs": [],
   "source": [
    "folder_names_part11 = []\n",
    "folder_names_part11 = get_folder_names(mpath11, folder_names_part11)"
   ],
   "metadata": {
    "collapsed": false
   },
   "id": "85dca72761828bf6"
  },
  {
   "cell_type": "code",
   "execution_count": null,
   "outputs": [],
   "source": [
    "folder_list = []\n",
    "for name in folder_names_part11:\n",
    "    if name not in all_ok_data:\n",
    "        print(name)\n",
    "        folder_list.append(name)"
   ],
   "metadata": {
    "collapsed": false
   },
   "id": "566309fa5aafefef"
  },
  {
   "cell_type": "code",
   "execution_count": null,
   "outputs": [],
   "source": [
    "len(folder_list)"
   ],
   "metadata": {
    "collapsed": false
   },
   "id": "9422568e5a12e832"
  },
  {
   "cell_type": "code",
   "execution_count": null,
   "outputs": [],
   "source": [
    "# Origin and destination directory\n",
    "d_directory = 'E:/New Selected Data/'\n",
    "o_directory = mpath11 + '/'"
   ],
   "metadata": {
    "collapsed": false
   },
   "id": "13e6d4582e5338f6"
  },
  {
   "cell_type": "code",
   "execution_count": null,
   "outputs": [],
   "source": "patients_ids_11 = [\"Patients' ID's\"]",
   "metadata": {
    "collapsed": false
   },
   "id": "7bce149f80f73891"
  },
  {
   "cell_type": "code",
   "execution_count": null,
   "outputs": [],
   "source": [
    "fgt_11 = [\n",
    "    (319, 404), (287, 372), (277, 362), (299, 384), (397, 474), (405, 490), (277, 362), (301, 386), (377, 462), (434, 519), (355, 518), (667, 810), (496, 639), (369, 454), (451, 536), (388, 473)\n",
    "    , (655, 798), (450, 629), (507, 650),(487, 658), (409, 494), (525, 616), (433, 522), (373, 458), (469, 562), (790, 933), (749, 904), (441, 624), (295, 380), (553, 744), (794, 993), (571, 746)\n",
    "    , (315, 400), (808, 975), (397, 482), (415, 500), (649, 852), (348, 531), (420, 599), (506, 681), (381, 556), (433, 518), (663, 748), (525, 668), (410, 593), (379, 554), (447, 626), (468,659)\n",
    "    , (363,448), (417, 502), (455, 546), (472, 559), (383, 546), (392, 477), (552, 637), (381, 466), (649, 734), (366, 443), (365, 450), \n",
    "    (452,595), (464, 553), (1280, 1471), (443, 614), (391, 558), (610, 785), \n",
    "    \n",
    "    (348, 523), (431, 520), (415, 500), (444, 529),\n",
    "    (397, 576), (379, 558), (591, 766), (531, 674), \n",
    "    (541, 704), (477, 620), (457, 644), (393, 568), \n",
    "    (421, 600), (393, 572), (417, 600), (409, 494), \n",
    "    (573, 716), (706, 885), (327, 502), (405, 490),\n",
    "    (405, 490), (405, 490), (454, 637), (401, 580),\n",
    "    (453, 632), (418, 593), (393, 472), (277, 358),\n",
    "    (435, 524), (473, 592), (500, 631), (509, 652),\n",
    "    (576, 727), (429, 514), (467, 662), (425, 600),\n",
    "    (311, 486), (375, 550), (335, 510), (300, 427),\n",
    "    (381, 556), (351, 526), (601, 776), (341, 516),\n",
    "    (414, 593), (449, 540), (441, 526), (405, 490),\n",
    "    (402, 577), (343, 502), (389, 572), (354, 505),\n",
    "    (343, 482), (347, 522), (430, 625), (352, 527),\n",
    "    (320, 455), (549, 712), (364, 515), (509, 716),\n",
    "    (579, 750), (369, 544), (327, 466), (347, 502),\n",
    "    (338, 493), (415, 500), (526, 677), (390, 565),\n",
    "    (343, 518), (385, 560), (394, 585), (476, 695),\n",
    "    (362, 537), (405, 490), (314, 489), (394, 569),\n",
    "    (421, 612), (418, 597), (383, 558), (423, 598),\n",
    "    (343, 518), (363, 538)\n",
    "]"
   ],
   "metadata": {
    "collapsed": false
   },
   "id": "4d4432f0289715c2"
  },
  {
   "cell_type": "code",
   "execution_count": null,
   "outputs": [],
   "source": [
    "bpe_11 = [\n",
    "    (2328, 2413), (2142, 2227), (815, 900), (833, 918), (891, 968), (938,1023), (1877, 1962), (1929, 2014), (975, 1060), (1027, 1112), (2089, 2252), (1543, 1686), (2313, 2456), (930, 1015), (1069, 1154), (1473, 1558)\n",
    "    , (1531, 1674), (2416, 2595), (1383, 1526),(4004, 4175), (1023, 1108), (1089, 1180), (987, 1076), (954, 1039), (1145, 1238), (1666, 1809), (1745, 1900), (1797, 1980), (832, 917), (2629, 2820), (2246, 2445), (1879, 2054)\n",
    "    , (852, 937), (2058, 2225), (987, 1072), (984, 1069), (2065, 2268), (1452, 1635), (1596, 1775), (1748, 1923), (1637, 1812), (1043, 1128), (1261, 1346), (1401, 1544), (1754, 1937), (1619, 1794), (1731, 1910), (1812,2003)\n",
    "    , (910, 995), (965, 1050), (2067, 2158), (1054, 1141), (1631, 1794), (995, 1080), (1097, 1182), (994, 1079), (1253, 1338), (857, 934), (924, 1009), (2024, 2167), (1054, 1143), (2684, 2875), (1715,1886), (1615, 1782),\n",
    "    (1848, 2023)\n",
    "    \n",
    "    , (1588, 1763), (1000, 1089), (954, 1039), (985, 1070),\n",
    "    (1675, 1854), (1651, 1830), (1827, 2002), (2111, 2254),\n",
    "    (1517, 1680), (1353, 1496), (1801, 1988), (1629, 1804),\n",
    "    (1681, 1860), (1653, 1832), (1701, 1884), (950, 1035),\n",
    "    (2163, 2306), (1966, 2145), (1596, 1771), (1385, 1470),\n",
    "    (1283, 1368), (1512, 1597), (1774, 1957), (1673, 1852),\n",
    "    (1737, 1916), (1654, 1829), (900, 979), (794, 875),\n",
    "    (993, 1082), (1073, 1192), (1160, 1291), (1229, 1372),\n",
    "    (1492, 1643), (973, 1058), (2046, 2241), (1850, 2025),\n",
    "    (1271, 1446), (1731, 1906), (1562, 1737), (1248, 1375),\n",
    "    (1641, 1816), (1611, 1786), (1861, 2036), (1601, 1776),\n",
    "    (1710, 1889), (1645, 1736), (974, 1059), (947, 1032),\n",
    "    (1638, 1813), (1483, 1642), (1673, 1856), (1446, 1597),\n",
    "    (1363, 1502), (1619, 1794), (1870, 2065), (1588, 1763),\n",
    "    (1316, 1451), (1773, 1936), (1504, 1655), (2033, 2240),\n",
    "    (1851, 2022), (1605, 1780), (1347, 1486), (1463, 1618),\n",
    "    (1454, 1609), (949, 1034), (2212, 2363), (1698, 1873),\n",
    "    (1603, 1778), (1657, 1832), (1762, 1953), (2036, 2255),\n",
    "    (1602, 1777), (939, 1024), (1550, 1725), (1714, 1889),\n",
    "    (1789, 1980), (1694, 1873), (1643, 1818), (1803, 1978),\n",
    "    (1603, 1778), (1659, 1834) ]"
   ],
   "metadata": {
    "collapsed": false
   },
   "id": "3fea7edea2a31fe4"
  },
  {
   "cell_type": "code",
   "execution_count": null,
   "outputs": [],
   "source": [
    "slice_checker(fgt_11, bpe_11, patients_ids_11)"
   ],
   "metadata": {
    "collapsed": false
   },
   "id": "2226ecb2d1df7ddb"
  },
  {
   "cell_type": "code",
   "execution_count": null,
   "outputs": [],
   "source": [
    "automated_copy(o_directory, d_directory, patients_ids_11, fgt_11, bpe_11)"
   ],
   "metadata": {
    "collapsed": false
   },
   "id": "1f59cf0037ac01f2"
  },
  {
   "cell_type": "markdown",
   "source": [
    "# Part 12"
   ],
   "metadata": {
    "collapsed": false
   },
   "id": "5229de70357c958c"
  },
  {
   "cell_type": "code",
   "execution_count": null,
   "outputs": [],
   "source": [
    "folder_names_part12 = []\n",
    "folder_names_part12 = get_folder_names(mpath12, folder_names_part12)"
   ],
   "metadata": {
    "collapsed": false
   },
   "id": "60b9730f805e985c"
  },
  {
   "cell_type": "code",
   "execution_count": null,
   "outputs": [],
   "source": [
    "folder_list = []\n",
    "for name in folder_names_part12:\n",
    "    if name not in all_ok_data:\n",
    "        print(name)\n",
    "        folder_list.append(name)"
   ],
   "metadata": {
    "collapsed": false
   },
   "id": "1ea7dc692203ea07"
  },
  {
   "cell_type": "code",
   "execution_count": null,
   "outputs": [],
   "source": [
    "len(folder_list)"
   ],
   "metadata": {
    "collapsed": false
   },
   "id": "9cf055f67800bf77"
  },
  {
   "cell_type": "code",
   "execution_count": null,
   "outputs": [],
   "source": [
    "# Origin and destination directory\n",
    "d_directory = 'E:/New Selected Data 2/'\n",
    "o_directory = mpath12 + '/'"
   ],
   "metadata": {
    "collapsed": false
   },
   "id": "ba4191625009cfbf"
  },
  {
   "cell_type": "code",
   "execution_count": null,
   "outputs": [],
   "source": "patients_ids_12 = [\"Patients' ID's\"]",
   "metadata": {
    "collapsed": false
   },
   "id": "2455bbdbee3fd7d2"
  },
  {
   "cell_type": "code",
   "execution_count": null,
   "outputs": [],
   "source": [
    "fgt_12 = [(366, 541), (381, 468), (385, 470), (505, 590),(558, 737),\n",
    "          (366, 541), (306, 441), (449, 534), (376, 543), (478, 559),\n",
    "          (460, 547), (304, 467), (303, 474), (351, 426), (449, 534),\n",
    "          (498, 583), (449, 534), (339, 482), (424, 591), (457, 542),\n",
    "          (432, 517), (332, 495), (393, 480), (324, 409), (316, 401),\n",
    "          (473, 558), (449, 534), (407, 594), (385, 556), (489, 574),\n",
    "          (524, 609), (444, 603), (443, 602), (472, 615), (412, 547),\n",
    "          (597, 740), (515, 650), (544, 687), (528, 671), (314, 445),\n",
    "          (394, 513), (494, 621), (442, 585), (393, 544), (378, 463),\n",
    "          (451, 618), (465, 640), (496, 639), (536, 679), (618, 761),\n",
    "          (320, 495), (267, 398), (365, 450), (408, 559), (465, 550),\n",
    "          (516, 659), (574, 717), (280, 439), (416, 559), (408, 551),\n",
    "          (461, 604), (559, 702), (431, 516), (453, 538), (453, 538),\n",
    "          (493, 612), (350, 517), (277, 362), (277, 362), (283, 368),\n",
    "          (310, 395), (333, 418), (277, 362), (497, 574), (479, 622),\n",
    "          (439, 614), (423, 598), (690, 873), (299, 384), (442, 527),\n",
    "          (490, 637), (271, 356), (427, 614), (279, 364), (815, 958),\n",
    "          (277, 364), (423, 508), (376, 571), (443, 528), (417, 502),\n",
    "          (515, 658), (547, 702), (582, 745), (475, 646), (325, 412),\n",
    "          (405, 490), (289, 374), (424, 515), (381, 454), (412, 497),\n",
    "          (365, 436), (417, 604), (555, 730), (489, 574), (289, 374),\n",
    "          (301, 388), (299, 384), (269, 354), (575, 750), (319, 404),\n",
    "          (277, 362), (782, 997), (279, 364), (373, 458), (365, 450),\n",
    "          (425, 510), (515, 690), (297, 382), (321, 406), (393, 478),\n",
    "          (479, 622), (281, 366), (411, 496), (405, 490), (369, 454),\n",
    "          (329, 398), (410, 557), (580, 767), (412, 591), (299, 384),\n",
    "          (649, 800), (417, 502), (393, 478)]"
   ],
   "metadata": {
    "collapsed": false
   },
   "id": "9f40971d5034d13"
  },
  {
   "cell_type": "code",
   "execution_count": null,
   "outputs": [],
   "source": [
    "bpe_12 = [(1602, 1777), (821, 908), (815, 900), (1003, 1088), (1818, 1997),\n",
    "          (1602, 1777), (1266, 1401), (1059, 1144), (1492, 1659), (1331, 1412),\n",
    "          (1355, 1442), (1432, 1595), (1491, 1662), (731, 806), (1059, 1144),\n",
    "          (1156, 1241), (1059, 1144), (1359, 1502), (1588, 1755), (1048, 1133),\n",
    "          (930, 1015), (1496, 1659), (929, 1016), (934, 1019), (902, 987),\n",
    "          (1155, 1240), (1059, 1144), (1643, 1830), (1525, 1696), (1198, 1283),\n",
    "          (1224, 1309), (1404, 1563), (1467, 1626), (1192, 1335), (1092, 1227),\n",
    "          (2153, 2296), (1983, 2118), (2100, 2243), (2256, 2399), (974, 1105),\n",
    "          (1102, 1221), (1250, 1377), (1998, 2141), (1153, 1304), (978, 1063),\n",
    "          (1291, 1458), (1413, 1588), (1936, 2079), (2092, 2235), (2174, 2317),\n",
    "          (1215, 1390), (927, 1058), (867, 952), (1176, 1327), (976, 1061),\n",
    "          (2092, 2235), (2316, 2459), (1196, 1355), (1136, 1279), (1128, 1271),\n",
    "          (1967, 2110), (1401, 1544), (1122, 1207), (979, 1064), (1156, 1241),\n",
    "          (1314, 1433), (2096, 2263), (818, 903), (1300, 1385), (822, 907),\n",
    "          (847, 932), (1866, 1951), (1474, 1559), (1158, 1235), (1303, 1446),\n",
    "          (1723, 1898), (1719, 1894), (2274, 2457), (1510, 1595), (1071, 1156),\n",
    "          (1961, 2108), (807, 892), (1795, 1982), (1641, 1726), (2395, 2538),\n",
    "          (990, 1077), (1098, 1183), (1552, 1747), (1087, 1172), (1096, 1181),\n",
    "          (1391, 1534), (1431, 1586), (1454, 1617), (2347, 2518), (1909, 1996),\n",
    "          (927, 1012), (1235, 1320), (1138, 1229), (940, 1013), (1077, 1162),\n",
    "          (838, 909), (1797, 1984), (1851, 2026), (1407, 1492), (811, 896),\n",
    "          (833, 920), (1196, 1281), (812, 897), (1859, 2034), (841, 926),\n",
    "          (814, 899), (3740, 3955), (801, 886), (1015, 1100), (953, 1038),\n",
    "          (947, 1032), (1787, 1962), (837, 922), (843, 928), (949, 1034),\n",
    "          (1355, 1498), (803, 888), (954, 1039), (936, 1021), (977, 1062),\n",
    "          (854, 923), (1509, 1656), (1972, 2159), (1720, 1899), (821, 906),\n",
    "          (1561, 1712), (991, 1076), (1042, 1127)]"
   ],
   "metadata": {
    "collapsed": false
   },
   "id": "e17ffab59f85d0b9"
  },
  {
   "cell_type": "code",
   "execution_count": null,
   "outputs": [],
   "source": [
    "slice_checker(fgt_12, bpe_12, patients_ids_12)"
   ],
   "metadata": {
    "collapsed": false
   },
   "id": "bf509e84ed323d69"
  },
  {
   "cell_type": "code",
   "execution_count": null,
   "outputs": [],
   "source": [
    "automated_copy(o_directory, d_directory, patients_ids_12, fgt_12, bpe_12)"
   ],
   "metadata": {
    "collapsed": false
   },
   "id": "fb23479fa09903d8"
  },
  {
   "cell_type": "markdown",
   "source": [
    "## Step 2\n",
    "### DICOM to PNG File"
   ],
   "metadata": {
    "collapsed": false
   },
   "id": "2bb9f0d5abf36c4"
  },
  {
   "cell_type": "code",
   "execution_count": null,
   "outputs": [],
   "source": [
    "files_path = 'E:/Selected Data/'\n",
    "destination_path = 'E:/03 Percentiles Breast MRI Data (FGT)/'"
   ],
   "metadata": {
    "collapsed": false
   },
   "id": "e6cbcc2386bbd483"
  },
  {
   "cell_type": "code",
   "execution_count": null,
   "outputs": [],
   "source": [
    "dicom_to_png_no_preprocessed(files_path, destination_path, data_info=data_labels, data_selection_index=3, out_shape=None)"
   ],
   "metadata": {
    "collapsed": false
   },
   "id": "de7849d87deb8e01"
  },
  {
   "cell_type": "markdown",
   "source": [
    "## Step 3\n",
    "### Create Final 2D Dataset"
   ],
   "metadata": {
    "collapsed": false
   },
   "id": "dda39706bcce6120"
  },
  {
   "cell_type": "code",
   "execution_count": 39,
   "outputs": [
    {
     "name": "stdout",
     "output_type": "stream",
     "text": [
      "1/498\n",
      "2/498\n",
      "3/498\n",
      "4/498\n",
      "5/498\n",
      "6/498\n",
      "7/498\n",
      "8/498\n",
      "9/498\n",
      "10/498\n",
      "11/498\n",
      "12/498\n",
      "13/498\n",
      "14/498\n",
      "15/498\n",
      "16/498\n",
      "17/498\n",
      "18/498\n",
      "19/498\n",
      "20/498\n",
      "21/498\n",
      "22/498\n",
      "23/498\n",
      "24/498\n",
      "25/498\n",
      "26/498\n",
      "27/498\n",
      "28/498\n",
      "29/498\n",
      "30/498\n",
      "31/498\n",
      "32/498\n",
      "33/498\n",
      "34/498\n",
      "35/498\n",
      "36/498\n",
      "37/498\n",
      "38/498\n",
      "39/498\n",
      "40/498\n",
      "41/498\n",
      "42/498\n",
      "43/498\n",
      "44/498\n",
      "45/498\n",
      "46/498\n",
      "47/498\n",
      "48/498\n",
      "49/498\n",
      "50/498\n",
      "51/498\n",
      "52/498\n",
      "53/498\n",
      "54/498\n",
      "55/498\n",
      "56/498\n",
      "57/498\n",
      "58/498\n",
      "59/498\n",
      "60/498\n",
      "61/498\n",
      "62/498\n",
      "63/498\n",
      "64/498\n",
      "65/498\n",
      "66/498\n",
      "67/498\n",
      "68/498\n",
      "69/498\n",
      "70/498\n",
      "71/498\n",
      "72/498\n",
      "73/498\n",
      "74/498\n",
      "75/498\n",
      "76/498\n",
      "77/498\n",
      "78/498\n",
      "79/498\n",
      "80/498\n",
      "81/498\n",
      "82/498\n",
      "83/498\n",
      "84/498\n",
      "85/498\n",
      "86/498\n",
      "87/498\n",
      "88/498\n",
      "89/498\n",
      "90/498\n",
      "91/498\n",
      "92/498\n",
      "93/498\n",
      "94/498\n",
      "95/498\n",
      "96/498\n",
      "97/498\n",
      "98/498\n",
      "99/498\n",
      "100/498\n",
      "101/498\n",
      "102/498\n",
      "103/498\n",
      "104/498\n",
      "105/498\n",
      "106/498\n",
      "107/498\n",
      "108/498\n",
      "109/498\n",
      "110/498\n",
      "111/498\n",
      "112/498\n",
      "113/498\n",
      "114/498\n",
      "115/498\n",
      "116/498\n",
      "117/498\n",
      "118/498\n",
      "119/498\n",
      "120/498\n",
      "121/498\n",
      "122/498\n",
      "123/498\n",
      "124/498\n",
      "125/498\n",
      "126/498\n",
      "127/498\n",
      "128/498\n",
      "129/498\n",
      "130/498\n",
      "131/498\n",
      "132/498\n",
      "133/498\n",
      "134/498\n",
      "135/498\n",
      "136/498\n",
      "137/498\n",
      "138/498\n",
      "139/498\n",
      "140/498\n",
      "141/498\n",
      "142/498\n",
      "143/498\n",
      "144/498\n",
      "145/498\n",
      "146/498\n",
      "147/498\n",
      "148/498\n",
      "149/498\n",
      "150/498\n",
      "151/498\n",
      "152/498\n",
      "153/498\n",
      "154/498\n",
      "155/498\n",
      "156/498\n",
      "157/498\n",
      "158/498\n",
      "159/498\n",
      "160/498\n",
      "161/498\n",
      "162/498\n",
      "163/498\n",
      "164/498\n",
      "165/498\n",
      "166/498\n",
      "167/498\n",
      "168/498\n",
      "169/498\n",
      "170/498\n",
      "171/498\n",
      "172/498\n",
      "173/498\n",
      "174/498\n",
      "175/498\n",
      "176/498\n",
      "177/498\n",
      "178/498\n",
      "179/498\n",
      "180/498\n",
      "181/498\n",
      "182/498\n",
      "183/498\n",
      "184/498\n",
      "185/498\n",
      "186/498\n",
      "187/498\n",
      "188/498\n",
      "189/498\n",
      "190/498\n",
      "191/498\n",
      "192/498\n",
      "193/498\n",
      "194/498\n",
      "195/498\n",
      "196/498\n",
      "197/498\n",
      "198/498\n",
      "199/498\n",
      "200/498\n",
      "201/498\n",
      "202/498\n",
      "203/498\n",
      "204/498\n",
      "205/498\n",
      "206/498\n",
      "207/498\n",
      "208/498\n",
      "209/498\n",
      "210/498\n",
      "211/498\n",
      "212/498\n",
      "213/498\n",
      "214/498\n",
      "215/498\n",
      "216/498\n",
      "217/498\n",
      "218/498\n",
      "219/498\n",
      "220/498\n",
      "221/498\n",
      "222/498\n",
      "223/498\n",
      "224/498\n",
      "225/498\n",
      "226/498\n",
      "227/498\n",
      "228/498\n",
      "229/498\n",
      "230/498\n",
      "231/498\n",
      "232/498\n",
      "233/498\n",
      "234/498\n",
      "235/498\n",
      "236/498\n",
      "237/498\n",
      "238/498\n",
      "239/498\n",
      "240/498\n",
      "241/498\n",
      "242/498\n",
      "243/498\n",
      "244/498\n",
      "245/498\n",
      "246/498\n",
      "247/498\n",
      "248/498\n",
      "249/498\n",
      "250/498\n",
      "251/498\n",
      "252/498\n",
      "253/498\n",
      "254/498\n",
      "255/498\n",
      "256/498\n",
      "257/498\n",
      "258/498\n",
      "259/498\n",
      "260/498\n",
      "261/498\n",
      "262/498\n",
      "263/498\n",
      "264/498\n",
      "265/498\n",
      "266/498\n",
      "267/498\n",
      "268/498\n",
      "269/498\n",
      "270/498\n",
      "271/498\n",
      "272/498\n",
      "273/498\n",
      "274/498\n",
      "275/498\n",
      "276/498\n",
      "277/498\n",
      "278/498\n",
      "279/498\n",
      "280/498\n",
      "281/498\n",
      "282/498\n",
      "283/498\n",
      "284/498\n",
      "285/498\n",
      "286/498\n",
      "287/498\n",
      "288/498\n",
      "289/498\n",
      "290/498\n",
      "291/498\n",
      "292/498\n",
      "293/498\n",
      "294/498\n",
      "295/498\n",
      "296/498\n",
      "297/498\n",
      "298/498\n",
      "299/498\n",
      "300/498\n",
      "301/498\n",
      "302/498\n",
      "303/498\n",
      "304/498\n",
      "305/498\n",
      "306/498\n",
      "307/498\n",
      "308/498\n",
      "309/498\n",
      "310/498\n",
      "311/498\n",
      "312/498\n",
      "313/498\n",
      "314/498\n",
      "315/498\n",
      "316/498\n",
      "317/498\n",
      "318/498\n",
      "319/498\n",
      "320/498\n",
      "321/498\n",
      "322/498\n",
      "323/498\n",
      "324/498\n",
      "325/498\n",
      "326/498\n",
      "327/498\n",
      "328/498\n",
      "329/498\n",
      "330/498\n",
      "331/498\n",
      "332/498\n",
      "333/498\n",
      "334/498\n",
      "335/498\n",
      "336/498\n",
      "337/498\n",
      "338/498\n",
      "339/498\n",
      "340/498\n",
      "341/498\n",
      "342/498\n",
      "343/498\n",
      "344/498\n",
      "345/498\n",
      "346/498\n",
      "347/498\n",
      "348/498\n",
      "349/498\n",
      "350/498\n",
      "351/498\n",
      "352/498\n",
      "353/498\n",
      "354/498\n",
      "355/498\n",
      "356/498\n",
      "357/498\n",
      "358/498\n",
      "359/498\n",
      "360/498\n",
      "361/498\n",
      "362/498\n",
      "363/498\n",
      "364/498\n",
      "365/498\n",
      "366/498\n",
      "367/498\n",
      "368/498\n",
      "369/498\n",
      "370/498\n",
      "371/498\n",
      "372/498\n",
      "373/498\n",
      "374/498\n",
      "375/498\n",
      "376/498\n",
      "377/498\n",
      "378/498\n",
      "379/498\n",
      "380/498\n",
      "381/498\n",
      "382/498\n",
      "383/498\n",
      "384/498\n",
      "385/498\n",
      "386/498\n",
      "387/498\n",
      "388/498\n",
      "389/498\n",
      "390/498\n",
      "391/498\n",
      "392/498\n",
      "393/498\n",
      "394/498\n",
      "395/498\n",
      "396/498\n",
      "397/498\n",
      "398/498\n",
      "399/498\n",
      "400/498\n",
      "401/498\n",
      "402/498\n",
      "403/498\n",
      "404/498\n",
      "405/498\n",
      "406/498\n",
      "407/498\n",
      "408/498\n",
      "409/498\n",
      "410/498\n",
      "411/498\n",
      "412/498\n",
      "413/498\n",
      "414/498\n",
      "415/498\n",
      "416/498\n",
      "417/498\n",
      "418/498\n",
      "419/498\n",
      "420/498\n",
      "421/498\n",
      "422/498\n",
      "423/498\n",
      "424/498\n",
      "425/498\n",
      "426/498\n",
      "427/498\n",
      "428/498\n",
      "429/498\n",
      "430/498\n",
      "431/498\n",
      "432/498\n",
      "433/498\n",
      "434/498\n",
      "435/498\n",
      "436/498\n",
      "437/498\n",
      "438/498\n",
      "439/498\n",
      "440/498\n",
      "441/498\n",
      "442/498\n",
      "443/498\n",
      "444/498\n",
      "445/498\n",
      "446/498\n",
      "447/498\n",
      "448/498\n",
      "449/498\n",
      "450/498\n",
      "451/498\n",
      "452/498\n",
      "453/498\n",
      "454/498\n",
      "455/498\n",
      "456/498\n",
      "457/498\n",
      "458/498\n",
      "459/498\n",
      "460/498\n",
      "461/498\n",
      "462/498\n",
      "463/498\n",
      "464/498\n",
      "465/498\n",
      "466/498\n",
      "467/498\n",
      "468/498\n",
      "469/498\n",
      "470/498\n",
      "471/498\n",
      "472/498\n",
      "473/498\n",
      "474/498\n",
      "475/498\n",
      "476/498\n",
      "477/498\n",
      "478/498\n",
      "479/498\n",
      "480/498\n",
      "481/498\n",
      "482/498\n",
      "483/498\n",
      "484/498\n",
      "485/498\n",
      "486/498\n",
      "487/498\n",
      "488/498\n",
      "489/498\n",
      "490/498\n",
      "491/498\n",
      "492/498\n",
      "493/498\n",
      "494/498\n",
      "495/498\n",
      "496/498\n",
      "497/498\n",
      "498/498\n",
      "1/57\n",
      "2/57\n",
      "3/57\n",
      "4/57\n",
      "5/57\n",
      "6/57\n",
      "7/57\n",
      "8/57\n",
      "9/57\n",
      "10/57\n",
      "11/57\n",
      "12/57\n",
      "13/57\n",
      "14/57\n",
      "15/57\n",
      "16/57\n",
      "17/57\n",
      "18/57\n",
      "19/57\n",
      "20/57\n",
      "21/57\n",
      "22/57\n",
      "23/57\n",
      "24/57\n",
      "25/57\n",
      "26/57\n",
      "27/57\n",
      "28/57\n",
      "29/57\n",
      "30/57\n",
      "31/57\n",
      "32/57\n",
      "33/57\n",
      "34/57\n",
      "35/57\n",
      "36/57\n",
      "37/57\n",
      "38/57\n",
      "39/57\n",
      "40/57\n",
      "41/57\n",
      "42/57\n",
      "43/57\n",
      "44/57\n",
      "45/57\n",
      "46/57\n",
      "47/57\n",
      "48/57\n",
      "49/57\n",
      "50/57\n",
      "51/57\n",
      "52/57\n",
      "53/57\n",
      "54/57\n",
      "55/57\n",
      "56/57\n",
      "57/57\n",
      "1/99\n",
      "2/99\n",
      "3/99\n",
      "4/99\n",
      "5/99\n",
      "6/99\n",
      "7/99\n",
      "8/99\n",
      "9/99\n",
      "10/99\n",
      "11/99\n",
      "12/99\n",
      "13/99\n",
      "14/99\n",
      "15/99\n",
      "16/99\n",
      "17/99\n",
      "18/99\n",
      "19/99\n",
      "20/99\n",
      "21/99\n",
      "22/99\n",
      "23/99\n",
      "24/99\n",
      "25/99\n",
      "26/99\n",
      "27/99\n",
      "28/99\n",
      "29/99\n",
      "30/99\n",
      "31/99\n",
      "32/99\n",
      "33/99\n",
      "34/99\n",
      "35/99\n",
      "36/99\n",
      "37/99\n",
      "38/99\n",
      "39/99\n",
      "40/99\n",
      "41/99\n",
      "42/99\n",
      "43/99\n",
      "44/99\n",
      "45/99\n",
      "46/99\n",
      "47/99\n",
      "48/99\n",
      "49/99\n",
      "50/99\n",
      "51/99\n",
      "52/99\n",
      "53/99\n",
      "54/99\n",
      "55/99\n",
      "56/99\n",
      "57/99\n",
      "58/99\n",
      "59/99\n",
      "60/99\n",
      "61/99\n",
      "62/99\n",
      "63/99\n",
      "64/99\n",
      "65/99\n",
      "66/99\n",
      "67/99\n",
      "68/99\n",
      "69/99\n",
      "70/99\n",
      "71/99\n",
      "72/99\n",
      "73/99\n",
      "74/99\n",
      "75/99\n",
      "76/99\n",
      "77/99\n",
      "78/99\n",
      "79/99\n",
      "80/99\n",
      "81/99\n",
      "82/99\n",
      "83/99\n",
      "84/99\n",
      "85/99\n",
      "86/99\n",
      "87/99\n",
      "88/99\n",
      "89/99\n",
      "90/99\n",
      "91/99\n",
      "92/99\n",
      "93/99\n",
      "94/99\n",
      "95/99\n",
      "96/99\n",
      "97/99\n",
      "98/99\n",
      "99/99\n"
     ]
    }
   ],
   "source": [
    "# Create the Right Dataset\n",
    "files_path = 'E:/03 Percentiles Breast MRI Data (FGT)/'\n",
    "slice_number = 3\n",
    "random_state = 15\n",
    "test_ratio = 0.15\n",
    "validation_ratio = 0.1\n",
    "both_side_ok_data, one_side_ok_data, both_side_ok_labels, one_side_ok_labels = side_data_seperator(files_path, slice_number, data_labels)\n",
    "train_data_percentiles, validation_data_percentiles_right, test_data_percentiles_right, train_labels_percentiles, validation_labels_percentiles, test_labels_percentiles = dataset_creator(both_side_ok_data, one_side_ok_data, both_side_ok_labels, one_side_ok_labels, test_ratio=test_ratio, validation_ratio=validation_ratio, slice_number=slice_number, random_state=random_state, test_set_side='Right')"
   ],
   "metadata": {
    "collapsed": false,
    "ExecuteTime": {
     "end_time": "2024-08-14T21:09:36.351411Z",
     "start_time": "2024-08-14T21:08:28.449769700Z"
    }
   },
   "id": "7d66aaea0973f48c"
  },
  {
   "cell_type": "code",
   "execution_count": 40,
   "outputs": [],
   "source": [
    "# Save the Right Dataset\n",
    "np.save('E:/2D Dataset/Train and Validation/train_data_percentiles.npy', train_data_percentiles)\n",
    "np.save('E:/2D Dataset/Train and Validation/validation_data_percentiles_right.npy', validation_data_percentiles_right)\n",
    "np.save('E:/2D Dataset/Independent Test/test_data_percentiles_right.npy', test_data_percentiles_right)\n",
    "np.save('E:/2D Dataset/Train and Validation/train_labels_percentiles.npy', train_labels_percentiles)\n",
    "np.save('E:/2D Dataset/Train and Validation/validation_labels_percentiles.npy', validation_labels_percentiles)\n",
    "np.save('E:/2D Dataset/Independent Test/test_labels_percentiles.npy', test_labels_percentiles)"
   ],
   "metadata": {
    "collapsed": false
   },
   "id": "73ec4e32ec3a154"
  },
  {
   "cell_type": "code",
   "execution_count": null,
   "outputs": [],
   "source": [
    "# Create the Left Dataset\n",
    "files_path = 'E:/03 Percentiles Breast MRI Data (FGT)/'\n",
    "slice_number = 3\n",
    "random_state = 15\n",
    "test_ratio = 0.15\n",
    "validation_ratio = 0.1\n",
    "both_side_ok_data, one_side_ok_data, both_side_ok_labels, one_side_ok_labels = side_data_seperator(files_path, slice_number, data_labels)\n",
    "train_data_percentiles, validation_data_percentiles_left, test_data_percentiles_left, train_labels_percentiles, validation_labels_percentiles, test_labels_percentiles = dataset_creator(both_side_ok_data, one_side_ok_data, both_side_ok_labels, one_side_ok_labels, test_ratio=test_ratio, validation_ratio=validation_ratio, slice_number=slice_number, random_state=random_state, test_set_side='Right')"
   ],
   "metadata": {
    "collapsed": false
   },
   "id": "d8246b98c1490738"
  },
  {
   "cell_type": "code",
   "execution_count": null,
   "outputs": [],
   "source": [
    "# Save the Left Dataset\n",
    "np.save('E:/2D Dataset/Train and Validation/train_data_percentiles.npy', train_data_percentiles)\n",
    "np.save('E:/2D Dataset/Train and Validation/validation_data_percentiles_left.npy', validation_data_percentiles_left)\n",
    "np.save('E:/2D Dataset/Independent Test/test_data_percentiles_left.npy', test_data_percentiles_left)\n",
    "np.save('E:/2D Dataset/Train and Validation/train_labels_percentiles.npy', train_labels_percentiles)\n",
    "np.save('E:/2D Dataset/Train and Validation/validation_labels_percentiles.npy', validation_labels_percentiles)\n",
    "np.save('E:/2D Dataset/Independent Test/test_labels_percentiles.npy', test_labels_percentiles)"
   ],
   "metadata": {
    "collapsed": false
   },
   "id": "42205ea1c1b27dd6"
  },
  {
   "cell_type": "markdown",
   "source": [
    "# Create 3D Dataset"
   ],
   "metadata": {
    "collapsed": false
   },
   "id": "2e03c413ddfd6a1d"
  },
  {
   "cell_type": "code",
   "source": [
    "# Get only the information of patients in the 2D dataset\n",
    "files_path = 'E:/03 Percentiles Breast MRI Data (FGT)/'\n",
    "slice_number = 3\n",
    "random_state = 15\n",
    "test_ratio = 0.15\n",
    "validation_ratio = 0.1\n",
    "both_side_ok_data, one_side_ok_data, both_side_ok_labels, one_side_ok_labels = side_data_seperator(files_path, slice_number, data_labels)\n",
    "\n",
    "train_set_info, validation_set_info, test_set_info  = dataset_creator(both_side_ok_data, one_side_ok_data, both_side_ok_labels, one_side_ok_labels, test_ratio=test_ratio, validation_ratio=validation_ratio, slice_number=slice_number, random_state=random_state, just_sets_info=True)"
   ],
   "metadata": {
    "collapsed": false,
    "ExecuteTime": {
     "end_time": "2025-02-24T14:17:52.272673Z",
     "start_time": "2025-02-24T14:17:31.721189Z"
    }
   },
   "id": "2367a313cd2b0c5",
   "outputs": [],
   "execution_count": 34
  },
  {
   "cell_type": "code",
   "source": [
    "train_ids = train_set_info[:, 0]\n",
    "validation_ids = validation_set_info[:, 0]\n",
    "test_ids = test_set_info[:, 0]"
   ],
   "metadata": {
    "collapsed": false,
    "ExecuteTime": {
     "end_time": "2025-02-24T14:22:33.892603Z",
     "start_time": "2025-02-24T14:22:33.877040Z"
    }
   },
   "id": "36f50db5534780f8",
   "outputs": [],
   "execution_count": 40
  },
  {
   "cell_type": "code",
   "source": "test_ids",
   "metadata": {
    "collapsed": false,
    "ExecuteTime": {
     "end_time": "2025-02-24T14:22:49.052184Z",
     "start_time": "2025-02-24T14:22:49.036147Z"
    }
   },
   "id": "5f14d22eea29dc11",
   "outputs": [
    {
     "data": {
      "text/plain": [
       "array(['9757971', '10189341', '11174620', '9839939', '9673179',\n",
       "       '11331203', '11166357', '8152945', '9514578', '9246145', '8196738',\n",
       "       '10542679', '10869884', '11181950', '9278286', '9834400',\n",
       "       '9329696', '11358818', '11846812', '9174037', '11208270',\n",
       "       '9186604', '11181609', '11193138', '8416350', '8180911',\n",
       "       '11573971', '9918324', '8331255', '9407013', '10848845', '9099535',\n",
       "       '8135824', '8934757', '11173404', '11197441', '8860408',\n",
       "       '10714782', '11290557', '9024061', '10029952', '8273529',\n",
       "       '8247267', '9403123', '9434346', '11351690', '8237600', '10609248',\n",
       "       '9012992', '11585576', '9773985', '10700692', '10746817',\n",
       "       '9833318', '9300041', '9727663', '8300634', '11181922', '9024288',\n",
       "       '8268521', '11785907', '11272908', '11166410', '11390408',\n",
       "       '10540768', '8276453', '9239385', '11610585', '10700667',\n",
       "       '10479500', '9397693', '10675658', '8317510', '11389044',\n",
       "       '10781387', '11881596', '10867800', '1568016', '11208303',\n",
       "       '11379700', '10568873', '10718533', '10937977', '8303429',\n",
       "       '11297940', '11884718', '10045260', '10507162', '11267809',\n",
       "       '11256378', '10905568', '10528343', '11086355', '11172766',\n",
       "       '11265500', '11582317', '9066182', '9280993', '9511838'],\n",
       "      dtype='<U11')"
      ]
     },
     "execution_count": 41,
     "metadata": {},
     "output_type": "execute_result"
    }
   ],
   "execution_count": 41
  },
  {
   "metadata": {
    "ExecuteTime": {
     "end_time": "2025-02-24T15:25:13.592838Z",
     "start_time": "2025-02-24T15:25:13.430682Z"
    }
   },
   "cell_type": "code",
   "source": [
    "import os\n",
    "import shutil\n",
    "\n",
    "# Define input folder and output folders\n",
    "input_folder = \"E:/Others/FGT Classification Dataset/2D Dataset\"\n",
    "train_folder = input_folder + \"/Train\"\n",
    "validation_folder = input_folder + \"/Validation\"\n",
    "test_folder = input_folder + \"/Test\"\n",
    "\n",
    "# Define the sets of IDs for train, validation, and test\n",
    "# train_set_ids = ['file_id_1', 'file_id_2', 'file_id_3']  # Example train set IDs\n",
    "# validation_set_ids = ['file_id_4', 'file_id_5']  # Example validation set IDs\n",
    "# test_set_ids = ['file_id_6', 'file_id_7']  # Example test set IDs\n",
    "\n",
    "# Create output folders if they don't exist\n",
    "# os.makedirs(train_folder, exist_ok=True)\n",
    "# os.makedirs(validation_folder, exist_ok=True)\n",
    "# os.makedirs(test_folder, exist_ok=True)\n",
    "\n",
    "# Loop through all subfolders in the input folder\n",
    "for subfolder_name in os.listdir(input_folder):\n",
    "    subfolder_path = os.path.join(input_folder, subfolder_name)\n",
    "\n",
    "    # Check if the subfolder is a directory\n",
    "    if os.path.isdir(subfolder_path):\n",
    "        # Define the file ID based on the subfolder name\n",
    "        file_id = subfolder_name\n",
    "\n",
    "        # Define the source folder path\n",
    "        input_path = subfolder_path\n",
    "\n",
    "        # Check where to move the subfolder based on its ID\n",
    "        if file_id in train_ids:\n",
    "            destination_path = os.path.join(train_folder, subfolder_name)\n",
    "            shutil.move(input_path, destination_path)\n",
    "            print(f\"Moved subfolder {subfolder_name} to Train Folder\")\n",
    "        elif file_id in validation_ids:\n",
    "            destination_path = os.path.join(validation_folder, subfolder_name)\n",
    "            shutil.move(input_path, destination_path)\n",
    "            print(f\"Moved subfolder {subfolder_name} to Validation Folder\")\n",
    "        elif file_id in test_ids:\n",
    "            destination_path = os.path.join(test_folder, subfolder_name)\n",
    "            shutil.move(input_path, destination_path)\n",
    "            print(f\"Moved subfolder {subfolder_name} to Test Folder\")\n",
    "        else:\n",
    "            print(f\"Subfolder {subfolder_name} is not in any of the sets. Skipping.\")\n",
    "\n",
    "print(\"Subfolders have been processed.\")\n"
   ],
   "id": "283f1509ab53a090",
   "outputs": [
    {
     "name": "stdout",
     "output_type": "stream",
     "text": [
      "Moved subfolder 10006533 to Train Folder\n",
      "Moved subfolder 10007023 to Train Folder\n",
      "Moved subfolder 10007991 to Train Folder\n",
      "Moved subfolder 10010860 to Validation Folder\n",
      "Moved subfolder 10013259 to Train Folder\n",
      "Moved subfolder 10018165 to Train Folder\n",
      "Moved subfolder 10019832 to Train Folder\n",
      "Moved subfolder 10022835 to Validation Folder\n",
      "Moved subfolder 10023779 to Train Folder\n",
      "Moved subfolder 10029875 to Train Folder\n",
      "Moved subfolder 10029952 to Test Folder\n",
      "Moved subfolder 10030148 to Train Folder\n",
      "Moved subfolder 10030277 to Train Folder\n",
      "Moved subfolder 10032605 to Train Folder\n",
      "Moved subfolder 10032779 to Train Folder\n",
      "Moved subfolder 10045260 to Test Folder\n",
      "Moved subfolder 10184718 to Train Folder\n",
      "Moved subfolder 10189341 to Test Folder\n",
      "Moved subfolder 10189378 to Train Folder\n",
      "Moved subfolder 10473298 to Train Folder\n",
      "Moved subfolder 10479448 to Train Folder\n",
      "Moved subfolder 10479500 to Test Folder\n",
      "Moved subfolder 10480019 to Train Folder\n",
      "Moved subfolder 10481554 to Train Folder\n",
      "Moved subfolder 10483785 to Train Folder\n",
      "Moved subfolder 10487124 to Train Folder\n",
      "Moved subfolder 10488228 to Validation Folder\n",
      "Moved subfolder 10498073 to Train Folder\n",
      "Moved subfolder 10500639 to Train Folder\n",
      "Moved subfolder 10502839 to Train Folder\n",
      "Moved subfolder 10506149 to Train Folder\n",
      "Moved subfolder 10506373 to Train Folder\n",
      "Moved subfolder 10506817 to Train Folder\n",
      "Moved subfolder 10507162 to Test Folder\n",
      "Moved subfolder 10508135 to Train Folder\n",
      "Moved subfolder 10509346 to Train Folder\n",
      "Moved subfolder 10509355 to Train Folder\n",
      "Moved subfolder 10512762 to Train Folder\n",
      "Moved subfolder 10518452 to Train Folder\n",
      "Moved subfolder 10518534 to Train Folder\n",
      "Moved subfolder 10518604 to Train Folder\n",
      "Moved subfolder 10519182 to Train Folder\n",
      "Moved subfolder 10521779 to Train Folder\n",
      "Moved subfolder 10521824 to Train Folder\n",
      "Moved subfolder 10528343 to Test Folder\n",
      "Moved subfolder 10531246 to Train Folder\n",
      "Moved subfolder 10532430 to Train Folder\n",
      "Moved subfolder 10534822 to Train Folder\n",
      "Moved subfolder 10538365 to Train Folder\n",
      "Moved subfolder 10540595 to Validation Folder\n",
      "Moved subfolder 10540664 to Train Folder\n",
      "Moved subfolder 10540768 to Test Folder\n",
      "Moved subfolder 10542186 to Train Folder\n",
      "Moved subfolder 10542679 to Test Folder\n",
      "Moved subfolder 10546535 to Train Folder\n",
      "Moved subfolder 10552968 to Train Folder\n",
      "Moved subfolder 10553084 to Train Folder\n",
      "Moved subfolder 10553401 to Train Folder\n",
      "Moved subfolder 10554186 to Train Folder\n",
      "Moved subfolder 10561171 to Train Folder\n",
      "Moved subfolder 10568873 to Test Folder\n",
      "Moved subfolder 10579071 to Train Folder\n",
      "Moved subfolder 10581017 to Train Folder\n",
      "Moved subfolder 10591458 to Train Folder\n",
      "Moved subfolder 10598646 to Train Folder\n",
      "Moved subfolder 10602020 to Train Folder\n",
      "Moved subfolder 10603963 to Train Folder\n",
      "Moved subfolder 10604638 to Train Folder\n",
      "Moved subfolder 10607558 to Train Folder\n",
      "Moved subfolder 10609248 to Test Folder\n",
      "Moved subfolder 10609391 to Train Folder\n",
      "Moved subfolder 10611267 to Train Folder\n",
      "Moved subfolder 10613801 to Train Folder\n",
      "Moved subfolder 10619288 to Train Folder\n",
      "Moved subfolder 10624443 to Train Folder\n",
      "Moved subfolder 10625284 to Train Folder\n",
      "Moved subfolder 10628709 to Train Folder\n",
      "Moved subfolder 10632327 to Validation Folder\n",
      "Moved subfolder 10634018 to Train Folder\n",
      "Moved subfolder 10638502 to Validation Folder\n",
      "Moved subfolder 10638969 to Train Folder\n",
      "Moved subfolder 10642864 to Train Folder\n",
      "Moved subfolder 10643289 to Train Folder\n",
      "Moved subfolder 10646402 to Train Folder\n",
      "Moved subfolder 10648650 to Train Folder\n",
      "Moved subfolder 10649045 to Train Folder\n",
      "Moved subfolder 10652029 to Train Folder\n",
      "Moved subfolder 10661186 to Validation Folder\n",
      "Moved subfolder 10662490 to Train Folder\n",
      "Moved subfolder 10663082 to Train Folder\n",
      "Moved subfolder 10670162 to Train Folder\n",
      "Moved subfolder 10670700 to Train Folder\n",
      "Moved subfolder 10673855 to Train Folder\n",
      "Moved subfolder 10674556 to Train Folder\n",
      "Moved subfolder 10675658 to Test Folder\n",
      "Moved subfolder 10676705 to Train Folder\n",
      "Moved subfolder 10679870 to Train Folder\n",
      "Moved subfolder 10680037 to Train Folder\n",
      "Moved subfolder 10685826 to Train Folder\n",
      "Moved subfolder 10689003 to Validation Folder\n",
      "Moved subfolder 10691361 to Train Folder\n",
      "Moved subfolder 10691762 to Train Folder\n",
      "Moved subfolder 10700285 to Train Folder\n",
      "Moved subfolder 10700667 to Test Folder\n",
      "Moved subfolder 10700692 to Test Folder\n",
      "Moved subfolder 10704780 to Train Folder\n",
      "Moved subfolder 10705588 to Train Folder\n",
      "Moved subfolder 10709644 to Train Folder\n",
      "Moved subfolder 10709991 to Train Folder\n",
      "Moved subfolder 10714782 to Test Folder\n",
      "Moved subfolder 10715346 to Train Folder\n",
      "Moved subfolder 10716690 to Train Folder\n",
      "Moved subfolder 10718433 to Train Folder\n",
      "Moved subfolder 10718503 to Train Folder\n",
      "Moved subfolder 10718533 to Test Folder\n",
      "Moved subfolder 10721401 to Train Folder\n",
      "Moved subfolder 10723619 to Train Folder\n",
      "Moved subfolder 10723940 to Train Folder\n",
      "Moved subfolder 10724085 to Train Folder\n",
      "Moved subfolder 10729200 to Train Folder\n",
      "Moved subfolder 10729449 to Train Folder\n",
      "Moved subfolder 10738155 to Validation Folder\n",
      "Moved subfolder 10738196 to Train Folder\n",
      "Moved subfolder 10738472 to Train Folder\n",
      "Moved subfolder 10743894 to Train Folder\n",
      "Moved subfolder 10746817 to Test Folder\n",
      "Moved subfolder 10747037 to Train Folder\n",
      "Moved subfolder 10750666 to Train Folder\n",
      "Moved subfolder 10751089 to Train Folder\n",
      "Moved subfolder 10752216 to Train Folder\n",
      "Moved subfolder 10753788 to Train Folder\n",
      "Moved subfolder 10756274 to Validation Folder\n",
      "Moved subfolder 10758129 to Train Folder\n",
      "Moved subfolder 10758340 to Train Folder\n",
      "Moved subfolder 10758789 to Train Folder\n",
      "Moved subfolder 10760616 to Train Folder\n",
      "Moved subfolder 10767544 to Train Folder\n",
      "Moved subfolder 10772524 to Train Folder\n",
      "Moved subfolder 10773065 to Train Folder\n",
      "Moved subfolder 10776266 to Train Folder\n",
      "Moved subfolder 10780000 to Train Folder\n",
      "Moved subfolder 10781057 to Train Folder\n",
      "Moved subfolder 10781387 to Test Folder\n",
      "Moved subfolder 10786223 to Train Folder\n",
      "Moved subfolder 10786251 to Train Folder\n",
      "Moved subfolder 10789204 to Train Folder\n",
      "Moved subfolder 10789706 to Train Folder\n",
      "Moved subfolder 10791568 to Train Folder\n",
      "Moved subfolder 10792919 to Train Folder\n",
      "Moved subfolder 10793261 to Train Folder\n",
      "Moved subfolder 10795621 to Train Folder\n",
      "Moved subfolder 10796845 to Train Folder\n",
      "Moved subfolder 10799060 to Train Folder\n",
      "Moved subfolder 10799208 to Train Folder\n",
      "Moved subfolder 10799590 to Train Folder\n",
      "Moved subfolder 10812027 to Train Folder\n",
      "Moved subfolder 10818164 to Validation Folder\n",
      "Moved subfolder 10838900 to Train Folder\n",
      "Moved subfolder 10838958 to Train Folder\n",
      "Moved subfolder 10842614 to Train Folder\n",
      "Moved subfolder 10843355 to Train Folder\n",
      "Moved subfolder 10844058 to Train Folder\n",
      "Moved subfolder 10844445 to Train Folder\n",
      "Moved subfolder 10844780 to Train Folder\n",
      "Moved subfolder 10848166 to Train Folder\n",
      "Moved subfolder 10848845 to Test Folder\n",
      "Moved subfolder 10851741 to Train Folder\n",
      "Moved subfolder 10859252 to Train Folder\n",
      "Moved subfolder 10859546 to Validation Folder\n",
      "Moved subfolder 10864240 to Train Folder\n",
      "Moved subfolder 10867800 to Test Folder\n",
      "Moved subfolder 10868045 to Train Folder\n",
      "Moved subfolder 10869828 to Train Folder\n",
      "Moved subfolder 10869884 to Test Folder\n",
      "Moved subfolder 10871017 to Train Folder\n",
      "Moved subfolder 10877019 to Train Folder\n",
      "Moved subfolder 10877077 to Train Folder\n",
      "Moved subfolder 10877505 to Train Folder\n",
      "Moved subfolder 10879476 to Train Folder\n",
      "Moved subfolder 10880570 to Train Folder\n",
      "Moved subfolder 10905568 to Test Folder\n",
      "Moved subfolder 10916400 to Train Folder\n",
      "Moved subfolder 10937977 to Test Folder\n",
      "Moved subfolder 10942269 to Train Folder\n",
      "Moved subfolder 10959273 to Train Folder\n",
      "Moved subfolder 10983337 to Train Folder\n",
      "Moved subfolder 11032357 to Train Folder\n",
      "Moved subfolder 11034705 to Train Folder\n",
      "Moved subfolder 11038239 to Validation Folder\n",
      "Moved subfolder 11041341 to Train Folder\n",
      "Moved subfolder 11041383 to Train Folder\n",
      "Moved subfolder 11075626 to Train Folder\n",
      "Moved subfolder 11076778 to Train Folder\n",
      "Moved subfolder 11086355 to Test Folder\n",
      "Moved subfolder 11161132 to Train Folder\n",
      "Moved subfolder 11162141 to Validation Folder\n",
      "Moved subfolder 11166229 to Train Folder\n",
      "Moved subfolder 11166295 to Train Folder\n",
      "Moved subfolder 11166357 to Test Folder\n",
      "Moved subfolder 11166410 to Test Folder\n",
      "Moved subfolder 11169713 to Train Folder\n",
      "Moved subfolder 11169780 to Train Folder\n",
      "Moved subfolder 11172766 to Test Folder\n",
      "Moved subfolder 11172900 to Train Folder\n",
      "Moved subfolder 11173249 to Validation Folder\n",
      "Moved subfolder 11173404 to Test Folder\n",
      "Moved subfolder 11174017 to Train Folder\n",
      "Moved subfolder 11174620 to Test Folder\n",
      "Moved subfolder 11178130 to Train Folder\n",
      "Moved subfolder 11178187 to Validation Folder\n",
      "Moved subfolder 11180494 to Train Folder\n",
      "Moved subfolder 11181609 to Test Folder\n",
      "Moved subfolder 11181922 to Test Folder\n",
      "Moved subfolder 11181950 to Test Folder\n",
      "Moved subfolder 11183489 to Train Folder\n",
      "Moved subfolder 11183816 to Train Folder\n",
      "Moved subfolder 11185522 to Train Folder\n",
      "Moved subfolder 11185544 to Train Folder\n",
      "Moved subfolder 11188662 to Train Folder\n",
      "Moved subfolder 11188977 to Train Folder\n",
      "Moved subfolder 11193123 to Train Folder\n",
      "Moved subfolder 11193138 to Test Folder\n",
      "Moved subfolder 11195971 to Train Folder\n",
      "Moved subfolder 11197403 to Train Folder\n",
      "Moved subfolder 11197441 to Test Folder\n",
      "Moved subfolder 11201385 to Train Folder\n",
      "Moved subfolder 11201493 to Train Folder\n",
      "Moved subfolder 11201533 to Validation Folder\n",
      "Moved subfolder 11205035 to Train Folder\n",
      "Moved subfolder 11205832 to Train Folder\n",
      "Moved subfolder 11208270 to Test Folder\n",
      "Moved subfolder 11208303 to Test Folder\n",
      "Moved subfolder 11211843 to Train Folder\n",
      "Moved subfolder 11213794 to Train Folder\n",
      "Moved subfolder 11216300 to Train Folder\n",
      "Moved subfolder 11216374 to Train Folder\n",
      "Moved subfolder 11216685 to Train Folder\n",
      "Moved subfolder 11218656 to Train Folder\n",
      "Moved subfolder 11224378 to Train Folder\n",
      "Moved subfolder 11224788 to Train Folder\n",
      "Moved subfolder 11227244 to Train Folder\n",
      "Moved subfolder 11227862 to Train Folder\n",
      "Moved subfolder 11227914 to Validation Folder\n",
      "Moved subfolder 11227939 to Validation Folder\n",
      "Moved subfolder 11231020 to Train Folder\n",
      "Moved subfolder 11234650 to Train Folder\n",
      "Moved subfolder 11237684 to Train Folder\n",
      "Moved subfolder 11239822 to Train Folder\n",
      "Moved subfolder 11247503 to Train Folder\n",
      "Moved subfolder 11251756 to Train Folder\n",
      "Moved subfolder 11256225 to Train Folder\n",
      "Moved subfolder 11256378 to Test Folder\n",
      "Moved subfolder 11265500 to Test Folder\n",
      "Moved subfolder 11267809 to Test Folder\n",
      "Moved subfolder 11269597 to Train Folder\n",
      "Moved subfolder 11272908 to Test Folder\n",
      "Moved subfolder 11273475 to Train Folder\n",
      "Moved subfolder 11275661 to Train Folder\n",
      "Moved subfolder 11279181 to Train Folder\n",
      "Moved subfolder 11279953 to Train Folder\n",
      "Moved subfolder 11282806 to Train Folder\n",
      "Moved subfolder 11286927 to Validation Folder\n",
      "Moved subfolder 11290544 to Train Folder\n",
      "Moved subfolder 11290557 to Test Folder\n",
      "Moved subfolder 11295079 to Validation Folder\n",
      "Moved subfolder 11295090 to Train Folder\n",
      "Moved subfolder 11297877 to Train Folder\n",
      "Moved subfolder 11297940 to Test Folder\n",
      "Moved subfolder 11299279 to Train Folder\n",
      "Moved subfolder 11299936 to Train Folder\n",
      "Moved subfolder 11301332 to Train Folder\n",
      "Moved subfolder 11306141 to Train Folder\n",
      "Moved subfolder 11309011 to Train Folder\n",
      "Moved subfolder 11312299 to Train Folder\n",
      "Moved subfolder 11312329 to Train Folder\n",
      "Moved subfolder 11316461 to Train Folder\n",
      "Moved subfolder 11323537 to Train Folder\n",
      "Moved subfolder 11331203 to Test Folder\n",
      "Moved subfolder 11331360 to Validation Folder\n",
      "Moved subfolder 11331505 to Train Folder\n",
      "Moved subfolder 11333648 to Train Folder\n",
      "Moved subfolder 11333741 to Train Folder\n",
      "Moved subfolder 11334261 to Train Folder\n",
      "Moved subfolder 11338126 to Train Folder\n",
      "Moved subfolder 11342837 to Train Folder\n",
      "Moved subfolder 11344443 to Train Folder\n",
      "Moved subfolder 11344516 to Train Folder\n",
      "Moved subfolder 11346010 to Train Folder\n",
      "Moved subfolder 11348359 to Train Folder\n",
      "Moved subfolder 11348891 to Train Folder\n",
      "Moved subfolder 11348952 to Train Folder\n",
      "Moved subfolder 11351690 to Test Folder\n",
      "Moved subfolder 11351904 to Train Folder\n",
      "Moved subfolder 11352729 to Train Folder\n",
      "Moved subfolder 11355417 to Train Folder\n",
      "Moved subfolder 11355812 to Train Folder\n",
      "Moved subfolder 11356851 to Train Folder\n",
      "Moved subfolder 11358818 to Test Folder\n",
      "Moved subfolder 11361965 to Train Folder\n",
      "Moved subfolder 11366628 to Train Folder\n",
      "Moved subfolder 11366836 to Train Folder\n",
      "Moved subfolder 11367575 to Validation Folder\n",
      "Moved subfolder 11369417 to Train Folder\n",
      "Moved subfolder 11369686 to Train Folder\n",
      "Moved subfolder 11371493 to Train Folder\n",
      "Moved subfolder 11372703 to Train Folder\n",
      "Moved subfolder 11375497 to Validation Folder\n",
      "Moved subfolder 11377087 to Validation Folder\n",
      "Moved subfolder 11379700 to Test Folder\n",
      "Moved subfolder 11384586 to Train Folder\n",
      "Moved subfolder 11385160 to Train Folder\n",
      "Moved subfolder 11387992 to Train Folder\n",
      "Moved subfolder 11388246 to Train Folder\n",
      "Moved subfolder 11389044 to Test Folder\n",
      "Moved subfolder 11390408 to Test Folder\n",
      "Moved subfolder 11391724 to Train Folder\n",
      "Moved subfolder 11393372 to Train Folder\n",
      "Moved subfolder 11396654 to Train Folder\n",
      "Moved subfolder 11405138 to Train Folder\n",
      "Moved subfolder 11572209 to Train Folder\n",
      "Moved subfolder 11573971 to Test Folder\n",
      "Moved subfolder 11582084 to Train Folder\n",
      "Moved subfolder 11582317 to Test Folder\n",
      "Moved subfolder 11585576 to Test Folder\n",
      "Moved subfolder 11597250 to Train Folder\n",
      "Moved subfolder 11610585 to Test Folder\n",
      "Moved subfolder 11618270 to Train Folder\n",
      "Moved subfolder 11627699 to Train Folder\n",
      "Moved subfolder 11748892 to Train Folder\n",
      "Moved subfolder 11757932 to Train Folder\n",
      "Moved subfolder 11758205 to Validation Folder\n",
      "Moved subfolder 11785907 to Test Folder\n",
      "Moved subfolder 11789411 to Train Folder\n",
      "Moved subfolder 11800353 to Validation Folder\n",
      "Moved subfolder 11801650 to Train Folder\n",
      "Moved subfolder 11840108 to Train Folder\n",
      "Moved subfolder 11842798 to Train Folder\n",
      "Moved subfolder 11842875 to Train Folder\n",
      "Moved subfolder 11846812 to Test Folder\n",
      "Moved subfolder 11850448 to Train Folder\n",
      "Moved subfolder 11851264 to Train Folder\n",
      "Moved subfolder 11863650 to Train Folder\n",
      "Moved subfolder 11879076 to Train Folder\n",
      "Moved subfolder 11879754 to Train Folder\n",
      "Moved subfolder 11881596 to Test Folder\n",
      "Moved subfolder 11884718 to Test Folder\n",
      "Moved subfolder 11885867 to Train Folder\n",
      "Moved subfolder 11894552 to Train Folder\n",
      "Moved subfolder 11900471 to Train Folder\n",
      "Moved subfolder 11900937 to Train Folder\n",
      "Moved subfolder 11903746 to Train Folder\n",
      "Moved subfolder 11913796 to Train Folder\n",
      "Moved subfolder 11913939 to Train Folder\n",
      "Moved subfolder 11915334 to Train Folder\n",
      "Moved subfolder 11917076 to Train Folder\n",
      "Moved subfolder 12047098 to Train Folder\n",
      "Moved subfolder 1568016 to Test Folder\n",
      "Moved subfolder 8128350 to Train Folder\n",
      "Moved subfolder 8128400 to Train Folder\n",
      "Moved subfolder 8133116 to Train Folder\n",
      "Moved subfolder 8135824 to Test Folder\n",
      "Moved subfolder 8135834 to Train Folder\n",
      "Moved subfolder 8152945 to Test Folder\n",
      "Moved subfolder 8154607 to Validation Folder\n",
      "Moved subfolder 8157356 to Train Folder\n",
      "Moved subfolder 8161726 to Train Folder\n",
      "Moved subfolder 8163477 to Train Folder\n",
      "Moved subfolder 8171029 to Train Folder\n",
      "Moved subfolder 8171067 to Train Folder\n",
      "Moved subfolder 8175472 to Train Folder\n",
      "Moved subfolder 8179829 to Train Folder\n",
      "Moved subfolder 8179867 to Train Folder\n",
      "Moved subfolder 8180911 to Test Folder\n",
      "Moved subfolder 8182569 to Train Folder\n",
      "Moved subfolder 8183207 to Train Folder\n",
      "Moved subfolder 8185329 to Train Folder\n",
      "Moved subfolder 8195667 to Train Folder\n",
      "Moved subfolder 8196738 to Test Folder\n",
      "Moved subfolder 8204515 to Train Folder\n",
      "Moved subfolder 8206762 to Train Folder\n",
      "Moved subfolder 8232133 to Train Folder\n",
      "Moved subfolder 8237600 to Test Folder\n",
      "Moved subfolder 8237707 to Train Folder\n",
      "Moved subfolder 8240703 to Train Folder\n",
      "Moved subfolder 8242034 to Train Folder\n",
      "Moved subfolder 8247267 to Test Folder\n",
      "Moved subfolder 8251420 to Train Folder\n",
      "Moved subfolder 8254446 to Train Folder\n",
      "Moved subfolder 8256423 to Validation Folder\n",
      "Moved subfolder 8259151 to Train Folder\n",
      "Moved subfolder 8259233 to Train Folder\n",
      "Moved subfolder 8259294 to Train Folder\n",
      "Moved subfolder 8268521 to Test Folder\n",
      "Moved subfolder 8273529 to Test Folder\n",
      "Moved subfolder 8276453 to Test Folder\n",
      "Moved subfolder 8276617 to Train Folder\n",
      "Moved subfolder 8283488 to Train Folder\n",
      "Moved subfolder 8288180 to Train Folder\n",
      "Moved subfolder 8296654 to Train Folder\n",
      "Moved subfolder 8300176 to Train Folder\n",
      "Moved subfolder 8300634 to Test Folder\n",
      "Moved subfolder 8303405 to Train Folder\n",
      "Moved subfolder 8303429 to Test Folder\n",
      "Moved subfolder 8304208 to Train Folder\n",
      "Moved subfolder 8305931 to Train Folder\n",
      "Moved subfolder 8308316 to Train Folder\n",
      "Moved subfolder 8317510 to Test Folder\n",
      "Moved subfolder 8320097 to Train Folder\n",
      "Moved subfolder 8326142 to Train Folder\n",
      "Moved subfolder 8328854 to Train Folder\n",
      "Moved subfolder 8330681 to Train Folder\n",
      "Moved subfolder 8331255 to Test Folder\n",
      "Moved subfolder 8335375 to Train Folder\n",
      "Moved subfolder 8336816 to Train Folder\n",
      "Moved subfolder 8336945 to Train Folder\n",
      "Moved subfolder 8337072 to Train Folder\n",
      "Moved subfolder 8342258 to Train Folder\n",
      "Moved subfolder 8342983 to Validation Folder\n",
      "Moved subfolder 8343185 to Validation Folder\n",
      "Moved subfolder 8356670 to Validation Folder\n",
      "Moved subfolder 8378220 to Train Folder\n",
      "Moved subfolder 8379234 to Train Folder\n",
      "Moved subfolder 8380175 to Train Folder\n",
      "Moved subfolder 8380177 to Train Folder\n",
      "Moved subfolder 8397654 to Train Folder\n",
      "Moved subfolder 8409056 to Validation Folder\n",
      "Moved subfolder 8416350 to Test Folder\n",
      "Moved subfolder 8420266 to Train Folder\n",
      "Moved subfolder 8476139 to Train Folder\n",
      "Moved subfolder 8502426 to Train Folder\n",
      "Moved subfolder 8534099 to Train Folder\n",
      "Moved subfolder 8644677 to Train Folder\n",
      "Moved subfolder 8647484 to Train Folder\n",
      "Moved subfolder 8647633 to Validation Folder\n",
      "Moved subfolder 8654723 to Train Folder\n",
      "Moved subfolder 8668594 to Train Folder\n",
      "Moved subfolder 8668965 to Train Folder\n",
      "Moved subfolder 8668972 to Train Folder\n",
      "Moved subfolder 8693340 to Train Folder\n",
      "Moved subfolder 8830555 to Train Folder\n",
      "Moved subfolder 8838792 to Train Folder\n",
      "Moved subfolder 8845106 to Train Folder\n",
      "Moved subfolder 8845788 to Train Folder\n",
      "Moved subfolder 8846009 to Train Folder\n",
      "Moved subfolder 8859611 to Train Folder\n",
      "Moved subfolder 8860408 to Test Folder\n",
      "Moved subfolder 8861603 to Train Folder\n",
      "Moved subfolder 8861971 to Train Folder\n",
      "Moved subfolder 8866532 to Train Folder\n",
      "Moved subfolder 8866708 to Train Folder\n",
      "Moved subfolder 8873492 to Train Folder\n",
      "Moved subfolder 8889724 to Train Folder\n",
      "Moved subfolder 8889836 to Train Folder\n",
      "Moved subfolder 8915531 to Train Folder\n",
      "Moved subfolder 8915593 to Train Folder\n",
      "Moved subfolder 8915632 to Train Folder\n",
      "Moved subfolder 8925092 to Train Folder\n",
      "Moved subfolder 8926218 to Train Folder\n",
      "Moved subfolder 8934757 to Test Folder\n",
      "Moved subfolder 8935156 to Train Folder\n",
      "Moved subfolder 8939476 to Train Folder\n",
      "Moved subfolder 8943630 to Train Folder\n",
      "Moved subfolder 8977117 to Train Folder\n",
      "Moved subfolder 8980696 to Train Folder\n",
      "Moved subfolder 8987973 to Train Folder\n",
      "Moved subfolder 8994596 to Train Folder\n",
      "Moved subfolder 8995280 to Train Folder\n",
      "Moved subfolder 9002280 to Train Folder\n",
      "Moved subfolder 9008081 to Train Folder\n",
      "Moved subfolder 9010579 to Validation Folder\n",
      "Moved subfolder 9010854 to Train Folder\n",
      "Moved subfolder 9011738 to Train Folder\n",
      "Moved subfolder 9012992 to Test Folder\n",
      "Moved subfolder 9013052 to Train Folder\n",
      "Moved subfolder 9014143 to Train Folder\n",
      "Moved subfolder 9017038 to Train Folder\n",
      "Moved subfolder 9017845 to Train Folder\n",
      "Moved subfolder 9021496 to Train Folder\n",
      "Moved subfolder 9024061 to Test Folder\n",
      "Moved subfolder 9024191 to Train Folder\n",
      "Moved subfolder 9024288 to Test Folder\n",
      "Moved subfolder 9024861 to Train Folder\n",
      "Moved subfolder 9064702 to Train Folder\n",
      "Moved subfolder 9066182 to Test Folder\n",
      "Moved subfolder 9072270 to Train Folder\n",
      "Moved subfolder 9075718 to Train Folder\n",
      "Moved subfolder 9075921 to Validation Folder\n",
      "Moved subfolder 9099448 to Train Folder\n",
      "Moved subfolder 9099535 to Test Folder\n",
      "Moved subfolder 9102847 to Train Folder\n",
      "Moved subfolder 9103559 to Train Folder\n",
      "Moved subfolder 9103635 to Train Folder\n",
      "Moved subfolder 9108321 to Train Folder\n",
      "Moved subfolder 9124636 to Train Folder\n",
      "Moved subfolder 9132962 to Validation Folder\n",
      "Moved subfolder 9135746 to Validation Folder\n",
      "Moved subfolder 9137960 to Train Folder\n",
      "Moved subfolder 9158896 to Train Folder\n",
      "Moved subfolder 9162757 to Train Folder\n",
      "Moved subfolder 9174037 to Test Folder\n",
      "Moved subfolder 9178082 to Train Folder\n",
      "Moved subfolder 9182263 to Train Folder\n",
      "Moved subfolder 9186604 to Test Folder\n",
      "Moved subfolder 9211330 to Train Folder\n",
      "Moved subfolder 9221344 to Train Folder\n",
      "Moved subfolder 9221819 to Train Folder\n",
      "Moved subfolder 9239385 to Test Folder\n",
      "Moved subfolder 9246145 to Test Folder\n",
      "Moved subfolder 9250562 to Train Folder\n",
      "Moved subfolder 9251259 to Train Folder\n",
      "Moved subfolder 9260607 to Train Folder\n",
      "Moved subfolder 9278242 to Validation Folder\n",
      "Moved subfolder 9278286 to Test Folder\n",
      "Moved subfolder 9278507 to Train Folder\n",
      "Moved subfolder 9280993 to Test Folder\n",
      "Moved subfolder 9282859 to Train Folder\n",
      "Moved subfolder 9290074 to Train Folder\n",
      "Moved subfolder 9290715 to Train Folder\n",
      "Moved subfolder 9297184 to Train Folder\n",
      "Moved subfolder 9300041 to Test Folder\n",
      "Moved subfolder 9303450 to Validation Folder\n",
      "Moved subfolder 9303958 to Validation Folder\n",
      "Moved subfolder 9306355 to Train Folder\n",
      "Moved subfolder 9306747 to Train Folder\n",
      "Moved subfolder 9314842 to Validation Folder\n",
      "Moved subfolder 9314854 to Train Folder\n",
      "Moved subfolder 9329696 to Test Folder\n",
      "Moved subfolder 9329801 to Train Folder\n",
      "Moved subfolder 9332914 to Train Folder\n",
      "Moved subfolder 9338697 to Train Folder\n",
      "Moved subfolder 9338721 to Train Folder\n",
      "Moved subfolder 9350416 to Validation Folder\n",
      "Moved subfolder 9354498 to Train Folder\n",
      "Moved subfolder 9354593 to Train Folder\n",
      "Moved subfolder 9362401 to Train Folder\n",
      "Moved subfolder 9363679 to Train Folder\n",
      "Moved subfolder 9374338 to Train Folder\n",
      "Moved subfolder 9374628 to Train Folder\n",
      "Moved subfolder 9376635 to Train Folder\n",
      "Moved subfolder 9378242 to Train Folder\n",
      "Moved subfolder 9380740 to Validation Folder\n",
      "Moved subfolder 9385156 to Validation Folder\n",
      "Moved subfolder 9385880 to Train Folder\n",
      "Moved subfolder 9397693 to Test Folder\n",
      "Moved subfolder 9397802 to Train Folder\n",
      "Moved subfolder 9398002 to Train Folder\n",
      "Moved subfolder 9400054 to Train Folder\n",
      "Moved subfolder 9401113 to Train Folder\n",
      "Moved subfolder 9403123 to Test Folder\n",
      "Moved subfolder 9407013 to Test Folder\n",
      "Moved subfolder 9408592 to Train Folder\n",
      "Moved subfolder 9410575 to Train Folder\n",
      "Moved subfolder 9433277 to Train Folder\n",
      "Moved subfolder 9433866 to Train Folder\n",
      "Moved subfolder 9434346 to Test Folder\n",
      "Moved subfolder 9446950 to Train Folder\n",
      "Moved subfolder 9449885 to Train Folder\n",
      "Moved subfolder 9452045 to Train Folder\n",
      "Moved subfolder 9456472 to Train Folder\n",
      "Moved subfolder 9456991 to Train Folder\n",
      "Moved subfolder 9459081 to Train Folder\n",
      "Moved subfolder 9459302 to Train Folder\n",
      "Moved subfolder 9459663 to Train Folder\n",
      "Moved subfolder 9471658 to Validation Folder\n",
      "Moved subfolder 9471667 to Train Folder\n",
      "Moved subfolder 9471997 to Validation Folder\n",
      "Moved subfolder 9474758 to Train Folder\n",
      "Moved subfolder 9484852 to Train Folder\n",
      "Moved subfolder 9484938 to Train Folder\n",
      "Moved subfolder 9486352 to Train Folder\n",
      "Moved subfolder 9492065 to Train Folder\n",
      "Moved subfolder 9494072 to Validation Folder\n",
      "Moved subfolder 9495256 to Train Folder\n",
      "Moved subfolder 9511809 to Train Folder\n",
      "Moved subfolder 9511838 to Test Folder\n",
      "Moved subfolder 9512135 to Train Folder\n",
      "Moved subfolder 9513877 to Train Folder\n",
      "Moved subfolder 9514578 to Test Folder\n",
      "Moved subfolder 9516448 to Train Folder\n",
      "Moved subfolder 9535197 to Train Folder\n",
      "Moved subfolder 9535278 to Validation Folder\n",
      "Moved subfolder 9535434 to Train Folder\n",
      "Moved subfolder 9555999 to Train Folder\n",
      "Moved subfolder 9559948 to Train Folder\n",
      "Moved subfolder 9571196 to Train Folder\n",
      "Moved subfolder 9571865 to Train Folder\n",
      "Moved subfolder 9578077 to Train Folder\n",
      "Moved subfolder 9590052 to Train Folder\n",
      "Moved subfolder 9613321 to Train Folder\n",
      "Moved subfolder 9613957 to Train Folder\n",
      "Moved subfolder 9634850 to Train Folder\n",
      "Moved subfolder 9646672 to Train Folder\n",
      "Moved subfolder 9647040 to Train Folder\n",
      "Moved subfolder 9649691 to Train Folder\n",
      "Moved subfolder 9657991 to Train Folder\n",
      "Moved subfolder 9658124 to Train Folder\n",
      "Moved subfolder 9661700 to Train Folder\n",
      "Moved subfolder 9670311 to Validation Folder\n",
      "Moved subfolder 9673120 to Train Folder\n",
      "Moved subfolder 9673179 to Test Folder\n",
      "Moved subfolder 9673778 to Validation Folder\n",
      "Moved subfolder 9674633 to Train Folder\n",
      "Moved subfolder 9679589 to Train Folder\n",
      "Moved subfolder 9680775 to Validation Folder\n",
      "Moved subfolder 9680867 to Validation Folder\n",
      "Moved subfolder 9683733 to Validation Folder\n",
      "Moved subfolder 9692694 to Train Folder\n",
      "Moved subfolder 9692981 to Train Folder\n",
      "Moved subfolder 969995 to Train Folder\n",
      "Moved subfolder 9700791 to Validation Folder\n",
      "Moved subfolder 9701051 to Train Folder\n",
      "Moved subfolder 9718836 to Train Folder\n",
      "Moved subfolder 9726839 to Train Folder\n",
      "Moved subfolder 9727663 to Test Folder\n",
      "Moved subfolder 9730700 to Train Folder\n",
      "Moved subfolder 9739752 to Train Folder\n",
      "Moved subfolder 9749506 to Train Folder\n",
      "Moved subfolder 9757971 to Test Folder\n",
      "Moved subfolder 9773985 to Test Folder\n",
      "Moved subfolder 9833318 to Test Folder\n",
      "Moved subfolder 9833973 to Train Folder\n",
      "Moved subfolder 9834400 to Test Folder\n",
      "Moved subfolder 9839404 to Train Folder\n",
      "Moved subfolder 9839939 to Test Folder\n",
      "Moved subfolder 9840299 to Train Folder\n",
      "Moved subfolder 9847483 to Train Folder\n",
      "Moved subfolder 9847488 to Train Folder\n",
      "Moved subfolder 9852342 to Train Folder\n",
      "Moved subfolder 9852399 to Train Folder\n",
      "Moved subfolder 9900364 to Train Folder\n",
      "Moved subfolder 9906687 to Train Folder\n",
      "Moved subfolder 9906752 to Train Folder\n",
      "Moved subfolder 9910509 to Train Folder\n",
      "Moved subfolder 9918129 to Train Folder\n",
      "Moved subfolder 9918324 to Test Folder\n",
      "Moved subfolder 9920466 to Train Folder\n",
      "Moved subfolder 9924862 to Train Folder\n",
      "Moved subfolder 9926215 to Train Folder\n",
      "Moved subfolder 9929361 to Train Folder\n",
      "Moved subfolder 9929533 to Train Folder\n",
      "Moved subfolder 9930243 to Train Folder\n",
      "Moved subfolder 9953872 to Train Folder\n",
      "Moved subfolder 9953955 to Validation Folder\n",
      "Moved subfolder 9954110 to Train Folder\n",
      "Moved subfolder 9961155 to Validation Folder\n",
      "Moved subfolder 9966610 to Train Folder\n",
      "Moved subfolder 9975377 to Train Folder\n",
      "Moved subfolder 9975397 to Train Folder\n",
      "Moved subfolder 9985427 to Train Folder\n",
      "Moved subfolder 9991646 to Train Folder\n",
      "Moved subfolder 9994490 to Train Folder\n",
      "Moved subfolder 9997801 to Train Folder\n",
      "Moved subfolder 9997958 to Train Folder\n",
      "Moved subfolder 9998057 to Train Folder\n",
      "Subfolder Test is not in any of the sets. Skipping.\n",
      "Subfolder Train is not in any of the sets. Skipping.\n",
      "Subfolder Validation is not in any of the sets. Skipping.\n",
      "Subfolders have been processed.\n"
     ]
    }
   ],
   "execution_count": 43
  },
  {
   "metadata": {
    "ExecuteTime": {
     "end_time": "2025-02-24T15:30:21.365469Z",
     "start_time": "2025-02-24T15:30:21.336723Z"
    }
   },
   "cell_type": "code",
   "source": [
    "import nibabel as nib\n",
    "\n",
    "# Load the NIfTI file\n",
    "nii_file = nib.load(\"E:/Others/FGT Classification Dataset/3D Dataset/Train/8163477.nii.gz\")\n",
    "\n",
    "# Print the NIfTI header\n",
    "print(nii_file.header)\n"
   ],
   "id": "55be9358775035b9",
   "outputs": [
    {
     "name": "stdout",
     "output_type": "stream",
     "text": [
      "<class 'nibabel.nifti1.Nifti1Header'> object, endian='<'\n",
      "sizeof_hdr      : 348\n",
      "data_type       : b''\n",
      "db_name         : b''\n",
      "extents         : 0\n",
      "session_error   : 0\n",
      "regular         : b'r'\n",
      "dim_info        : 0\n",
      "dim             : [  3 512 512  88   1   1   1   1]\n",
      "intent_p1       : 0.0\n",
      "intent_p2       : 0.0\n",
      "intent_p3       : 0.0\n",
      "intent_code     : none\n",
      "datatype        : int16\n",
      "bitpix          : 16\n",
      "slice_start     : 0\n",
      "pixdim          : [1.        0.6641    0.6641    2.3999965 0.        0.        0.\n",
      " 0.       ]\n",
      "vox_offset      : 0.0\n",
      "scl_slope       : nan\n",
      "scl_inter       : nan\n",
      "slice_end       : 0\n",
      "slice_code      : unknown\n",
      "xyzt_units      : 2\n",
      "cal_max         : 0.0\n",
      "cal_min         : 0.0\n",
      "slice_duration  : 0.0\n",
      "toffset         : 0.0\n",
      "glmax           : 0\n",
      "glmin           : 0\n",
      "descrip         : b''\n",
      "aux_file        : b''\n",
      "qform_code      : scanner\n",
      "sform_code      : scanner\n",
      "quatern_b       : 0.0\n",
      "quatern_c       : 0.0\n",
      "quatern_d       : 0.0\n",
      "qoffset_x       : -176.699\n",
      "qoffset_y       : -186.074\n",
      "qoffset_z       : -137.212\n",
      "srow_x          : [   0.6641    0.       -0.     -176.699 ]\n",
      "srow_y          : [   0.        0.6641   -0.     -186.074 ]\n",
      "srow_z          : [   0.           0.           2.3999965 -137.212    ]\n",
      "intent_name     : b''\n",
      "magic           : b'n+1'\n"
     ]
    }
   ],
   "execution_count": 44
  },
  {
   "metadata": {
    "ExecuteTime": {
     "end_time": "2025-02-24T16:37:11.928494Z",
     "start_time": "2025-02-24T16:37:11.916721Z"
    }
   },
   "cell_type": "code",
   "source": [
    "data_labels = pd.read_csv(\"E:\\Others\\FGT Classification Dataset\\data_labels.csv\")\n",
    "print(data_labels.head())"
   ],
   "id": "33b0028a4cca3ce3",
   "outputs": [
    {
     "name": "stdout",
     "output_type": "stream",
     "text": [
      "       code  FGT  BPE Side\n",
      "0  10006533    3    1    L\n",
      "1  10007023    2    3    L\n",
      "2  10007991    4    1    B\n",
      "3  10010860    3    3    R\n",
      "4  10013259    3    1    R\n"
     ]
    }
   ],
   "execution_count": 50
  },
  {
   "metadata": {
    "ExecuteTime": {
     "end_time": "2025-02-24T16:37:15.473729Z",
     "start_time": "2025-02-24T16:37:15.463052Z"
    }
   },
   "cell_type": "code",
   "source": [
    "\n",
    "# Generate the new 'name' column\n",
    "data_labels.insert(0, \"name\", [f\"Breast_MRI_{i:03d}\" for i in range(len(data_labels))])\n",
    "\n"
   ],
   "id": "854697e1a28a757f",
   "outputs": [],
   "execution_count": 51
  },
  {
   "metadata": {
    "ExecuteTime": {
     "end_time": "2025-02-24T16:40:23.929811Z",
     "start_time": "2025-02-24T16:40:23.920043Z"
    }
   },
   "cell_type": "code",
   "source": "data_labels.head()",
   "id": "f4dcd5ca50a72f1e",
   "outputs": [
    {
     "data": {
      "text/plain": [
       "             name      code  FGT  BPE Side\n",
       "0  Breast_MRI_000  10006533    3    1    L\n",
       "1  Breast_MRI_001  10007023    2    3    L\n",
       "2  Breast_MRI_002  10007991    4    1    B\n",
       "3  Breast_MRI_003  10010860    3    3    R\n",
       "4  Breast_MRI_004  10013259    3    1    R"
      ],
      "text/html": [
       "<div>\n",
       "<style scoped>\n",
       "    .dataframe tbody tr th:only-of-type {\n",
       "        vertical-align: middle;\n",
       "    }\n",
       "\n",
       "    .dataframe tbody tr th {\n",
       "        vertical-align: top;\n",
       "    }\n",
       "\n",
       "    .dataframe thead th {\n",
       "        text-align: right;\n",
       "    }\n",
       "</style>\n",
       "<table border=\"1\" class=\"dataframe\">\n",
       "  <thead>\n",
       "    <tr style=\"text-align: right;\">\n",
       "      <th></th>\n",
       "      <th>name</th>\n",
       "      <th>code</th>\n",
       "      <th>FGT</th>\n",
       "      <th>BPE</th>\n",
       "      <th>Side</th>\n",
       "    </tr>\n",
       "  </thead>\n",
       "  <tbody>\n",
       "    <tr>\n",
       "      <th>0</th>\n",
       "      <td>Breast_MRI_000</td>\n",
       "      <td>10006533</td>\n",
       "      <td>3</td>\n",
       "      <td>1</td>\n",
       "      <td>L</td>\n",
       "    </tr>\n",
       "    <tr>\n",
       "      <th>1</th>\n",
       "      <td>Breast_MRI_001</td>\n",
       "      <td>10007023</td>\n",
       "      <td>2</td>\n",
       "      <td>3</td>\n",
       "      <td>L</td>\n",
       "    </tr>\n",
       "    <tr>\n",
       "      <th>2</th>\n",
       "      <td>Breast_MRI_002</td>\n",
       "      <td>10007991</td>\n",
       "      <td>4</td>\n",
       "      <td>1</td>\n",
       "      <td>B</td>\n",
       "    </tr>\n",
       "    <tr>\n",
       "      <th>3</th>\n",
       "      <td>Breast_MRI_003</td>\n",
       "      <td>10010860</td>\n",
       "      <td>3</td>\n",
       "      <td>3</td>\n",
       "      <td>R</td>\n",
       "    </tr>\n",
       "    <tr>\n",
       "      <th>4</th>\n",
       "      <td>Breast_MRI_004</td>\n",
       "      <td>10013259</td>\n",
       "      <td>3</td>\n",
       "      <td>1</td>\n",
       "      <td>R</td>\n",
       "    </tr>\n",
       "  </tbody>\n",
       "</table>\n",
       "</div>"
      ]
     },
     "execution_count": 54,
     "metadata": {},
     "output_type": "execute_result"
    }
   ],
   "execution_count": 54
  },
  {
   "metadata": {
    "ExecuteTime": {
     "end_time": "2025-02-24T17:26:39.747986Z",
     "start_time": "2025-02-24T17:26:39.726125Z"
    }
   },
   "cell_type": "code",
   "source": [
    "df = data_labels\n",
    "\n",
    "# Folder containing .nii files\n",
    "folder_path = \"E:/Others/FGT Classification Dataset/2D Dataset/Validation\"  # Replace with your actual folder path\n",
    "\n",
    "# Create a dictionary to map 'code' to 'name'\n",
    "code_to_name = dict(zip(df['code'].astype(str), df['name']))\n",
    "\n",
    "# Iterate through subfolders in the main folder\n",
    "for subfolder in os.listdir(folder_path):\n",
    "    subfolder_path = os.path.join(folder_path, subfolder)\n",
    "\n",
    "    # Check if it's a directory and if its name is in the mapping dictionary\n",
    "    if os.path.isdir(subfolder_path) and subfolder in code_to_name:\n",
    "        new_name = code_to_name[subfolder]  # Get the corresponding name\n",
    "        new_subfolder_path = os.path.join(folder_path, new_name)\n",
    "\n",
    "        # Rename the folder\n",
    "        os.rename(subfolder_path, new_subfolder_path)\n",
    "\n",
    "print(\"Subfolders have been renamed successfully.\")"
   ],
   "id": "bf298a3fd7056c3e",
   "outputs": [
    {
     "name": "stdout",
     "output_type": "stream",
     "text": [
      "Subfolders have been renamed successfully.\n"
     ]
    }
   ],
   "execution_count": 71
  },
  {
   "metadata": {
    "ExecuteTime": {
     "end_time": "2025-02-24T17:38:38.036805Z",
     "start_time": "2025-02-24T17:38:38.022604Z"
    }
   },
   "cell_type": "code",
   "source": "df.to_csv('E:/Others/FGT Classification Dataset/your_dataframe.csv', index=False)",
   "id": "3eb0959f1156bcb7",
   "outputs": [],
   "execution_count": 72
  },
  {
   "metadata": {
    "ExecuteTime": {
     "end_time": "2025-02-24T17:19:23.750575Z",
     "start_time": "2025-02-24T17:19:23.739336Z"
    }
   },
   "cell_type": "code",
   "source": "# data_labels",
   "id": "11d204ea9475d187",
   "outputs": [],
   "execution_count": 66
  },
  {
   "metadata": {
    "ExecuteTime": {
     "end_time": "2025-02-24T15:32:41.819418Z",
     "start_time": "2025-02-24T15:32:41.805299Z"
    }
   },
   "cell_type": "code",
   "source": [
    "# Check for any extensions that might contain leftover DICOM metadata\n",
    "extensions = nii_file.header.extensions\n",
    "if extensions:\n",
    "    for ext in extensions:\n",
    "        print(ext)"
   ],
   "id": "31b2422067080636",
   "outputs": [],
   "execution_count": 45
  },
  {
   "metadata": {
    "ExecuteTime": {
     "end_time": "2025-02-24T15:33:02.515984Z",
     "start_time": "2025-02-24T15:33:02.502007Z"
    }
   },
   "cell_type": "code",
   "source": "extensions",
   "id": "6ee0ddd8272583b5",
   "outputs": [
    {
     "data": {
      "text/plain": [
       "Nifti1Extensions()"
      ]
     },
     "execution_count": 46,
     "metadata": {},
     "output_type": "execute_result"
    }
   ],
   "execution_count": 46
  },
  {
   "cell_type": "code",
   "execution_count": 35,
   "outputs": [
    {
     "data": {
      "text/plain": "(array([47], dtype=int64),)"
     },
     "execution_count": 35,
     "metadata": {},
     "output_type": "execute_result"
    }
   ],
   "source": [
    "np.where(test_set_info[:, 0]=='10609248')"
   ],
   "metadata": {
    "collapsed": false,
    "ExecuteTime": {
     "end_time": "2025-01-27T06:29:46.039978600Z",
     "start_time": "2025-01-27T06:29:45.967478200Z"
    }
   },
   "id": "e24a8bdf3ac8b657"
  },
  {
   "cell_type": "code",
   "execution_count": 39,
   "outputs": [
    {
     "data": {
      "text/plain": "66.6"
     },
     "execution_count": 39,
     "metadata": {},
     "output_type": "execute_result"
    }
   ],
   "source": [
    "np.percentile(np.arange(112), 60)"
   ],
   "metadata": {
    "collapsed": false,
    "ExecuteTime": {
     "end_time": "2025-01-26T16:29:58.423400100Z",
     "start_time": "2025-01-26T16:29:58.320091500Z"
    }
   },
   "id": "b70b287ce48b1b98"
  },
  {
   "cell_type": "code",
   "execution_count": 31,
   "outputs": [],
   "source": [
    "np.save(\"E:/Dataset Information/train_set_info.npy\", train_set_info)\n",
    "np.save(\"E:/Dataset Information/validation_set_info.npy\", validation_set_info)\n",
    "np.save(\"E:/Dataset Information/test_set_info.npy\", test_set_info)"
   ],
   "metadata": {
    "collapsed": false,
    "ExecuteTime": {
     "end_time": "2024-08-29T08:13:45.257814900Z",
     "start_time": "2024-08-29T08:13:45.144622600Z"
    }
   },
   "id": "816b2ce689765cb1"
  },
  {
   "cell_type": "code",
   "execution_count": null,
   "outputs": [],
   "source": [
    "data_path = \"E:/Resampled ALL Dimensions 3D NRRD Dataset/\"\n",
    "train_data_3d, train_labels_3d = create_3d_train_set(data_path, train_set_info)"
   ],
   "metadata": {
    "collapsed": false
   },
   "id": "65bdb60e55d166e3"
  },
  {
   "cell_type": "code",
   "execution_count": 72,
   "outputs": [],
   "source": [
    "np.save('E:/07 3D Dataset/train_data_3d.npy', train_data_3d)\n",
    "np.save('E:/07 3D Dataset/train_labels_3d.npy', train_labels_3d)"
   ],
   "metadata": {
    "collapsed": false,
    "ExecuteTime": {
     "end_time": "2024-08-18T05:15:28.294426100Z",
     "start_time": "2024-08-18T05:15:25.935719800Z"
    }
   },
   "id": "523d86cbb39ac560"
  },
  {
   "cell_type": "code",
   "execution_count": 77,
   "outputs": [],
   "source": [
    "data_path = \"E:/Resampled ALL Dimensions 3D NRRD Dataset/\"\n",
    "validation_data_3d_right, validation_data_3d_left, validation_labels_3d = create_3d_test_validation(data_path, validation_set_info)"
   ],
   "metadata": {
    "collapsed": false,
    "ExecuteTime": {
     "end_time": "2024-08-18T05:18:06.132163600Z",
     "start_time": "2024-08-18T05:18:06.006885200Z"
    }
   },
   "id": "cb81203c10a9eb95"
  },
  {
   "cell_type": "code",
   "execution_count": 78,
   "outputs": [],
   "source": [
    "np.save('E:/07 3D Dataset/validation_data_3d_left.npy', validation_data_3d_left)\n",
    "np.save('E:/07 3D Dataset/validation_data_3d_right.npy', validation_data_3d_right)\n",
    "np.save('E:/07 3D Dataset/validation_labels_3d.npy', validation_labels_3d)"
   ],
   "metadata": {
    "collapsed": false,
    "ExecuteTime": {
     "end_time": "2024-08-18T05:18:07.185514400Z",
     "start_time": "2024-08-18T05:18:07.057413900Z"
    }
   },
   "id": "acbe54aca875d32f"
  },
  {
   "cell_type": "code",
   "execution_count": 85,
   "outputs": [],
   "source": [
    "data_path = \"E:/Resampled ALL Dimensions 3D NRRD Dataset/\"\n",
    "test_data_3d_right, test_data_3d_left, test_labels_3d = create_3d_test_validation(data_path, test_set_info)"
   ],
   "metadata": {
    "collapsed": false,
    "ExecuteTime": {
     "end_time": "2024-08-18T05:22:57.115748900Z",
     "start_time": "2024-08-18T05:22:56.909248200Z"
    }
   },
   "id": "8b071e3af72a3751"
  },
  {
   "cell_type": "code",
   "execution_count": null,
   "outputs": [],
   "source": [
    "np.save('E:/07 3D Dataset/test_data_3d_right.npy', test_data_3d_right)\n",
    "np.save('E:/07 3D Dataset/test_data_3d_left.npy', test_data_3d_left)\n",
    "np.save('E:/07 3D Dataset/test_labels_3d.npy', test_labels_3d)"
   ],
   "metadata": {
    "collapsed": false
   },
   "id": "e69cdf14f8785d68"
  }
 ],
 "metadata": {
  "kernelspec": {
   "display_name": "Python 3",
   "language": "python",
   "name": "python3"
  },
  "language_info": {
   "codemirror_mode": {
    "name": "ipython",
    "version": 2
   },
   "file_extension": ".py",
   "mimetype": "text/x-python",
   "name": "python",
   "nbconvert_exporter": "python",
   "pygments_lexer": "ipython2",
   "version": "2.7.6"
  }
 },
 "nbformat": 4,
 "nbformat_minor": 5
}
